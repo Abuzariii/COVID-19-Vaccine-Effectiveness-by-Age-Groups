{
  "cells": [
    {
      "cell_type": "code",
      "execution_count": 1,
      "metadata": {
        "id": "HNq6gtld5z8n"
      },
      "outputs": [],
      "source": [
        "import pandas as pd\n",
        "import numpy as np\n",
        "import seaborn as sns"
      ]
    },
    {
      "cell_type": "code",
      "source": [
        "import warnings\n",
        "warnings.filterwarnings('ignore')\n",
        "warnings.simplefilter('ignore')"
      ],
      "metadata": {
        "id": "pLnfRwVAqeXW"
      },
      "execution_count": 2,
      "outputs": []
    },
    {
      "cell_type": "markdown",
      "source": [
        "#Dataset"
      ],
      "metadata": {
        "id": "bn5dn5SFAikF"
      }
    },
    {
      "cell_type": "code",
      "execution_count": 3,
      "metadata": {
        "id": "aV1farN15_-I"
      },
      "outputs": [],
      "source": [
        "df = pd.read_csv('COVID Data.csv')"
      ]
    },
    {
      "cell_type": "code",
      "execution_count": 4,
      "metadata": {
        "colab": {
          "base_uri": "https://localhost:8080/"
        },
        "id": "eBJ8U1Mq6qos",
        "outputId": "a5fe067c-8a54-465d-ef87-4a6780561aa5"
      },
      "outputs": [
        {
          "output_type": "execute_result",
          "data": {
            "text/plain": [
              "(5331, 5)"
            ]
          },
          "metadata": {},
          "execution_count": 4
        }
      ],
      "source": [
        "df.shape"
      ]
    },
    {
      "cell_type": "markdown",
      "source": [
        "#Preprocessing"
      ],
      "metadata": {
        "id": "PwQBOipFAnhN"
      }
    },
    {
      "cell_type": "code",
      "execution_count": 5,
      "metadata": {
        "colab": {
          "base_uri": "https://localhost:8080/"
        },
        "id": "RwD44Z-y6xdm",
        "outputId": "37aa3f24-0ca7-4c96-81e5-d53d3f866ba7"
      },
      "outputs": [
        {
          "output_type": "execute_result",
          "data": {
            "text/plain": [
              "Date Administered                   0\n",
              "AgeGroupVacc                        0\n",
              "7-day_avg_group_cases_per_100k      0\n",
              "Administered_Dose1_pct_agegroup     0\n",
              "Series_Complete_Pop_pct_agegroup    0\n",
              "dtype: int64"
            ]
          },
          "metadata": {},
          "execution_count": 5
        }
      ],
      "source": [
        "df.isnull().sum()"
      ]
    },
    {
      "cell_type": "code",
      "execution_count": 6,
      "metadata": {
        "colab": {
          "base_uri": "https://localhost:8080/",
          "height": 206
        },
        "id": "F2rp-Cxn_mku",
        "outputId": "3f6a3181-7ed4-4ba1-c507-804b7381f8da"
      },
      "outputs": [
        {
          "output_type": "execute_result",
          "data": {
            "text/plain": [
              "        Date Administered   AgeGroupVacc  7-day_avg_group_cases_per_100k  \\\n",
              "0  10/11/2022 12:00:00 AM       <2 Years                        2.091826   \n",
              "1  10/11/2022 12:00:00 AM  12 - 17 Years                        2.389293   \n",
              "2  10/11/2022 12:00:00 AM  25 - 49 Years                        4.375377   \n",
              "3  10/10/2022 12:00:00 AM       <2 Years                        2.888181   \n",
              "4  10/10/2022 12:00:00 AM    2 - 4 Years                        3.362708   \n",
              "\n",
              "   Administered_Dose1_pct_agegroup  Series_Complete_Pop_pct_agegroup  \n",
              "0                            0.052                             0.017  \n",
              "1                            0.711                             0.608  \n",
              "2                            0.840                             0.710  \n",
              "3                            0.052                             0.017  \n",
              "4                            0.080                             0.032  "
            ],
            "text/html": [
              "\n",
              "  <div id=\"df-b4434d6c-47f0-43af-b12f-ec67ef6723c0\">\n",
              "    <div class=\"colab-df-container\">\n",
              "      <div>\n",
              "<style scoped>\n",
              "    .dataframe tbody tr th:only-of-type {\n",
              "        vertical-align: middle;\n",
              "    }\n",
              "\n",
              "    .dataframe tbody tr th {\n",
              "        vertical-align: top;\n",
              "    }\n",
              "\n",
              "    .dataframe thead th {\n",
              "        text-align: right;\n",
              "    }\n",
              "</style>\n",
              "<table border=\"1\" class=\"dataframe\">\n",
              "  <thead>\n",
              "    <tr style=\"text-align: right;\">\n",
              "      <th></th>\n",
              "      <th>Date Administered</th>\n",
              "      <th>AgeGroupVacc</th>\n",
              "      <th>7-day_avg_group_cases_per_100k</th>\n",
              "      <th>Administered_Dose1_pct_agegroup</th>\n",
              "      <th>Series_Complete_Pop_pct_agegroup</th>\n",
              "    </tr>\n",
              "  </thead>\n",
              "  <tbody>\n",
              "    <tr>\n",
              "      <th>0</th>\n",
              "      <td>10/11/2022 12:00:00 AM</td>\n",
              "      <td>&lt;2 Years</td>\n",
              "      <td>2.091826</td>\n",
              "      <td>0.052</td>\n",
              "      <td>0.017</td>\n",
              "    </tr>\n",
              "    <tr>\n",
              "      <th>1</th>\n",
              "      <td>10/11/2022 12:00:00 AM</td>\n",
              "      <td>12 - 17 Years</td>\n",
              "      <td>2.389293</td>\n",
              "      <td>0.711</td>\n",
              "      <td>0.608</td>\n",
              "    </tr>\n",
              "    <tr>\n",
              "      <th>2</th>\n",
              "      <td>10/11/2022 12:00:00 AM</td>\n",
              "      <td>25 - 49 Years</td>\n",
              "      <td>4.375377</td>\n",
              "      <td>0.840</td>\n",
              "      <td>0.710</td>\n",
              "    </tr>\n",
              "    <tr>\n",
              "      <th>3</th>\n",
              "      <td>10/10/2022 12:00:00 AM</td>\n",
              "      <td>&lt;2 Years</td>\n",
              "      <td>2.888181</td>\n",
              "      <td>0.052</td>\n",
              "      <td>0.017</td>\n",
              "    </tr>\n",
              "    <tr>\n",
              "      <th>4</th>\n",
              "      <td>10/10/2022 12:00:00 AM</td>\n",
              "      <td>2 - 4 Years</td>\n",
              "      <td>3.362708</td>\n",
              "      <td>0.080</td>\n",
              "      <td>0.032</td>\n",
              "    </tr>\n",
              "  </tbody>\n",
              "</table>\n",
              "</div>\n",
              "      <button class=\"colab-df-convert\" onclick=\"convertToInteractive('df-b4434d6c-47f0-43af-b12f-ec67ef6723c0')\"\n",
              "              title=\"Convert this dataframe to an interactive table.\"\n",
              "              style=\"display:none;\">\n",
              "        \n",
              "  <svg xmlns=\"http://www.w3.org/2000/svg\" height=\"24px\"viewBox=\"0 0 24 24\"\n",
              "       width=\"24px\">\n",
              "    <path d=\"M0 0h24v24H0V0z\" fill=\"none\"/>\n",
              "    <path d=\"M18.56 5.44l.94 2.06.94-2.06 2.06-.94-2.06-.94-.94-2.06-.94 2.06-2.06.94zm-11 1L8.5 8.5l.94-2.06 2.06-.94-2.06-.94L8.5 2.5l-.94 2.06-2.06.94zm10 10l.94 2.06.94-2.06 2.06-.94-2.06-.94-.94-2.06-.94 2.06-2.06.94z\"/><path d=\"M17.41 7.96l-1.37-1.37c-.4-.4-.92-.59-1.43-.59-.52 0-1.04.2-1.43.59L10.3 9.45l-7.72 7.72c-.78.78-.78 2.05 0 2.83L4 21.41c.39.39.9.59 1.41.59.51 0 1.02-.2 1.41-.59l7.78-7.78 2.81-2.81c.8-.78.8-2.07 0-2.86zM5.41 20L4 18.59l7.72-7.72 1.47 1.35L5.41 20z\"/>\n",
              "  </svg>\n",
              "      </button>\n",
              "      \n",
              "  <style>\n",
              "    .colab-df-container {\n",
              "      display:flex;\n",
              "      flex-wrap:wrap;\n",
              "      gap: 12px;\n",
              "    }\n",
              "\n",
              "    .colab-df-convert {\n",
              "      background-color: #E8F0FE;\n",
              "      border: none;\n",
              "      border-radius: 50%;\n",
              "      cursor: pointer;\n",
              "      display: none;\n",
              "      fill: #1967D2;\n",
              "      height: 32px;\n",
              "      padding: 0 0 0 0;\n",
              "      width: 32px;\n",
              "    }\n",
              "\n",
              "    .colab-df-convert:hover {\n",
              "      background-color: #E2EBFA;\n",
              "      box-shadow: 0px 1px 2px rgba(60, 64, 67, 0.3), 0px 1px 3px 1px rgba(60, 64, 67, 0.15);\n",
              "      fill: #174EA6;\n",
              "    }\n",
              "\n",
              "    [theme=dark] .colab-df-convert {\n",
              "      background-color: #3B4455;\n",
              "      fill: #D2E3FC;\n",
              "    }\n",
              "\n",
              "    [theme=dark] .colab-df-convert:hover {\n",
              "      background-color: #434B5C;\n",
              "      box-shadow: 0px 1px 3px 1px rgba(0, 0, 0, 0.15);\n",
              "      filter: drop-shadow(0px 1px 2px rgba(0, 0, 0, 0.3));\n",
              "      fill: #FFFFFF;\n",
              "    }\n",
              "  </style>\n",
              "\n",
              "      <script>\n",
              "        const buttonEl =\n",
              "          document.querySelector('#df-b4434d6c-47f0-43af-b12f-ec67ef6723c0 button.colab-df-convert');\n",
              "        buttonEl.style.display =\n",
              "          google.colab.kernel.accessAllowed ? 'block' : 'none';\n",
              "\n",
              "        async function convertToInteractive(key) {\n",
              "          const element = document.querySelector('#df-b4434d6c-47f0-43af-b12f-ec67ef6723c0');\n",
              "          const dataTable =\n",
              "            await google.colab.kernel.invokeFunction('convertToInteractive',\n",
              "                                                     [key], {});\n",
              "          if (!dataTable) return;\n",
              "\n",
              "          const docLinkHtml = 'Like what you see? Visit the ' +\n",
              "            '<a target=\"_blank\" href=https://colab.research.google.com/notebooks/data_table.ipynb>data table notebook</a>'\n",
              "            + ' to learn more about interactive tables.';\n",
              "          element.innerHTML = '';\n",
              "          dataTable['output_type'] = 'display_data';\n",
              "          await google.colab.output.renderOutput(dataTable, element);\n",
              "          const docLink = document.createElement('div');\n",
              "          docLink.innerHTML = docLinkHtml;\n",
              "          element.appendChild(docLink);\n",
              "        }\n",
              "      </script>\n",
              "    </div>\n",
              "  </div>\n",
              "  "
            ]
          },
          "metadata": {},
          "execution_count": 6
        }
      ],
      "source": [
        "df.head()"
      ]
    },
    {
      "cell_type": "code",
      "source": [
        "print(\"Average Cases: \", df['7-day_avg_group_cases_per_100k'].mean())\n",
        "print(\"Minimum Cases: \", df['7-day_avg_group_cases_per_100k'].min())\n",
        "print(\"Maximum Cases: \", df['7-day_avg_group_cases_per_100k'].max())"
      ],
      "metadata": {
        "colab": {
          "base_uri": "https://localhost:8080/"
        },
        "id": "CQeBY-uVuMmT",
        "outputId": "78af441f-d4bf-4987-c157-cc86e2cf8469"
      },
      "execution_count": 7,
      "outputs": [
        {
          "output_type": "stream",
          "name": "stdout",
          "text": [
            "Average Cases:  30.625570325845523\n",
            "Minimum Cases:  1.62491137761832\n",
            "Maximum Cases:  300.7184049961944\n"
          ]
        }
      ]
    },
    {
      "cell_type": "code",
      "source": [
        "import matplotlib.pyplot as plt\n",
        "\n",
        "plt.hist(df['7-day_avg_group_cases_per_100k'], bins=5)\n",
        "plt.xlabel('Values')\n",
        "plt.ylabel('Frequency')\n",
        "plt.title('Value Distribution in Column ')\n",
        "plt.show()"
      ],
      "metadata": {
        "colab": {
          "base_uri": "https://localhost:8080/",
          "height": 295
        },
        "id": "_OuQa2bT2lWm",
        "outputId": "1ad5f098-962e-41ef-db60-c0cd64f9bf1d"
      },
      "execution_count": 8,
      "outputs": [
        {
          "output_type": "display_data",
          "data": {
            "text/plain": [
              "<Figure size 432x288 with 1 Axes>"
            ],
            "image/png": "[encoded data removed]"
          },
          "metadata": {
            "needs_background": "light"
          }
        }
      ]
    },
    {
      "cell_type": "code",
      "source": [
        "df[df['7-day_avg_group_cases_per_100k']>299].head()"
      ],
      "metadata": {
        "colab": {
          "base_uri": "https://localhost:8080/",
          "height": 112
        },
        "id": "4vxfIZQxuzqg",
        "outputId": "0eb363b3-1a80-48d0-ca9d-8d1d5275b13e"
      },
      "execution_count": 9,
      "outputs": [
        {
          "output_type": "execute_result",
          "data": {
            "text/plain": [
              "           Date Administered   AgeGroupVacc  7-day_avg_group_cases_per_100k  \\\n",
              "2199  01/09/2022 12:00:00 AM  18 - 24 Years                      300.718405   \n",
              "2207  01/08/2022 12:00:00 AM  18 - 24 Years                      300.609676   \n",
              "\n",
              "      Administered_Dose1_pct_agegroup  Series_Complete_Pop_pct_agegroup  \n",
              "2199                            0.736                             0.609  \n",
              "2207                            0.736                             0.608  "
            ],
            "text/html": [
              "\n",
              "  <div id=\"df-b8339874-4fd4-4336-89fb-f51ae2a8378e\">\n",
              "    <div class=\"colab-df-container\">\n",
              "      <div>\n",
              "<style scoped>\n",
              "    .dataframe tbody tr th:only-of-type {\n",
              "        vertical-align: middle;\n",
              "    }\n",
              "\n",
              "    .dataframe tbody tr th {\n",
              "        vertical-align: top;\n",
              "    }\n",
              "\n",
              "    .dataframe thead th {\n",
              "        text-align: right;\n",
              "    }\n",
              "</style>\n",
              "<table border=\"1\" class=\"dataframe\">\n",
              "  <thead>\n",
              "    <tr style=\"text-align: right;\">\n",
              "      <th></th>\n",
              "      <th>Date Administered</th>\n",
              "      <th>AgeGroupVacc</th>\n",
              "      <th>7-day_avg_group_cases_per_100k</th>\n",
              "      <th>Administered_Dose1_pct_agegroup</th>\n",
              "      <th>Series_Complete_Pop_pct_agegroup</th>\n",
              "    </tr>\n",
              "  </thead>\n",
              "  <tbody>\n",
              "    <tr>\n",
              "      <th>2199</th>\n",
              "      <td>01/09/2022 12:00:00 AM</td>\n",
              "      <td>18 - 24 Years</td>\n",
              "      <td>300.718405</td>\n",
              "      <td>0.736</td>\n",
              "      <td>0.609</td>\n",
              "    </tr>\n",
              "    <tr>\n",
              "      <th>2207</th>\n",
              "      <td>01/08/2022 12:00:00 AM</td>\n",
              "      <td>18 - 24 Years</td>\n",
              "      <td>300.609676</td>\n",
              "      <td>0.736</td>\n",
              "      <td>0.608</td>\n",
              "    </tr>\n",
              "  </tbody>\n",
              "</table>\n",
              "</div>\n",
              "      <button class=\"colab-df-convert\" onclick=\"convertToInteractive('df-b8339874-4fd4-4336-89fb-f51ae2a8378e')\"\n",
              "              title=\"Convert this dataframe to an interactive table.\"\n",
              "              style=\"display:none;\">\n",
              "        \n",
              "  <svg xmlns=\"http://www.w3.org/2000/svg\" height=\"24px\"viewBox=\"0 0 24 24\"\n",
              "       width=\"24px\">\n",
              "    <path d=\"M0 0h24v24H0V0z\" fill=\"none\"/>\n",
              "    <path d=\"M18.56 5.44l.94 2.06.94-2.06 2.06-.94-2.06-.94-.94-2.06-.94 2.06-2.06.94zm-11 1L8.5 8.5l.94-2.06 2.06-.94-2.06-.94L8.5 2.5l-.94 2.06-2.06.94zm10 10l.94 2.06.94-2.06 2.06-.94-2.06-.94-.94-2.06-.94 2.06-2.06.94z\"/><path d=\"M17.41 7.96l-1.37-1.37c-.4-.4-.92-.59-1.43-.59-.52 0-1.04.2-1.43.59L10.3 9.45l-7.72 7.72c-.78.78-.78 2.05 0 2.83L4 21.41c.39.39.9.59 1.41.59.51 0 1.02-.2 1.41-.59l7.78-7.78 2.81-2.81c.8-.78.8-2.07 0-2.86zM5.41 20L4 18.59l7.72-7.72 1.47 1.35L5.41 20z\"/>\n",
              "  </svg>\n",
              "      </button>\n",
              "      \n",
              "  <style>\n",
              "    .colab-df-container {\n",
              "      display:flex;\n",
              "      flex-wrap:wrap;\n",
              "      gap: 12px;\n",
              "    }\n",
              "\n",
              "    .colab-df-convert {\n",
              "      background-color: #E8F0FE;\n",
              "      border: none;\n",
              "      border-radius: 50%;\n",
              "      cursor: pointer;\n",
              "      display: none;\n",
              "      fill: #1967D2;\n",
              "      height: 32px;\n",
              "      padding: 0 0 0 0;\n",
              "      width: 32px;\n",
              "    }\n",
              "\n",
              "    .colab-df-convert:hover {\n",
              "      background-color: #E2EBFA;\n",
              "      box-shadow: 0px 1px 2px rgba(60, 64, 67, 0.3), 0px 1px 3px 1px rgba(60, 64, 67, 0.15);\n",
              "      fill: #174EA6;\n",
              "    }\n",
              "\n",
              "    [theme=dark] .colab-df-convert {\n",
              "      background-color: #3B4455;\n",
              "      fill: #D2E3FC;\n",
              "    }\n",
              "\n",
              "    [theme=dark] .colab-df-convert:hover {\n",
              "      background-color: #434B5C;\n",
              "      box-shadow: 0px 1px 3px 1px rgba(0, 0, 0, 0.15);\n",
              "      filter: drop-shadow(0px 1px 2px rgba(0, 0, 0, 0.3));\n",
              "      fill: #FFFFFF;\n",
              "    }\n",
              "  </style>\n",
              "\n",
              "      <script>\n",
              "        const buttonEl =\n",
              "          document.querySelector('#df-b8339874-4fd4-4336-89fb-f51ae2a8378e button.colab-df-convert');\n",
              "        buttonEl.style.display =\n",
              "          google.colab.kernel.accessAllowed ? 'block' : 'none';\n",
              "\n",
              "        async function convertToInteractive(key) {\n",
              "          const element = document.querySelector('#df-b8339874-4fd4-4336-89fb-f51ae2a8378e');\n",
              "          const dataTable =\n",
              "            await google.colab.kernel.invokeFunction('convertToInteractive',\n",
              "                                                     [key], {});\n",
              "          if (!dataTable) return;\n",
              "\n",
              "          const docLinkHtml = 'Like what you see? Visit the ' +\n",
              "            '<a target=\"_blank\" href=https://colab.research.google.com/notebooks/data_table.ipynb>data table notebook</a>'\n",
              "            + ' to learn more about interactive tables.';\n",
              "          element.innerHTML = '';\n",
              "          dataTable['output_type'] = 'display_data';\n",
              "          await google.colab.output.renderOutput(dataTable, element);\n",
              "          const docLink = document.createElement('div');\n",
              "          docLink.innerHTML = docLinkHtml;\n",
              "          element.appendChild(docLink);\n",
              "        }\n",
              "      </script>\n",
              "    </div>\n",
              "  </div>\n",
              "  "
            ]
          },
          "metadata": {},
          "execution_count": 9
        }
      ]
    },
    {
      "cell_type": "code",
      "source": [
        "df_filtered = df[(df['Administered_Dose1_pct_agegroup'] == 0) & (df['Series_Complete_Pop_pct_agegroup'] == 0)]\n",
        "\n",
        "df_filtered.shape"
      ],
      "metadata": {
        "colab": {
          "base_uri": "https://localhost:8080/"
        },
        "id": "SYORwxl2rqb2",
        "outputId": "fcf0f638-9746-4e8e-a28c-950b385a3c54"
      },
      "execution_count": 10,
      "outputs": [
        {
          "output_type": "execute_result",
          "data": {
            "text/plain": [
              "(1299, 5)"
            ]
          },
          "metadata": {},
          "execution_count": 10
        }
      ]
    },
    {
      "cell_type": "code",
      "execution_count": 11,
      "metadata": {
        "id": "X0sYL7b47Kte",
        "colab": {
          "base_uri": "https://localhost:8080/"
        },
        "outputId": "f4690248-c182-48a1-91d5-2fbd4f70161e"
      },
      "outputs": [
        {
          "output_type": "execute_result",
          "data": {
            "text/plain": [
              "(1142, 5)"
            ]
          },
          "metadata": {},
          "execution_count": 11
        }
      ],
      "source": [
        "df[df['Series_Complete_Pop_pct_agegroup'] >= 0.7].shape"
      ]
    },
    {
      "cell_type": "code",
      "source": [
        "print(df['AgeGroupVacc'].value_counts())\n",
        "print(\"_____________________________\")\n",
        "print(len(df['AgeGroupVacc'].unique()))"
      ],
      "metadata": {
        "colab": {
          "base_uri": "https://localhost:8080/"
        },
        "id": "_CDK4-c1DJEw",
        "outputId": "0138a1bf-5871-4764-9529-5851418aa9af"
      },
      "execution_count": 12,
      "outputs": [
        {
          "output_type": "stream",
          "name": "stdout",
          "text": [
            "<2 Years         667\n",
            "12 - 17 Years    667\n",
            "25 - 49 Years    667\n",
            "2 - 4 Years      666\n",
            "5 - 11 Years     666\n",
            "18 - 24 Years    666\n",
            "50 - 64 Years    666\n",
            "65+ Years        666\n",
            "Name: AgeGroupVacc, dtype: int64\n",
            "_____________________________\n",
            "8\n"
          ]
        }
      ]
    },
    {
      "cell_type": "code",
      "execution_count": 13,
      "metadata": {
        "colab": {
          "base_uri": "https://localhost:8080/",
          "height": 206
        },
        "id": "Otv2o15Q8pYH",
        "outputId": "9756fa00-a4f8-4664-f52a-2b5ea0595082"
      },
      "outputs": [
        {
          "output_type": "execute_result",
          "data": {
            "text/plain": [
              "        Date Administered   AgeGroupVacc  7-day_avg_group_cases_per_100k  \\\n",
              "0  10/11/2022 12:00:00 AM       <2 Years                        2.091826   \n",
              "1  10/11/2022 12:00:00 AM  12 - 17 Years                        2.389293   \n",
              "2  10/11/2022 12:00:00 AM  25 - 49 Years                        4.375377   \n",
              "3  10/10/2022 12:00:00 AM       <2 Years                        2.888181   \n",
              "4  10/10/2022 12:00:00 AM    2 - 4 Years                        3.362708   \n",
              "\n",
              "   Administered_Dose1_pct_agegroup  Series_Complete_Pop_pct_agegroup  \n",
              "0                            0.052                             0.017  \n",
              "1                            0.711                             0.608  \n",
              "2                            0.840                             0.710  \n",
              "3                            0.052                             0.017  \n",
              "4                            0.080                             0.032  "
            ],
            "text/html": [
              "\n",
              "  <div id=\"df-58e60469-30b9-47e8-855a-ff730288a6d2\">\n",
              "    <div class=\"colab-df-container\">\n",
              "      <div>\n",
              "<style scoped>\n",
              "    .dataframe tbody tr th:only-of-type {\n",
              "        vertical-align: middle;\n",
              "    }\n",
              "\n",
              "    .dataframe tbody tr th {\n",
              "        vertical-align: top;\n",
              "    }\n",
              "\n",
              "    .dataframe thead th {\n",
              "        text-align: right;\n",
              "    }\n",
              "</style>\n",
              "<table border=\"1\" class=\"dataframe\">\n",
              "  <thead>\n",
              "    <tr style=\"text-align: right;\">\n",
              "      <th></th>\n",
              "      <th>Date Administered</th>\n",
              "      <th>AgeGroupVacc</th>\n",
              "      <th>7-day_avg_group_cases_per_100k</th>\n",
              "      <th>Administered_Dose1_pct_agegroup</th>\n",
              "      <th>Series_Complete_Pop_pct_agegroup</th>\n",
              "    </tr>\n",
              "  </thead>\n",
              "  <tbody>\n",
              "    <tr>\n",
              "      <th>0</th>\n",
              "      <td>10/11/2022 12:00:00 AM</td>\n",
              "      <td>&lt;2 Years</td>\n",
              "      <td>2.091826</td>\n",
              "      <td>0.052</td>\n",
              "      <td>0.017</td>\n",
              "    </tr>\n",
              "    <tr>\n",
              "      <th>1</th>\n",
              "      <td>10/11/2022 12:00:00 AM</td>\n",
              "      <td>12 - 17 Years</td>\n",
              "      <td>2.389293</td>\n",
              "      <td>0.711</td>\n",
              "      <td>0.608</td>\n",
              "    </tr>\n",
              "    <tr>\n",
              "      <th>2</th>\n",
              "      <td>10/11/2022 12:00:00 AM</td>\n",
              "      <td>25 - 49 Years</td>\n",
              "      <td>4.375377</td>\n",
              "      <td>0.840</td>\n",
              "      <td>0.710</td>\n",
              "    </tr>\n",
              "    <tr>\n",
              "      <th>3</th>\n",
              "      <td>10/10/2022 12:00:00 AM</td>\n",
              "      <td>&lt;2 Years</td>\n",
              "      <td>2.888181</td>\n",
              "      <td>0.052</td>\n",
              "      <td>0.017</td>\n",
              "    </tr>\n",
              "    <tr>\n",
              "      <th>4</th>\n",
              "      <td>10/10/2022 12:00:00 AM</td>\n",
              "      <td>2 - 4 Years</td>\n",
              "      <td>3.362708</td>\n",
              "      <td>0.080</td>\n",
              "      <td>0.032</td>\n",
              "    </tr>\n",
              "  </tbody>\n",
              "</table>\n",
              "</div>\n",
              "      <button class=\"colab-df-convert\" onclick=\"convertToInteractive('df-58e60469-30b9-47e8-855a-ff730288a6d2')\"\n",
              "              title=\"Convert this dataframe to an interactive table.\"\n",
              "              style=\"display:none;\">\n",
              "        \n",
              "  <svg xmlns=\"http://www.w3.org/2000/svg\" height=\"24px\"viewBox=\"0 0 24 24\"\n",
              "       width=\"24px\">\n",
              "    <path d=\"M0 0h24v24H0V0z\" fill=\"none\"/>\n",
              "    <path d=\"M18.56 5.44l.94 2.06.94-2.06 2.06-.94-2.06-.94-.94-2.06-.94 2.06-2.06.94zm-11 1L8.5 8.5l.94-2.06 2.06-.94-2.06-.94L8.5 2.5l-.94 2.06-2.06.94zm10 10l.94 2.06.94-2.06 2.06-.94-2.06-.94-.94-2.06-.94 2.06-2.06.94z\"/><path d=\"M17.41 7.96l-1.37-1.37c-.4-.4-.92-.59-1.43-.59-.52 0-1.04.2-1.43.59L10.3 9.45l-7.72 7.72c-.78.78-.78 2.05 0 2.83L4 21.41c.39.39.9.59 1.41.59.51 0 1.02-.2 1.41-.59l7.78-7.78 2.81-2.81c.8-.78.8-2.07 0-2.86zM5.41 20L4 18.59l7.72-7.72 1.47 1.35L5.41 20z\"/>\n",
              "  </svg>\n",
              "      </button>\n",
              "      \n",
              "  <style>\n",
              "    .colab-df-container {\n",
              "      display:flex;\n",
              "      flex-wrap:wrap;\n",
              "      gap: 12px;\n",
              "    }\n",
              "\n",
              "    .colab-df-convert {\n",
              "      background-color: #E8F0FE;\n",
              "      border: none;\n",
              "      border-radius: 50%;\n",
              "      cursor: pointer;\n",
              "      display: none;\n",
              "      fill: #1967D2;\n",
              "      height: 32px;\n",
              "      padding: 0 0 0 0;\n",
              "      width: 32px;\n",
              "    }\n",
              "\n",
              "    .colab-df-convert:hover {\n",
              "      background-color: #E2EBFA;\n",
              "      box-shadow: 0px 1px 2px rgba(60, 64, 67, 0.3), 0px 1px 3px 1px rgba(60, 64, 67, 0.15);\n",
              "      fill: #174EA6;\n",
              "    }\n",
              "\n",
              "    [theme=dark] .colab-df-convert {\n",
              "      background-color: #3B4455;\n",
              "      fill: #D2E3FC;\n",
              "    }\n",
              "\n",
              "    [theme=dark] .colab-df-convert:hover {\n",
              "      background-color: #434B5C;\n",
              "      box-shadow: 0px 1px 3px 1px rgba(0, 0, 0, 0.15);\n",
              "      filter: drop-shadow(0px 1px 2px rgba(0, 0, 0, 0.3));\n",
              "      fill: #FFFFFF;\n",
              "    }\n",
              "  </style>\n",
              "\n",
              "      <script>\n",
              "        const buttonEl =\n",
              "          document.querySelector('#df-58e60469-30b9-47e8-855a-ff730288a6d2 button.colab-df-convert');\n",
              "        buttonEl.style.display =\n",
              "          google.colab.kernel.accessAllowed ? 'block' : 'none';\n",
              "\n",
              "        async function convertToInteractive(key) {\n",
              "          const element = document.querySelector('#df-58e60469-30b9-47e8-855a-ff730288a6d2');\n",
              "          const dataTable =\n",
              "            await google.colab.kernel.invokeFunction('convertToInteractive',\n",
              "                                                     [key], {});\n",
              "          if (!dataTable) return;\n",
              "\n",
              "          const docLinkHtml = 'Like what you see? Visit the ' +\n",
              "            '<a target=\"_blank\" href=https://colab.research.google.com/notebooks/data_table.ipynb>data table notebook</a>'\n",
              "            + ' to learn more about interactive tables.';\n",
              "          element.innerHTML = '';\n",
              "          dataTable['output_type'] = 'display_data';\n",
              "          await google.colab.output.renderOutput(dataTable, element);\n",
              "          const docLink = document.createElement('div');\n",
              "          docLink.innerHTML = docLinkHtml;\n",
              "          element.appendChild(docLink);\n",
              "        }\n",
              "      </script>\n",
              "    </div>\n",
              "  </div>\n",
              "  "
            ]
          },
          "metadata": {},
          "execution_count": 13
        }
      ],
      "source": [
        "df.head()"
      ]
    },
    {
      "cell_type": "code",
      "execution_count": 14,
      "metadata": {
        "colab": {
          "base_uri": "https://localhost:8080/"
        },
        "id": "ojX8nuq48qg-",
        "outputId": "01e5e085-ba3a-4654-c26f-a24a9c87fe24"
      },
      "outputs": [
        {
          "output_type": "execute_result",
          "data": {
            "text/plain": [
              "Date Administered                   0\n",
              "AgeGroupVacc                        0\n",
              "7-day_avg_group_cases_per_100k      0\n",
              "Administered_Dose1_pct_agegroup     0\n",
              "Series_Complete_Pop_pct_agegroup    0\n",
              "dtype: int64"
            ]
          },
          "metadata": {},
          "execution_count": 14
        }
      ],
      "source": [
        "df.isnull().sum()"
      ]
    },
    {
      "cell_type": "markdown",
      "source": [
        "##Noise"
      ],
      "metadata": {
        "id": "m4hARQj-tO8R"
      }
    },
    {
      "cell_type": "code",
      "source": [
        "# Generate random normal distribution values\n",
        "values = np.random.normal(0, 1, size=len(df))\n",
        "# Set a threshold value\n",
        "threshold = 0\n",
        "# Convert values to binary\n",
        "a = np.where(values >= threshold, 1, 0)"
      ],
      "metadata": {
        "id": "bhdOLHoytQT_"
      },
      "execution_count": 15,
      "outputs": []
    },
    {
      "cell_type": "markdown",
      "source": [
        "#Feature Selection"
      ],
      "metadata": {
        "id": "EBSWzSK6eoDc"
      }
    },
    {
      "cell_type": "markdown",
      "source": [
        "##Correlation Matrix"
      ],
      "metadata": {
        "id": "Ku027E5tBb-8"
      }
    },
    {
      "cell_type": "code",
      "source": [
        "corr_matrix = df.corr()\n",
        "\n",
        "print(corr_matrix)"
      ],
      "metadata": {
        "id": "VOvJh9rpFqia",
        "colab": {
          "base_uri": "https://localhost:8080/"
        },
        "outputId": "6d6243bc-ff98-42aa-aa99-a481f40ddc36"
      },
      "execution_count": 16,
      "outputs": [
        {
          "output_type": "stream",
          "name": "stdout",
          "text": [
            "                                  7-day_avg_group_cases_per_100k  \\\n",
            "7-day_avg_group_cases_per_100k                          1.000000   \n",
            "Administered_Dose1_pct_agegroup                         0.068510   \n",
            "Series_Complete_Pop_pct_agegroup                        0.062031   \n",
            "\n",
            "                                  Administered_Dose1_pct_agegroup  \\\n",
            "7-day_avg_group_cases_per_100k                           0.068510   \n",
            "Administered_Dose1_pct_agegroup                          1.000000   \n",
            "Series_Complete_Pop_pct_agegroup                         0.992843   \n",
            "\n",
            "                                  Series_Complete_Pop_pct_agegroup  \n",
            "7-day_avg_group_cases_per_100k                            0.062031  \n",
            "Administered_Dose1_pct_agegroup                           0.992843  \n",
            "Series_Complete_Pop_pct_agegroup                          1.000000  \n"
          ]
        }
      ]
    },
    {
      "cell_type": "code",
      "source": [
        "import seaborn as sns\n",
        "sns.heatmap(df.corr(),annot=True)"
      ],
      "metadata": {
        "colab": {
          "base_uri": "https://localhost:8080/",
          "height": 457
        },
        "id": "bIrJvaPLA9au",
        "outputId": "e0f9250e-dbb7-45a5-a0ac-547f900fdfd2"
      },
      "execution_count": 17,
      "outputs": [
        {
          "output_type": "execute_result",
          "data": {
            "text/plain": [
              "<AxesSubplot:>"
            ]
          },
          "metadata": {},
          "execution_count": 17
        },
        {
          "output_type": "display_data",
          "data": {
            "text/plain": [
              "<Figure size 432x288 with 2 Axes>"
            ],
            "image/png": "[encoded data removed]"
          },
          "metadata": {
            "needs_background": "light"
          }
        }
      ]
    },
    {
      "cell_type": "markdown",
      "source": [
        "##Importance"
      ],
      "metadata": {
        "id": "dmaKGBE8Betd"
      }
    },
    {
      "cell_type": "code",
      "source": [
        "from sklearn.ensemble import RandomForestRegressor\n",
        "\n",
        "# Create an instance of the model\n",
        "rf = RandomForestRegressor()\n",
        "\n",
        "# Fit the model on the data\n",
        "rf.fit(df[['Series_Complete_Pop_pct_agegroup']], df['7-day_avg_group_cases_per_100k'])\n",
        "\n",
        "# Get the feature importance that column\n",
        "importance = rf.feature_importances_\n",
        "\n",
        "print(\"Importance of series column: \", importance)"
      ],
      "metadata": {
        "colab": {
          "base_uri": "https://localhost:8080/"
        },
        "id": "J9siJZhbBAss",
        "outputId": "be492f7e-6e03-4a0f-abd7-1cc02918e6be"
      },
      "execution_count": 18,
      "outputs": [
        {
          "output_type": "stream",
          "name": "stdout",
          "text": [
            "Importance of series column:  [1.]\n"
          ]
        }
      ]
    },
    {
      "cell_type": "markdown",
      "source": [
        "\n",
        "##Target Variable"
      ],
      "metadata": {
        "id": "Z-AozLBwy7ny"
      }
    },
    {
      "cell_type": "code",
      "source": [
        "# Removing unvaccinated cases\n",
        "df = df[df['Series_Complete_Pop_pct_agegroup'] != 0]\n",
        "\n",
        "df.shape"
      ],
      "metadata": {
        "colab": {
          "base_uri": "https://localhost:8080/"
        },
        "id": "6ZbEtdRz-p6R",
        "outputId": "ed1310a5-165c-4dfd-ec57-ebf28cc35fa2"
      },
      "execution_count": 19,
      "outputs": [
        {
          "output_type": "execute_result",
          "data": {
            "text/plain": [
              "(3844, 5)"
            ]
          },
          "metadata": {},
          "execution_count": 19
        }
      ]
    },
    {
      "cell_type": "code",
      "source": [
        "df['Immunity'] = (df[\"7-day_avg_group_cases_per_100k\"] < 100) & (df['Series_Complete_Pop_pct_agegroup'] > 0.65)\n",
        "\n",
        "df.head()"
      ],
      "metadata": {
        "colab": {
          "base_uri": "https://localhost:8080/",
          "height": 206
        },
        "id": "A5J2J5wd6k2N",
        "outputId": "ca49d170-2ed6-4d9d-a91a-6382047eaf03"
      },
      "execution_count": 20,
      "outputs": [
        {
          "output_type": "execute_result",
          "data": {
            "text/plain": [
              "        Date Administered   AgeGroupVacc  7-day_avg_group_cases_per_100k  \\\n",
              "0  10/11/2022 12:00:00 AM       <2 Years                        2.091826   \n",
              "1  10/11/2022 12:00:00 AM  12 - 17 Years                        2.389293   \n",
              "2  10/11/2022 12:00:00 AM  25 - 49 Years                        4.375377   \n",
              "3  10/10/2022 12:00:00 AM       <2 Years                        2.888181   \n",
              "4  10/10/2022 12:00:00 AM    2 - 4 Years                        3.362708   \n",
              "\n",
              "   Administered_Dose1_pct_agegroup  Series_Complete_Pop_pct_agegroup  Immunity  \n",
              "0                            0.052                             0.017     False  \n",
              "1                            0.711                             0.608     False  \n",
              "2                            0.840                             0.710      True  \n",
              "3                            0.052                             0.017     False  \n",
              "4                            0.080                             0.032     False  "
            ],
            "text/html": [
              "\n",
              "  <div id=\"df-8330d7e7-11c6-4bb3-bfc8-90df9f5e4975\">\n",
              "    <div class=\"colab-df-container\">\n",
              "      <div>\n",
              "<style scoped>\n",
              "    .dataframe tbody tr th:only-of-type {\n",
              "        vertical-align: middle;\n",
              "    }\n",
              "\n",
              "    .dataframe tbody tr th {\n",
              "        vertical-align: top;\n",
              "    }\n",
              "\n",
              "    .dataframe thead th {\n",
              "        text-align: right;\n",
              "    }\n",
              "</style>\n",
              "<table border=\"1\" class=\"dataframe\">\n",
              "  <thead>\n",
              "    <tr style=\"text-align: right;\">\n",
              "      <th></th>\n",
              "      <th>Date Administered</th>\n",
              "      <th>AgeGroupVacc</th>\n",
              "      <th>7-day_avg_group_cases_per_100k</th>\n",
              "      <th>Administered_Dose1_pct_agegroup</th>\n",
              "      <th>Series_Complete_Pop_pct_agegroup</th>\n",
              "      <th>Immunity</th>\n",
              "    </tr>\n",
              "  </thead>\n",
              "  <tbody>\n",
              "    <tr>\n",
              "      <th>0</th>\n",
              "      <td>10/11/2022 12:00:00 AM</td>\n",
              "      <td>&lt;2 Years</td>\n",
              "      <td>2.091826</td>\n",
              "      <td>0.052</td>\n",
              "      <td>0.017</td>\n",
              "      <td>False</td>\n",
              "    </tr>\n",
              "    <tr>\n",
              "      <th>1</th>\n",
              "      <td>10/11/2022 12:00:00 AM</td>\n",
              "      <td>12 - 17 Years</td>\n",
              "      <td>2.389293</td>\n",
              "      <td>0.711</td>\n",
              "      <td>0.608</td>\n",
              "      <td>False</td>\n",
              "    </tr>\n",
              "    <tr>\n",
              "      <th>2</th>\n",
              "      <td>10/11/2022 12:00:00 AM</td>\n",
              "      <td>25 - 49 Years</td>\n",
              "      <td>4.375377</td>\n",
              "      <td>0.840</td>\n",
              "      <td>0.710</td>\n",
              "      <td>True</td>\n",
              "    </tr>\n",
              "    <tr>\n",
              "      <th>3</th>\n",
              "      <td>10/10/2022 12:00:00 AM</td>\n",
              "      <td>&lt;2 Years</td>\n",
              "      <td>2.888181</td>\n",
              "      <td>0.052</td>\n",
              "      <td>0.017</td>\n",
              "      <td>False</td>\n",
              "    </tr>\n",
              "    <tr>\n",
              "      <th>4</th>\n",
              "      <td>10/10/2022 12:00:00 AM</td>\n",
              "      <td>2 - 4 Years</td>\n",
              "      <td>3.362708</td>\n",
              "      <td>0.080</td>\n",
              "      <td>0.032</td>\n",
              "      <td>False</td>\n",
              "    </tr>\n",
              "  </tbody>\n",
              "</table>\n",
              "</div>\n",
              "      <button class=\"colab-df-convert\" onclick=\"convertToInteractive('df-8330d7e7-11c6-4bb3-bfc8-90df9f5e4975')\"\n",
              "              title=\"Convert this dataframe to an interactive table.\"\n",
              "              style=\"display:none;\">\n",
              "        \n",
              "  <svg xmlns=\"http://www.w3.org/2000/svg\" height=\"24px\"viewBox=\"0 0 24 24\"\n",
              "       width=\"24px\">\n",
              "    <path d=\"M0 0h24v24H0V0z\" fill=\"none\"/>\n",
              "    <path d=\"M18.56 5.44l.94 2.06.94-2.06 2.06-.94-2.06-.94-.94-2.06-.94 2.06-2.06.94zm-11 1L8.5 8.5l.94-2.06 2.06-.94-2.06-.94L8.5 2.5l-.94 2.06-2.06.94zm10 10l.94 2.06.94-2.06 2.06-.94-2.06-.94-.94-2.06-.94 2.06-2.06.94z\"/><path d=\"M17.41 7.96l-1.37-1.37c-.4-.4-.92-.59-1.43-.59-.52 0-1.04.2-1.43.59L10.3 9.45l-7.72 7.72c-.78.78-.78 2.05 0 2.83L4 21.41c.39.39.9.59 1.41.59.51 0 1.02-.2 1.41-.59l7.78-7.78 2.81-2.81c.8-.78.8-2.07 0-2.86zM5.41 20L4 18.59l7.72-7.72 1.47 1.35L5.41 20z\"/>\n",
              "  </svg>\n",
              "      </button>\n",
              "      \n",
              "  <style>\n",
              "    .colab-df-container {\n",
              "      display:flex;\n",
              "      flex-wrap:wrap;\n",
              "      gap: 12px;\n",
              "    }\n",
              "\n",
              "    .colab-df-convert {\n",
              "      background-color: #E8F0FE;\n",
              "      border: none;\n",
              "      border-radius: 50%;\n",
              "      cursor: pointer;\n",
              "      display: none;\n",
              "      fill: #1967D2;\n",
              "      height: 32px;\n",
              "      padding: 0 0 0 0;\n",
              "      width: 32px;\n",
              "    }\n",
              "\n",
              "    .colab-df-convert:hover {\n",
              "      background-color: #E2EBFA;\n",
              "      box-shadow: 0px 1px 2px rgba(60, 64, 67, 0.3), 0px 1px 3px 1px rgba(60, 64, 67, 0.15);\n",
              "      fill: #174EA6;\n",
              "    }\n",
              "\n",
              "    [theme=dark] .colab-df-convert {\n",
              "      background-color: #3B4455;\n",
              "      fill: #D2E3FC;\n",
              "    }\n",
              "\n",
              "    [theme=dark] .colab-df-convert:hover {\n",
              "      background-color: #434B5C;\n",
              "      box-shadow: 0px 1px 3px 1px rgba(0, 0, 0, 0.15);\n",
              "      filter: drop-shadow(0px 1px 2px rgba(0, 0, 0, 0.3));\n",
              "      fill: #FFFFFF;\n",
              "    }\n",
              "  </style>\n",
              "\n",
              "      <script>\n",
              "        const buttonEl =\n",
              "          document.querySelector('#df-8330d7e7-11c6-4bb3-bfc8-90df9f5e4975 button.colab-df-convert');\n",
              "        buttonEl.style.display =\n",
              "          google.colab.kernel.accessAllowed ? 'block' : 'none';\n",
              "\n",
              "        async function convertToInteractive(key) {\n",
              "          const element = document.querySelector('#df-8330d7e7-11c6-4bb3-bfc8-90df9f5e4975');\n",
              "          const dataTable =\n",
              "            await google.colab.kernel.invokeFunction('convertToInteractive',\n",
              "                                                     [key], {});\n",
              "          if (!dataTable) return;\n",
              "\n",
              "          const docLinkHtml = 'Like what you see? Visit the ' +\n",
              "            '<a target=\"_blank\" href=https://colab.research.google.com/notebooks/data_table.ipynb>data table notebook</a>'\n",
              "            + ' to learn more about interactive tables.';\n",
              "          element.innerHTML = '';\n",
              "          dataTable['output_type'] = 'display_data';\n",
              "          await google.colab.output.renderOutput(dataTable, element);\n",
              "          const docLink = document.createElement('div');\n",
              "          docLink.innerHTML = docLinkHtml;\n",
              "          element.appendChild(docLink);\n",
              "        }\n",
              "      </script>\n",
              "    </div>\n",
              "  </div>\n",
              "  "
            ]
          },
          "metadata": {},
          "execution_count": 20
        }
      ]
    },
    {
      "cell_type": "code",
      "source": [
        "df['Immunity'].value_counts()\n",
        "\n",
        "one = (df[\"Immunity\"].value_counts()[1].sum()/df[\"Immunity\"].value_counts()[0].sum()) * 100\n",
        "\n",
        "print(f\"Percentage of values which are one: {round(one, 2)}\")"
      ],
      "metadata": {
        "colab": {
          "base_uri": "https://localhost:8080/"
        },
        "id": "kugmlqVZ6oUH",
        "outputId": "818266e6-78bd-409d-dbdc-25b0ef6ea1b1"
      },
      "execution_count": 21,
      "outputs": [
        {
          "output_type": "stream",
          "name": "stdout",
          "text": [
            "Percentage of values which are one: 53.76\n"
          ]
        }
      ]
    },
    {
      "cell_type": "code",
      "source": [
        "df.head()"
      ],
      "metadata": {
        "colab": {
          "base_uri": "https://localhost:8080/",
          "height": 206
        },
        "id": "q1goupkH4Klx",
        "outputId": "2a846419-a323-4216-9c47-c49b35bfa8b5"
      },
      "execution_count": 22,
      "outputs": [
        {
          "output_type": "execute_result",
          "data": {
            "text/plain": [
              "        Date Administered   AgeGroupVacc  7-day_avg_group_cases_per_100k  \\\n",
              "0  10/11/2022 12:00:00 AM       <2 Years                        2.091826   \n",
              "1  10/11/2022 12:00:00 AM  12 - 17 Years                        2.389293   \n",
              "2  10/11/2022 12:00:00 AM  25 - 49 Years                        4.375377   \n",
              "3  10/10/2022 12:00:00 AM       <2 Years                        2.888181   \n",
              "4  10/10/2022 12:00:00 AM    2 - 4 Years                        3.362708   \n",
              "\n",
              "   Administered_Dose1_pct_agegroup  Series_Complete_Pop_pct_agegroup  Immunity  \n",
              "0                            0.052                             0.017     False  \n",
              "1                            0.711                             0.608     False  \n",
              "2                            0.840                             0.710      True  \n",
              "3                            0.052                             0.017     False  \n",
              "4                            0.080                             0.032     False  "
            ],
            "text/html": [
              "\n",
              "  <div id=\"df-f1a671e7-994c-4cd1-9842-7acfcf728e1d\">\n",
              "    <div class=\"colab-df-container\">\n",
              "      <div>\n",
              "<style scoped>\n",
              "    .dataframe tbody tr th:only-of-type {\n",
              "        vertical-align: middle;\n",
              "    }\n",
              "\n",
              "    .dataframe tbody tr th {\n",
              "        vertical-align: top;\n",
              "    }\n",
              "\n",
              "    .dataframe thead th {\n",
              "        text-align: right;\n",
              "    }\n",
              "</style>\n",
              "<table border=\"1\" class=\"dataframe\">\n",
              "  <thead>\n",
              "    <tr style=\"text-align: right;\">\n",
              "      <th></th>\n",
              "      <th>Date Administered</th>\n",
              "      <th>AgeGroupVacc</th>\n",
              "      <th>7-day_avg_group_cases_per_100k</th>\n",
              "      <th>Administered_Dose1_pct_agegroup</th>\n",
              "      <th>Series_Complete_Pop_pct_agegroup</th>\n",
              "      <th>Immunity</th>\n",
              "    </tr>\n",
              "  </thead>\n",
              "  <tbody>\n",
              "    <tr>\n",
              "      <th>0</th>\n",
              "      <td>10/11/2022 12:00:00 AM</td>\n",
              "      <td>&lt;2 Years</td>\n",
              "      <td>2.091826</td>\n",
              "      <td>0.052</td>\n",
              "      <td>0.017</td>\n",
              "      <td>False</td>\n",
              "    </tr>\n",
              "    <tr>\n",
              "      <th>1</th>\n",
              "      <td>10/11/2022 12:00:00 AM</td>\n",
              "      <td>12 - 17 Years</td>\n",
              "      <td>2.389293</td>\n",
              "      <td>0.711</td>\n",
              "      <td>0.608</td>\n",
              "      <td>False</td>\n",
              "    </tr>\n",
              "    <tr>\n",
              "      <th>2</th>\n",
              "      <td>10/11/2022 12:00:00 AM</td>\n",
              "      <td>25 - 49 Years</td>\n",
              "      <td>4.375377</td>\n",
              "      <td>0.840</td>\n",
              "      <td>0.710</td>\n",
              "      <td>True</td>\n",
              "    </tr>\n",
              "    <tr>\n",
              "      <th>3</th>\n",
              "      <td>10/10/2022 12:00:00 AM</td>\n",
              "      <td>&lt;2 Years</td>\n",
              "      <td>2.888181</td>\n",
              "      <td>0.052</td>\n",
              "      <td>0.017</td>\n",
              "      <td>False</td>\n",
              "    </tr>\n",
              "    <tr>\n",
              "      <th>4</th>\n",
              "      <td>10/10/2022 12:00:00 AM</td>\n",
              "      <td>2 - 4 Years</td>\n",
              "      <td>3.362708</td>\n",
              "      <td>0.080</td>\n",
              "      <td>0.032</td>\n",
              "      <td>False</td>\n",
              "    </tr>\n",
              "  </tbody>\n",
              "</table>\n",
              "</div>\n",
              "      <button class=\"colab-df-convert\" onclick=\"convertToInteractive('df-f1a671e7-994c-4cd1-9842-7acfcf728e1d')\"\n",
              "              title=\"Convert this dataframe to an interactive table.\"\n",
              "              style=\"display:none;\">\n",
              "        \n",
              "  <svg xmlns=\"http://www.w3.org/2000/svg\" height=\"24px\"viewBox=\"0 0 24 24\"\n",
              "       width=\"24px\">\n",
              "    <path d=\"M0 0h24v24H0V0z\" fill=\"none\"/>\n",
              "    <path d=\"M18.56 5.44l.94 2.06.94-2.06 2.06-.94-2.06-.94-.94-2.06-.94 2.06-2.06.94zm-11 1L8.5 8.5l.94-2.06 2.06-.94-2.06-.94L8.5 2.5l-.94 2.06-2.06.94zm10 10l.94 2.06.94-2.06 2.06-.94-2.06-.94-.94-2.06-.94 2.06-2.06.94z\"/><path d=\"M17.41 7.96l-1.37-1.37c-.4-.4-.92-.59-1.43-.59-.52 0-1.04.2-1.43.59L10.3 9.45l-7.72 7.72c-.78.78-.78 2.05 0 2.83L4 21.41c.39.39.9.59 1.41.59.51 0 1.02-.2 1.41-.59l7.78-7.78 2.81-2.81c.8-.78.8-2.07 0-2.86zM5.41 20L4 18.59l7.72-7.72 1.47 1.35L5.41 20z\"/>\n",
              "  </svg>\n",
              "      </button>\n",
              "      \n",
              "  <style>\n",
              "    .colab-df-container {\n",
              "      display:flex;\n",
              "      flex-wrap:wrap;\n",
              "      gap: 12px;\n",
              "    }\n",
              "\n",
              "    .colab-df-convert {\n",
              "      background-color: #E8F0FE;\n",
              "      border: none;\n",
              "      border-radius: 50%;\n",
              "      cursor: pointer;\n",
              "      display: none;\n",
              "      fill: #1967D2;\n",
              "      height: 32px;\n",
              "      padding: 0 0 0 0;\n",
              "      width: 32px;\n",
              "    }\n",
              "\n",
              "    .colab-df-convert:hover {\n",
              "      background-color: #E2EBFA;\n",
              "      box-shadow: 0px 1px 2px rgba(60, 64, 67, 0.3), 0px 1px 3px 1px rgba(60, 64, 67, 0.15);\n",
              "      fill: #174EA6;\n",
              "    }\n",
              "\n",
              "    [theme=dark] .colab-df-convert {\n",
              "      background-color: #3B4455;\n",
              "      fill: #D2E3FC;\n",
              "    }\n",
              "\n",
              "    [theme=dark] .colab-df-convert:hover {\n",
              "      background-color: #434B5C;\n",
              "      box-shadow: 0px 1px 3px 1px rgba(0, 0, 0, 0.15);\n",
              "      filter: drop-shadow(0px 1px 2px rgba(0, 0, 0, 0.3));\n",
              "      fill: #FFFFFF;\n",
              "    }\n",
              "  </style>\n",
              "\n",
              "      <script>\n",
              "        const buttonEl =\n",
              "          document.querySelector('#df-f1a671e7-994c-4cd1-9842-7acfcf728e1d button.colab-df-convert');\n",
              "        buttonEl.style.display =\n",
              "          google.colab.kernel.accessAllowed ? 'block' : 'none';\n",
              "\n",
              "        async function convertToInteractive(key) {\n",
              "          const element = document.querySelector('#df-f1a671e7-994c-4cd1-9842-7acfcf728e1d');\n",
              "          const dataTable =\n",
              "            await google.colab.kernel.invokeFunction('convertToInteractive',\n",
              "                                                     [key], {});\n",
              "          if (!dataTable) return;\n",
              "\n",
              "          const docLinkHtml = 'Like what you see? Visit the ' +\n",
              "            '<a target=\"_blank\" href=https://colab.research.google.com/notebooks/data_table.ipynb>data table notebook</a>'\n",
              "            + ' to learn more about interactive tables.';\n",
              "          element.innerHTML = '';\n",
              "          dataTable['output_type'] = 'display_data';\n",
              "          await google.colab.output.renderOutput(dataTable, element);\n",
              "          const docLink = document.createElement('div');\n",
              "          docLink.innerHTML = docLinkHtml;\n",
              "          element.appendChild(docLink);\n",
              "        }\n",
              "      </script>\n",
              "    </div>\n",
              "  </div>\n",
              "  "
            ]
          },
          "metadata": {},
          "execution_count": 22
        }
      ]
    },
    {
      "cell_type": "code",
      "source": [
        "f = lambda x: 1 if x==True else 0\n",
        "\n",
        "df['Immunity'] = df[['Immunity']].applymap(f)\n",
        "\n",
        "df.head()"
      ],
      "metadata": {
        "colab": {
          "base_uri": "https://localhost:8080/",
          "height": 206
        },
        "id": "qUob3q6t5zWN",
        "outputId": "636837b7-b192-4895-fb23-e2891e03f1bd"
      },
      "execution_count": 23,
      "outputs": [
        {
          "output_type": "execute_result",
          "data": {
            "text/plain": [
              "        Date Administered   AgeGroupVacc  7-day_avg_group_cases_per_100k  \\\n",
              "0  10/11/2022 12:00:00 AM       <2 Years                        2.091826   \n",
              "1  10/11/2022 12:00:00 AM  12 - 17 Years                        2.389293   \n",
              "2  10/11/2022 12:00:00 AM  25 - 49 Years                        4.375377   \n",
              "3  10/10/2022 12:00:00 AM       <2 Years                        2.888181   \n",
              "4  10/10/2022 12:00:00 AM    2 - 4 Years                        3.362708   \n",
              "\n",
              "   Administered_Dose1_pct_agegroup  Series_Complete_Pop_pct_agegroup  Immunity  \n",
              "0                            0.052                             0.017         0  \n",
              "1                            0.711                             0.608         0  \n",
              "2                            0.840                             0.710         1  \n",
              "3                            0.052                             0.017         0  \n",
              "4                            0.080                             0.032         0  "
            ],
            "text/html": [
              "\n",
              "  <div id=\"df-3956a504-8f46-4641-a744-e5f198768f12\">\n",
              "    <div class=\"colab-df-container\">\n",
              "      <div>\n",
              "<style scoped>\n",
              "    .dataframe tbody tr th:only-of-type {\n",
              "        vertical-align: middle;\n",
              "    }\n",
              "\n",
              "    .dataframe tbody tr th {\n",
              "        vertical-align: top;\n",
              "    }\n",
              "\n",
              "    .dataframe thead th {\n",
              "        text-align: right;\n",
              "    }\n",
              "</style>\n",
              "<table border=\"1\" class=\"dataframe\">\n",
              "  <thead>\n",
              "    <tr style=\"text-align: right;\">\n",
              "      <th></th>\n",
              "      <th>Date Administered</th>\n",
              "      <th>AgeGroupVacc</th>\n",
              "      <th>7-day_avg_group_cases_per_100k</th>\n",
              "      <th>Administered_Dose1_pct_agegroup</th>\n",
              "      <th>Series_Complete_Pop_pct_agegroup</th>\n",
              "      <th>Immunity</th>\n",
              "    </tr>\n",
              "  </thead>\n",
              "  <tbody>\n",
              "    <tr>\n",
              "      <th>0</th>\n",
              "      <td>10/11/2022 12:00:00 AM</td>\n",
              "      <td>&lt;2 Years</td>\n",
              "      <td>2.091826</td>\n",
              "      <td>0.052</td>\n",
              "      <td>0.017</td>\n",
              "      <td>0</td>\n",
              "    </tr>\n",
              "    <tr>\n",
              "      <th>1</th>\n",
              "      <td>10/11/2022 12:00:00 AM</td>\n",
              "      <td>12 - 17 Years</td>\n",
              "      <td>2.389293</td>\n",
              "      <td>0.711</td>\n",
              "      <td>0.608</td>\n",
              "      <td>0</td>\n",
              "    </tr>\n",
              "    <tr>\n",
              "      <th>2</th>\n",
              "      <td>10/11/2022 12:00:00 AM</td>\n",
              "      <td>25 - 49 Years</td>\n",
              "      <td>4.375377</td>\n",
              "      <td>0.840</td>\n",
              "      <td>0.710</td>\n",
              "      <td>1</td>\n",
              "    </tr>\n",
              "    <tr>\n",
              "      <th>3</th>\n",
              "      <td>10/10/2022 12:00:00 AM</td>\n",
              "      <td>&lt;2 Years</td>\n",
              "      <td>2.888181</td>\n",
              "      <td>0.052</td>\n",
              "      <td>0.017</td>\n",
              "      <td>0</td>\n",
              "    </tr>\n",
              "    <tr>\n",
              "      <th>4</th>\n",
              "      <td>10/10/2022 12:00:00 AM</td>\n",
              "      <td>2 - 4 Years</td>\n",
              "      <td>3.362708</td>\n",
              "      <td>0.080</td>\n",
              "      <td>0.032</td>\n",
              "      <td>0</td>\n",
              "    </tr>\n",
              "  </tbody>\n",
              "</table>\n",
              "</div>\n",
              "      <button class=\"colab-df-convert\" onclick=\"convertToInteractive('df-3956a504-8f46-4641-a744-e5f198768f12')\"\n",
              "              title=\"Convert this dataframe to an interactive table.\"\n",
              "              style=\"display:none;\">\n",
              "        \n",
              "  <svg xmlns=\"http://www.w3.org/2000/svg\" height=\"24px\"viewBox=\"0 0 24 24\"\n",
              "       width=\"24px\">\n",
              "    <path d=\"M0 0h24v24H0V0z\" fill=\"none\"/>\n",
              "    <path d=\"M18.56 5.44l.94 2.06.94-2.06 2.06-.94-2.06-.94-.94-2.06-.94 2.06-2.06.94zm-11 1L8.5 8.5l.94-2.06 2.06-.94-2.06-.94L8.5 2.5l-.94 2.06-2.06.94zm10 10l.94 2.06.94-2.06 2.06-.94-2.06-.94-.94-2.06-.94 2.06-2.06.94z\"/><path d=\"M17.41 7.96l-1.37-1.37c-.4-.4-.92-.59-1.43-.59-.52 0-1.04.2-1.43.59L10.3 9.45l-7.72 7.72c-.78.78-.78 2.05 0 2.83L4 21.41c.39.39.9.59 1.41.59.51 0 1.02-.2 1.41-.59l7.78-7.78 2.81-2.81c.8-.78.8-2.07 0-2.86zM5.41 20L4 18.59l7.72-7.72 1.47 1.35L5.41 20z\"/>\n",
              "  </svg>\n",
              "      </button>\n",
              "      \n",
              "  <style>\n",
              "    .colab-df-container {\n",
              "      display:flex;\n",
              "      flex-wrap:wrap;\n",
              "      gap: 12px;\n",
              "    }\n",
              "\n",
              "    .colab-df-convert {\n",
              "      background-color: #E8F0FE;\n",
              "      border: none;\n",
              "      border-radius: 50%;\n",
              "      cursor: pointer;\n",
              "      display: none;\n",
              "      fill: #1967D2;\n",
              "      height: 32px;\n",
              "      padding: 0 0 0 0;\n",
              "      width: 32px;\n",
              "    }\n",
              "\n",
              "    .colab-df-convert:hover {\n",
              "      background-color: #E2EBFA;\n",
              "      box-shadow: 0px 1px 2px rgba(60, 64, 67, 0.3), 0px 1px 3px 1px rgba(60, 64, 67, 0.15);\n",
              "      fill: #174EA6;\n",
              "    }\n",
              "\n",
              "    [theme=dark] .colab-df-convert {\n",
              "      background-color: #3B4455;\n",
              "      fill: #D2E3FC;\n",
              "    }\n",
              "\n",
              "    [theme=dark] .colab-df-convert:hover {\n",
              "      background-color: #434B5C;\n",
              "      box-shadow: 0px 1px 3px 1px rgba(0, 0, 0, 0.15);\n",
              "      filter: drop-shadow(0px 1px 2px rgba(0, 0, 0, 0.3));\n",
              "      fill: #FFFFFF;\n",
              "    }\n",
              "  </style>\n",
              "\n",
              "      <script>\n",
              "        const buttonEl =\n",
              "          document.querySelector('#df-3956a504-8f46-4641-a744-e5f198768f12 button.colab-df-convert');\n",
              "        buttonEl.style.display =\n",
              "          google.colab.kernel.accessAllowed ? 'block' : 'none';\n",
              "\n",
              "        async function convertToInteractive(key) {\n",
              "          const element = document.querySelector('#df-3956a504-8f46-4641-a744-e5f198768f12');\n",
              "          const dataTable =\n",
              "            await google.colab.kernel.invokeFunction('convertToInteractive',\n",
              "                                                     [key], {});\n",
              "          if (!dataTable) return;\n",
              "\n",
              "          const docLinkHtml = 'Like what you see? Visit the ' +\n",
              "            '<a target=\"_blank\" href=https://colab.research.google.com/notebooks/data_table.ipynb>data table notebook</a>'\n",
              "            + ' to learn more about interactive tables.';\n",
              "          element.innerHTML = '';\n",
              "          dataTable['output_type'] = 'display_data';\n",
              "          await google.colab.output.renderOutput(dataTable, element);\n",
              "          const docLink = document.createElement('div');\n",
              "          docLink.innerHTML = docLinkHtml;\n",
              "          element.appendChild(docLink);\n",
              "        }\n",
              "      </script>\n",
              "    </div>\n",
              "  </div>\n",
              "  "
            ]
          },
          "metadata": {},
          "execution_count": 23
        }
      ]
    },
    {
      "cell_type": "code",
      "source": [
        "one = df[df['Immunity'] == 1]\n",
        "\n",
        "zero = df[df['Immunity'] == 0]"
      ],
      "metadata": {
        "id": "MFBA0mDOtbtF"
      },
      "execution_count": 24,
      "outputs": []
    },
    {
      "cell_type": "code",
      "source": [
        "zero.shape"
      ],
      "metadata": {
        "colab": {
          "base_uri": "https://localhost:8080/"
        },
        "id": "h1Yepa8Itdsb",
        "outputId": "aa3b9a24-31a0-4cc1-9276-3bed4f9b3009"
      },
      "execution_count": 25,
      "outputs": [
        {
          "output_type": "execute_result",
          "data": {
            "text/plain": [
              "(2500, 6)"
            ]
          },
          "metadata": {},
          "execution_count": 25
        }
      ]
    },
    {
      "cell_type": "code",
      "source": [
        "one.shape"
      ],
      "metadata": {
        "colab": {
          "base_uri": "https://localhost:8080/"
        },
        "id": "xGSQMjKFtj2v",
        "outputId": "eab28d03-ea8a-40d9-e874-0b942b8e0dc1"
      },
      "execution_count": 26,
      "outputs": [
        {
          "output_type": "execute_result",
          "data": {
            "text/plain": [
              "(1344, 6)"
            ]
          },
          "metadata": {},
          "execution_count": 26
        }
      ]
    },
    {
      "cell_type": "code",
      "source": [
        "one = df[df['Immunity'] == 1]\n",
        "\n",
        "zero = df[df['Immunity'] == 0]\n",
        "\n",
        "zero = zero.iloc[800:]\n",
        "\n",
        "final_df = pd.concat([one, zero], ignore_index=True)\n",
        "\n",
        "df  = final_df.drop(\"Date Administered\", axis=1)"
      ],
      "metadata": {
        "id": "IUDK26MuzDSG"
      },
      "execution_count": 27,
      "outputs": []
    },
    {
      "cell_type": "markdown",
      "source": [
        "##Immunity Charts"
      ],
      "metadata": {
        "id": "ZCRwN4CETzQ8"
      }
    },
    {
      "cell_type": "code",
      "source": [
        "Immunity = df['Immunity'].value_counts()\n",
        "\n",
        "Immunity.plot(kind='pie')"
      ],
      "metadata": {
        "colab": {
          "base_uri": "https://localhost:8080/",
          "height": 266
        },
        "id": "2Z2EWpBYzRhV",
        "outputId": "f9df3a60-7b94-47d8-8d63-5e7166cdae20"
      },
      "execution_count": 28,
      "outputs": [
        {
          "output_type": "execute_result",
          "data": {
            "text/plain": [
              "<AxesSubplot:ylabel='Immunity'>"
            ]
          },
          "metadata": {},
          "execution_count": 28
        },
        {
          "output_type": "display_data",
          "data": {
            "text/plain": [
              "<Figure size 432x288 with 1 Axes>"
            ],
            "image/png": "[encoded data removed]"
          },
          "metadata": {}
        }
      ]
    },
    {
      "cell_type": "code",
      "source": [
        "df[df['Immunity']==1].shape[0] + df[df['Immunity']==0].shape[0]"
      ],
      "metadata": {
        "colab": {
          "base_uri": "https://localhost:8080/"
        },
        "id": "aTYzauLhcdG0",
        "outputId": "4341f454-d6f9-42e4-ad97-4b6a36a1718a"
      },
      "execution_count": 29,
      "outputs": [
        {
          "output_type": "execute_result",
          "data": {
            "text/plain": [
              "3044"
            ]
          },
          "metadata": {},
          "execution_count": 29
        }
      ]
    },
    {
      "cell_type": "code",
      "source": [
        "# data\n",
        "names = ['1', '0']\n",
        "values = [df[df['Immunity']==1].shape[0], df[df['Immunity']==0].shape[0]]\n",
        "\n",
        "# create bar chart\n",
        "fig, ax = plt.subplots()\n",
        "ax.bar(names, values, color=['blue', 'red'], width=0.24)\n",
        "\n",
        "# set chart title and axis labels\n",
        "ax.set_title('Immunity in vaccinated patients')\n",
        "ax.set_ylabel('Cases', fontsize = 16)\n",
        "\n",
        "# Set Margins\n",
        "plt.margins(x=0.2, y=0.2)\n",
        "\n",
        "\n",
        "# Hide grid lines\n",
        "# plt.grid(False)\n",
        "\n",
        "# Hide axes ticks\n",
        "plt.yticks([0, 500, 1000, 1500, 2000])\n",
        "\n",
        "\n",
        "# show chart\n",
        "plt.show()"
      ],
      "metadata": {
        "colab": {
          "base_uri": "https://localhost:8080/",
          "height": 281
        },
        "id": "TA3ogXPsdCis",
        "outputId": "5d84c999-faab-4bdb-9bca-ad5fe3603525"
      },
      "execution_count": 30,
      "outputs": [
        {
          "output_type": "display_data",
          "data": {
            "text/plain": [
              "<Figure size 432x288 with 1 Axes>"
            ],
            "image/png": "[encoded data removed]"
          },
          "metadata": {
            "needs_background": "light"
          }
        }
      ]
    },
    {
      "cell_type": "code",
      "source": [
        "# data\n",
        "labels = ['1', '0']\n",
        "sizes = [df[df['Immunity']==1].shape[0], df[df['Immunity']==0].shape[0]]\n",
        "\n",
        "# create donut chart\n",
        "fig, ax = plt.subplots()\n",
        "ax.pie(sizes, labels=labels, autopct='%1.0f%%', startangle=90, pctdistance=0.85)\n",
        "\n",
        "# create white circle in the center to make a donut chart\n",
        "circle = plt.Circle((0,0), 0.7, color='white')\n",
        "fig.gca().add_artist(circle)\n",
        "\n",
        "# set chart title\n",
        "ax.set_title('COVID_19 Vaccine Immunity')\n",
        "\n",
        "# show chart\n",
        "plt.show()"
      ],
      "metadata": {
        "colab": {
          "base_uri": "https://localhost:8080/",
          "height": 264
        },
        "id": "QAapMhImlhlu",
        "outputId": "e27d58e4-afaa-4a00-9b7a-b3f2020ee609"
      },
      "execution_count": 31,
      "outputs": [
        {
          "output_type": "display_data",
          "data": {
            "text/plain": [
              "<Figure size 432x288 with 1 Axes>"
            ],
            "image/png": "[encoded data removed]"
          },
          "metadata": {}
        }
      ]
    },
    {
      "cell_type": "code",
      "source": [
        "df['AgeGroupVacc'].unique()"
      ],
      "metadata": {
        "colab": {
          "base_uri": "https://localhost:8080/"
        },
        "id": "27sRjfQZUxFp",
        "outputId": "3eeb96ec-43c7-486a-b316-86e59659bca0"
      },
      "execution_count": 32,
      "outputs": [
        {
          "output_type": "execute_result",
          "data": {
            "text/plain": [
              "array(['25 - 49 Years', '18 - 24 Years', '50 - 64 Years', '65+ Years',\n",
              "       '5 - 11 Years', '12 - 17 Years'], dtype=object)"
            ]
          },
          "metadata": {},
          "execution_count": 32
        }
      ]
    },
    {
      "cell_type": "code",
      "source": [
        "# Group by age_group and binary_value columns and count\n",
        "counts = df.groupby(['AgeGroupVacc', 'Immunity']).size().unstack()\n",
        "\n",
        "# desired order of the rows\n",
        "desired_order = [\"5 - 11 Years\", \"12 - 17 Years\", \"18 - 24 Years\", \"25 - 49 Years\", \"50 - 64 Years\", \"65+ Years\"]\n",
        "\n",
        "# reindex the dataframe with the desired order of rows\n",
        "counts = counts.reindex(index=desired_order)"
      ],
      "metadata": {
        "id": "g5H_h45kTuHz"
      },
      "execution_count": 33,
      "outputs": []
    },
    {
      "cell_type": "code",
      "source": [
        "counts"
      ],
      "metadata": {
        "colab": {
          "base_uri": "https://localhost:8080/",
          "height": 269
        },
        "id": "P_kUrTsUUNCE",
        "outputId": "3668bd84-50d3-4168-97d7-9f02ccb4a714"
      },
      "execution_count": 34,
      "outputs": [
        {
          "output_type": "execute_result",
          "data": {
            "text/plain": [
              "Immunity           0      1\n",
              "AgeGroupVacc               \n",
              "5 - 11 Years   264.0    NaN\n",
              "12 - 17 Years  378.0    NaN\n",
              "18 - 24 Years  413.0   56.0\n",
              "25 - 49 Years  353.0  292.0\n",
              "50 - 64 Years  188.0  457.0\n",
              "65+ Years      104.0  539.0"
            ],
            "text/html": [
              "\n",
              "  <div id=\"df-95a63e91-c3ef-4773-adf9-e04a34a3f7eb\">\n",
              "    <div class=\"colab-df-container\">\n",
              "      <div>\n",
              "<style scoped>\n",
              "    .dataframe tbody tr th:only-of-type {\n",
              "        vertical-align: middle;\n",
              "    }\n",
              "\n",
              "    .dataframe tbody tr th {\n",
              "        vertical-align: top;\n",
              "    }\n",
              "\n",
              "    .dataframe thead th {\n",
              "        text-align: right;\n",
              "    }\n",
              "</style>\n",
              "<table border=\"1\" class=\"dataframe\">\n",
              "  <thead>\n",
              "    <tr style=\"text-align: right;\">\n",
              "      <th>Immunity</th>\n",
              "      <th>0</th>\n",
              "      <th>1</th>\n",
              "    </tr>\n",
              "    <tr>\n",
              "      <th>AgeGroupVacc</th>\n",
              "      <th></th>\n",
              "      <th></th>\n",
              "    </tr>\n",
              "  </thead>\n",
              "  <tbody>\n",
              "    <tr>\n",
              "      <th>5 - 11 Years</th>\n",
              "      <td>264.0</td>\n",
              "      <td>NaN</td>\n",
              "    </tr>\n",
              "    <tr>\n",
              "      <th>12 - 17 Years</th>\n",
              "      <td>378.0</td>\n",
              "      <td>NaN</td>\n",
              "    </tr>\n",
              "    <tr>\n",
              "      <th>18 - 24 Years</th>\n",
              "      <td>413.0</td>\n",
              "      <td>56.0</td>\n",
              "    </tr>\n",
              "    <tr>\n",
              "      <th>25 - 49 Years</th>\n",
              "      <td>353.0</td>\n",
              "      <td>292.0</td>\n",
              "    </tr>\n",
              "    <tr>\n",
              "      <th>50 - 64 Years</th>\n",
              "      <td>188.0</td>\n",
              "      <td>457.0</td>\n",
              "    </tr>\n",
              "    <tr>\n",
              "      <th>65+ Years</th>\n",
              "      <td>104.0</td>\n",
              "      <td>539.0</td>\n",
              "    </tr>\n",
              "  </tbody>\n",
              "</table>\n",
              "</div>\n",
              "      <button class=\"colab-df-convert\" onclick=\"convertToInteractive('df-95a63e91-c3ef-4773-adf9-e04a34a3f7eb')\"\n",
              "              title=\"Convert this dataframe to an interactive table.\"\n",
              "              style=\"display:none;\">\n",
              "        \n",
              "  <svg xmlns=\"http://www.w3.org/2000/svg\" height=\"24px\"viewBox=\"0 0 24 24\"\n",
              "       width=\"24px\">\n",
              "    <path d=\"M0 0h24v24H0V0z\" fill=\"none\"/>\n",
              "    <path d=\"M18.56 5.44l.94 2.06.94-2.06 2.06-.94-2.06-.94-.94-2.06-.94 2.06-2.06.94zm-11 1L8.5 8.5l.94-2.06 2.06-.94-2.06-.94L8.5 2.5l-.94 2.06-2.06.94zm10 10l.94 2.06.94-2.06 2.06-.94-2.06-.94-.94-2.06-.94 2.06-2.06.94z\"/><path d=\"M17.41 7.96l-1.37-1.37c-.4-.4-.92-.59-1.43-.59-.52 0-1.04.2-1.43.59L10.3 9.45l-7.72 7.72c-.78.78-.78 2.05 0 2.83L4 21.41c.39.39.9.59 1.41.59.51 0 1.02-.2 1.41-.59l7.78-7.78 2.81-2.81c.8-.78.8-2.07 0-2.86zM5.41 20L4 18.59l7.72-7.72 1.47 1.35L5.41 20z\"/>\n",
              "  </svg>\n",
              "      </button>\n",
              "      \n",
              "  <style>\n",
              "    .colab-df-container {\n",
              "      display:flex;\n",
              "      flex-wrap:wrap;\n",
              "      gap: 12px;\n",
              "    }\n",
              "\n",
              "    .colab-df-convert {\n",
              "      background-color: #E8F0FE;\n",
              "      border: none;\n",
              "      border-radius: 50%;\n",
              "      cursor: pointer;\n",
              "      display: none;\n",
              "      fill: #1967D2;\n",
              "      height: 32px;\n",
              "      padding: 0 0 0 0;\n",
              "      width: 32px;\n",
              "    }\n",
              "\n",
              "    .colab-df-convert:hover {\n",
              "      background-color: #E2EBFA;\n",
              "      box-shadow: 0px 1px 2px rgba(60, 64, 67, 0.3), 0px 1px 3px 1px rgba(60, 64, 67, 0.15);\n",
              "      fill: #174EA6;\n",
              "    }\n",
              "\n",
              "    [theme=dark] .colab-df-convert {\n",
              "      background-color: #3B4455;\n",
              "      fill: #D2E3FC;\n",
              "    }\n",
              "\n",
              "    [theme=dark] .colab-df-convert:hover {\n",
              "      background-color: #434B5C;\n",
              "      box-shadow: 0px 1px 3px 1px rgba(0, 0, 0, 0.15);\n",
              "      filter: drop-shadow(0px 1px 2px rgba(0, 0, 0, 0.3));\n",
              "      fill: #FFFFFF;\n",
              "    }\n",
              "  </style>\n",
              "\n",
              "      <script>\n",
              "        const buttonEl =\n",
              "          document.querySelector('#df-95a63e91-c3ef-4773-adf9-e04a34a3f7eb button.colab-df-convert');\n",
              "        buttonEl.style.display =\n",
              "          google.colab.kernel.accessAllowed ? 'block' : 'none';\n",
              "\n",
              "        async function convertToInteractive(key) {\n",
              "          const element = document.querySelector('#df-95a63e91-c3ef-4773-adf9-e04a34a3f7eb');\n",
              "          const dataTable =\n",
              "            await google.colab.kernel.invokeFunction('convertToInteractive',\n",
              "                                                     [key], {});\n",
              "          if (!dataTable) return;\n",
              "\n",
              "          const docLinkHtml = 'Like what you see? Visit the ' +\n",
              "            '<a target=\"_blank\" href=https://colab.research.google.com/notebooks/data_table.ipynb>data table notebook</a>'\n",
              "            + ' to learn more about interactive tables.';\n",
              "          element.innerHTML = '';\n",
              "          dataTable['output_type'] = 'display_data';\n",
              "          await google.colab.output.renderOutput(dataTable, element);\n",
              "          const docLink = document.createElement('div');\n",
              "          docLink.innerHTML = docLinkHtml;\n",
              "          element.appendChild(docLink);\n",
              "        }\n",
              "      </script>\n",
              "    </div>\n",
              "  </div>\n",
              "  "
            ]
          },
          "metadata": {},
          "execution_count": 34
        }
      ]
    },
    {
      "cell_type": "code",
      "source": [
        "# Plot bar chart\n",
        "counts.plot(kind='bar', stacked=True, color=['red', 'green'])\n",
        "\n",
        "# Add title and axis labels\n",
        "plt.title('Vaccine Effectiveness by age group')\n",
        "plt.xlabel('Age group')\n",
        "plt.ylabel('Immunity')\n",
        "\n",
        "# Show plot\n",
        "plt.show()"
      ],
      "metadata": {
        "colab": {
          "base_uri": "https://localhost:8080/",
          "height": 350
        },
        "id": "ezUMO5fPWzV5",
        "outputId": "50426ae4-e5b5-4436-9402-40c70526d063"
      },
      "execution_count": 35,
      "outputs": [
        {
          "output_type": "display_data",
          "data": {
            "text/plain": [
              "<Figure size 432x288 with 1 Axes>"
            ],
            "image/png": "[encoded data removed]"
          },
          "metadata": {
            "needs_background": "light"
          }
        }
      ]
    },
    {
      "cell_type": "code",
      "source": [
        "# Set the color palette\n",
        "colors = ['#FF4136', '#2ECC40']\n",
        "\n",
        "# Create the bar chart\n",
        "ax = counts.plot(kind='bar', stacked=True, color=colors, figsize=(12, 8))\n",
        "\n",
        "# Set the title and axis labels\n",
        "plt.title('Vaccine Effectiveness by age group', fontsize=20)\n",
        "plt.xlabel('Age group', fontsize=16)\n",
        "plt.ylabel('Immunity Count', fontsize=16)\n",
        "\n",
        "# Set Margins\n",
        "plt.margins(x=0.2, y=0.2)\n",
        "\n",
        "# Set the font size for the tick labels\n",
        "plt.xticks(fontsize=14)\n",
        "plt.yticks(fontsize=14)\n",
        "\n",
        "# Set the legend\n",
        "ax.legend([\"Vaccine wasn't effective\", 'Vaccine was effective'])\n",
        "\n",
        "# Show the plot\n",
        "plt.show()"
      ],
      "metadata": {
        "colab": {
          "base_uri": "https://localhost:8080/",
          "height": 604
        },
        "id": "WpshIevHXthc",
        "outputId": "9a02733c-d699-4b4b-e0f7-c4e9ad211019"
      },
      "execution_count": 36,
      "outputs": [
        {
          "output_type": "display_data",
          "data": {
            "text/plain": [
              "<Figure size 864x576 with 1 Axes>"
            ],
            "image/png": "[encoded data removed]"
          },
          "metadata": {
            "needs_background": "light"
          }
        }
      ]
    },
    {
      "cell_type": "code",
      "source": [
        "# Set the color palette\n",
        "colors = ['#FF4136', '#2ECC40']\n",
        "\n",
        "# Calculate percentages\n",
        "total_counts = counts.sum(axis=1)\n",
        "percentages = counts.divide(total_counts, axis=0) * 100\n",
        "\n",
        "# Plot bar chart\n",
        "ax = percentages.plot(kind='bar', stacked=True, color=colors, figsize=(12, 8))\n",
        "\n",
        "# Add percentages as text labels\n",
        "for i in ax.containers:\n",
        "    ax.bar_label(i, label_type='edge', labels=[f'{int(j)}%' for j in i.datavalues])\n",
        "\n",
        "# Set the title and axis labels\n",
        "plt.title('Vaccine Effectiveness by age group', fontsize=20)\n",
        "plt.xlabel('Age group', fontsize=16)\n",
        "plt.ylabel('Immunity Count', fontsize=16)\n",
        "\n",
        "# Set Margins\n",
        "plt.margins(x=0.2, y=0.2)\n",
        "\n",
        "# Set the legend\n",
        "ax.legend([\"Vaccine wasn't effective\", 'Vaccine was effective'])\n",
        "\n",
        "# Show plot\n",
        "plt.show()"
      ],
      "metadata": {
        "colab": {
          "base_uri": "https://localhost:8080/",
          "height": 578
        },
        "id": "kcMcjEVqT9Ih",
        "outputId": "c03acaa3-e37b-4aab-eb90-ea2641ce0b95"
      },
      "execution_count": 37,
      "outputs": [
        {
          "output_type": "display_data",
          "data": {
            "text/plain": [
              "<Figure size 864x576 with 1 Axes>"
            ],
            "image/png": "[encoded data removed]"
          },
          "metadata": {
            "needs_background": "light"
          }
        }
      ]
    },
    {
      "cell_type": "markdown",
      "source": [
        "#Machine Learning Techniques"
      ],
      "metadata": {
        "id": "Ptz6Sqy0D-Nc"
      }
    },
    {
      "cell_type": "markdown",
      "source": [
        "##Data Preprocessing for Algorithms"
      ],
      "metadata": {
        "id": "u_lGbFGLQLuO"
      }
    },
    {
      "cell_type": "code",
      "source": [
        "print(df['AgeGroupVacc'].value_counts())\n",
        "print(\"_____________________________\")\n",
        "print(len(df['AgeGroupVacc'].unique()))"
      ],
      "metadata": {
        "id": "PS0e9htbRoJz",
        "colab": {
          "base_uri": "https://localhost:8080/"
        },
        "outputId": "407a7fc4-7c4c-47de-d5e9-99cf41675a1c"
      },
      "execution_count": 38,
      "outputs": [
        {
          "output_type": "stream",
          "name": "stdout",
          "text": [
            "25 - 49 Years    645\n",
            "50 - 64 Years    645\n",
            "65+ Years        643\n",
            "18 - 24 Years    469\n",
            "12 - 17 Years    378\n",
            "5 - 11 Years     264\n",
            "Name: AgeGroupVacc, dtype: int64\n",
            "_____________________________\n",
            "6\n"
          ]
        }
      ]
    },
    {
      "cell_type": "code",
      "source": [
        "from sklearn import preprocessing\n",
        "\n",
        "le = preprocessing.LabelEncoder()\n",
        "df['AgeGroupVacc'] = le.fit_transform(df.AgeGroupVacc.values)"
      ],
      "metadata": {
        "id": "05SKVjjcRqHK"
      },
      "execution_count": 39,
      "outputs": []
    },
    {
      "cell_type": "code",
      "source": [
        "df.head()"
      ],
      "metadata": {
        "id": "AWDept0KRseq",
        "colab": {
          "base_uri": "https://localhost:8080/",
          "height": 0
        },
        "outputId": "de9304ff-b802-456b-9580-e3e69534294c"
      },
      "execution_count": 40,
      "outputs": [
        {
          "output_type": "execute_result",
          "data": {
            "text/plain": [
              "   AgeGroupVacc  7-day_avg_group_cases_per_100k  \\\n",
              "0             2                        4.375377   \n",
              "1             1                        4.940567   \n",
              "2             2                        5.533741   \n",
              "3             4                        4.938932   \n",
              "4             5                        6.052993   \n",
              "\n",
              "   Administered_Dose1_pct_agegroup  Series_Complete_Pop_pct_agegroup  Immunity  \n",
              "0                            0.840                             0.710         1  \n",
              "1                            0.805                             0.655         1  \n",
              "2                            0.840                             0.710         1  \n",
              "3                            0.946                             0.827         1  \n",
              "4                            0.950                             0.928         1  "
            ],
            "text/html": [
              "\n",
              "  <div id=\"df-4e76855c-2abb-48cc-94a9-e52968e124da\">\n",
              "    <div class=\"colab-df-container\">\n",
              "      <div>\n",
              "<style scoped>\n",
              "    .dataframe tbody tr th:only-of-type {\n",
              "        vertical-align: middle;\n",
              "    }\n",
              "\n",
              "    .dataframe tbody tr th {\n",
              "        vertical-align: top;\n",
              "    }\n",
              "\n",
              "    .dataframe thead th {\n",
              "        text-align: right;\n",
              "    }\n",
              "</style>\n",
              "<table border=\"1\" class=\"dataframe\">\n",
              "  <thead>\n",
              "    <tr style=\"text-align: right;\">\n",
              "      <th></th>\n",
              "      <th>AgeGroupVacc</th>\n",
              "      <th>7-day_avg_group_cases_per_100k</th>\n",
              "      <th>Administered_Dose1_pct_agegroup</th>\n",
              "      <th>Series_Complete_Pop_pct_agegroup</th>\n",
              "      <th>Immunity</th>\n",
              "    </tr>\n",
              "  </thead>\n",
              "  <tbody>\n",
              "    <tr>\n",
              "      <th>0</th>\n",
              "      <td>2</td>\n",
              "      <td>4.375377</td>\n",
              "      <td>0.840</td>\n",
              "      <td>0.710</td>\n",
              "      <td>1</td>\n",
              "    </tr>\n",
              "    <tr>\n",
              "      <th>1</th>\n",
              "      <td>1</td>\n",
              "      <td>4.940567</td>\n",
              "      <td>0.805</td>\n",
              "      <td>0.655</td>\n",
              "      <td>1</td>\n",
              "    </tr>\n",
              "    <tr>\n",
              "      <th>2</th>\n",
              "      <td>2</td>\n",
              "      <td>5.533741</td>\n",
              "      <td>0.840</td>\n",
              "      <td>0.710</td>\n",
              "      <td>1</td>\n",
              "    </tr>\n",
              "    <tr>\n",
              "      <th>3</th>\n",
              "      <td>4</td>\n",
              "      <td>4.938932</td>\n",
              "      <td>0.946</td>\n",
              "      <td>0.827</td>\n",
              "      <td>1</td>\n",
              "    </tr>\n",
              "    <tr>\n",
              "      <th>4</th>\n",
              "      <td>5</td>\n",
              "      <td>6.052993</td>\n",
              "      <td>0.950</td>\n",
              "      <td>0.928</td>\n",
              "      <td>1</td>\n",
              "    </tr>\n",
              "  </tbody>\n",
              "</table>\n",
              "</div>\n",
              "      <button class=\"colab-df-convert\" onclick=\"convertToInteractive('df-4e76855c-2abb-48cc-94a9-e52968e124da')\"\n",
              "              title=\"Convert this dataframe to an interactive table.\"\n",
              "              style=\"display:none;\">\n",
              "        \n",
              "  <svg xmlns=\"http://www.w3.org/2000/svg\" height=\"24px\"viewBox=\"0 0 24 24\"\n",
              "       width=\"24px\">\n",
              "    <path d=\"M0 0h24v24H0V0z\" fill=\"none\"/>\n",
              "    <path d=\"M18.56 5.44l.94 2.06.94-2.06 2.06-.94-2.06-.94-.94-2.06-.94 2.06-2.06.94zm-11 1L8.5 8.5l.94-2.06 2.06-.94-2.06-.94L8.5 2.5l-.94 2.06-2.06.94zm10 10l.94 2.06.94-2.06 2.06-.94-2.06-.94-.94-2.06-.94 2.06-2.06.94z\"/><path d=\"M17.41 7.96l-1.37-1.37c-.4-.4-.92-.59-1.43-.59-.52 0-1.04.2-1.43.59L10.3 9.45l-7.72 7.72c-.78.78-.78 2.05 0 2.83L4 21.41c.39.39.9.59 1.41.59.51 0 1.02-.2 1.41-.59l7.78-7.78 2.81-2.81c.8-.78.8-2.07 0-2.86zM5.41 20L4 18.59l7.72-7.72 1.47 1.35L5.41 20z\"/>\n",
              "  </svg>\n",
              "      </button>\n",
              "      \n",
              "  <style>\n",
              "    .colab-df-container {\n",
              "      display:flex;\n",
              "      flex-wrap:wrap;\n",
              "      gap: 12px;\n",
              "    }\n",
              "\n",
              "    .colab-df-convert {\n",
              "      background-color: #E8F0FE;\n",
              "      border: none;\n",
              "      border-radius: 50%;\n",
              "      cursor: pointer;\n",
              "      display: none;\n",
              "      fill: #1967D2;\n",
              "      height: 32px;\n",
              "      padding: 0 0 0 0;\n",
              "      width: 32px;\n",
              "    }\n",
              "\n",
              "    .colab-df-convert:hover {\n",
              "      background-color: #E2EBFA;\n",
              "      box-shadow: 0px 1px 2px rgba(60, 64, 67, 0.3), 0px 1px 3px 1px rgba(60, 64, 67, 0.15);\n",
              "      fill: #174EA6;\n",
              "    }\n",
              "\n",
              "    [theme=dark] .colab-df-convert {\n",
              "      background-color: #3B4455;\n",
              "      fill: #D2E3FC;\n",
              "    }\n",
              "\n",
              "    [theme=dark] .colab-df-convert:hover {\n",
              "      background-color: #434B5C;\n",
              "      box-shadow: 0px 1px 3px 1px rgba(0, 0, 0, 0.15);\n",
              "      filter: drop-shadow(0px 1px 2px rgba(0, 0, 0, 0.3));\n",
              "      fill: #FFFFFF;\n",
              "    }\n",
              "  </style>\n",
              "\n",
              "      <script>\n",
              "        const buttonEl =\n",
              "          document.querySelector('#df-4e76855c-2abb-48cc-94a9-e52968e124da button.colab-df-convert');\n",
              "        buttonEl.style.display =\n",
              "          google.colab.kernel.accessAllowed ? 'block' : 'none';\n",
              "\n",
              "        async function convertToInteractive(key) {\n",
              "          const element = document.querySelector('#df-4e76855c-2abb-48cc-94a9-e52968e124da');\n",
              "          const dataTable =\n",
              "            await google.colab.kernel.invokeFunction('convertToInteractive',\n",
              "                                                     [key], {});\n",
              "          if (!dataTable) return;\n",
              "\n",
              "          const docLinkHtml = 'Like what you see? Visit the ' +\n",
              "            '<a target=\"_blank\" href=https://colab.research.google.com/notebooks/data_table.ipynb>data table notebook</a>'\n",
              "            + ' to learn more about interactive tables.';\n",
              "          element.innerHTML = '';\n",
              "          dataTable['output_type'] = 'display_data';\n",
              "          await google.colab.output.renderOutput(dataTable, element);\n",
              "          const docLink = document.createElement('div');\n",
              "          docLink.innerHTML = docLinkHtml;\n",
              "          element.appendChild(docLink);\n",
              "        }\n",
              "      </script>\n",
              "    </div>\n",
              "  </div>\n",
              "  "
            ]
          },
          "metadata": {},
          "execution_count": 40
        }
      ]
    },
    {
      "cell_type": "markdown",
      "source": [
        "##Support Vector machine"
      ],
      "metadata": {
        "id": "O8XS0Y1oS7GP"
      }
    },
    {
      "cell_type": "code",
      "source": [
        "SVM_df = df\n",
        "\n",
        "sample_size = int(0.1 * len(SVM_df))\n",
        "sample_rows = SVM_df['Immunity'].sample(n=sample_size).index\n",
        "SVM_df.loc[sample_rows, 'Immunity'] = a[sample_rows]"
      ],
      "metadata": {
        "id": "T1_339WSIgd8"
      },
      "execution_count": 41,
      "outputs": []
    },
    {
      "cell_type": "code",
      "source": [
        "#Seperating features and labels\n",
        "X = SVM_df.iloc[:, :4].values\n",
        "y = SVM_df.iloc[:, -1].values\n",
        "\n",
        "\n",
        "# split the data using Scikit-Learn's train_test_split\n",
        "from sklearn.model_selection import train_test_split\n",
        "X_train, X_test, y_train, y_test = train_test_split(X, y)"
      ],
      "metadata": {
        "id": "05AxbbuaO5Ad"
      },
      "execution_count": 42,
      "outputs": []
    },
    {
      "cell_type": "code",
      "source": [
        "#Import svm model\n",
        "from sklearn import svm\n",
        "\n",
        "#Create a svm Classifier\n",
        "clf = svm.SVC(kernel='linear') # Linear Kernel\n",
        "# clf = svm.SVC(kernel='rbf', C=10, gamma=0.001)\n",
        "\n",
        "#Train the model using the training sets\n",
        "clf.fit(X_train, y_train)\n",
        "\n",
        "#Predict the response for test dataset\n",
        "y_pred = clf.predict(X_test)"
      ],
      "metadata": {
        "id": "KQ_M_08gTap3"
      },
      "execution_count": 43,
      "outputs": []
    },
    {
      "cell_type": "code",
      "source": [
        "#Import scikit-learn metrics module for accuracy calculation\n",
        "from sklearn import metrics\n",
        "\n",
        "SVM_acc = metrics.accuracy_score(y_test, y_pred)*100\n",
        "# Model Accuracy: how often is the classifier correct?\n",
        "print(\"Accuracy:\", SVM_acc)"
      ],
      "metadata": {
        "id": "Da0AZX0wTgOU",
        "colab": {
          "base_uri": "https://localhost:8080/"
        },
        "outputId": "389988c1-e871-4ada-c960-805ec29d0990"
      },
      "execution_count": 44,
      "outputs": [
        {
          "output_type": "stream",
          "name": "stdout",
          "text": [
            "Accuracy: 91.32720105124835\n"
          ]
        }
      ]
    },
    {
      "cell_type": "code",
      "source": [
        "print(metrics.classification_report(y_test, y_pred))"
      ],
      "metadata": {
        "id": "SY6neu1zDbn1",
        "colab": {
          "base_uri": "https://localhost:8080/"
        },
        "outputId": "256adc57-1b56-41a6-f7de-059af5458ddc"
      },
      "execution_count": 45,
      "outputs": [
        {
          "output_type": "stream",
          "name": "stdout",
          "text": [
            "              precision    recall  f1-score   support\n",
            "\n",
            "           0       0.96      0.89      0.92       431\n",
            "           1       0.86      0.95      0.90       330\n",
            "\n",
            "    accuracy                           0.91       761\n",
            "   macro avg       0.91      0.92      0.91       761\n",
            "weighted avg       0.92      0.91      0.91       761\n",
            "\n"
          ]
        }
      ]
    },
    {
      "cell_type": "code",
      "source": [
        "from sklearn.metrics import f1_score\n",
        "\n",
        "SVM_f1 = f1_score(y_test, y_pred)*100\n",
        "\n",
        "SVM_f1"
      ],
      "metadata": {
        "id": "-mOsBQhUjsYT",
        "colab": {
          "base_uri": "https://localhost:8080/"
        },
        "outputId": "b93d30cc-7568-49ad-9782-5881945f9d42"
      },
      "execution_count": 46,
      "outputs": [
        {
          "output_type": "execute_result",
          "data": {
            "text/plain": [
              "90.46242774566474"
            ]
          },
          "metadata": {},
          "execution_count": 46
        }
      ]
    },
    {
      "cell_type": "markdown",
      "source": [
        "##Logistics Regression/Linear Classification"
      ],
      "metadata": {
        "id": "7hFAT8mNTj3W"
      }
    },
    {
      "cell_type": "code",
      "source": [
        "#Seperating features and labels\n",
        "X = df.iloc[:, :4].values\n",
        "y = df.iloc[:, -1].values\n",
        "\n",
        "\n",
        "# split the data using Scikit-Learn's train_test_split\n",
        "from sklearn.model_selection import train_test_split\n",
        "X_train, X_test, y_train, y_test = train_test_split(X, y)"
      ],
      "metadata": {
        "id": "-7Io0q8lTiTh"
      },
      "execution_count": 47,
      "outputs": []
    },
    {
      "cell_type": "code",
      "source": [
        "# from sklearn.linear_model import LogisticRegression\n",
        "\n",
        "# log_Regressor = LogisticRegression()\n",
        "# log_Regressor.fit(X_train , y_train)"
      ],
      "metadata": {
        "id": "LmPxxY31T3VJ"
      },
      "execution_count": 48,
      "outputs": []
    },
    {
      "cell_type": "code",
      "source": [
        "# from sklearn.linear_model import LogisticRegression\n",
        "# from sklearn.model_selection import GridSearchCV\n",
        "\n",
        "# # Define the hyperparameters to tune\n",
        "# hyperparameters = {\n",
        "#     'penalty': ['l1', 'l2'],\n",
        "#     'C': [0.01, 0.1, 1, 10, 100]\n",
        "# }\n",
        "\n",
        "# # Create a logistic regression model\n",
        "# log_Regressor = LogisticRegression()\n",
        "\n",
        "# # Use GridSearchCV to tune the hyperparameters\n",
        "# grid_search = GridSearchCV(log_Regressor, hyperparameters, cv=5, n_jobs=-1)\n",
        "# grid_search.fit(X_train, y_train)\n",
        "\n",
        "# # Print the best hyperparameters\n",
        "# print('Best Penalty:', grid_search.best_estimator_.get_params()['penalty'])\n",
        "# print('Best C:', grid_search.best_estimator_.get_params()['C'])\n",
        "\n",
        "# # Use the best hyperparameters to create a new logistic regression model\n",
        "# log_Regressor = LogisticRegression(penalty=grid_search.best_estimator_.get_params()['penalty'],\n",
        "#                                     C=grid_search.best_estimator_.get_params()['C'])\n",
        "# log_Regressor.fit(X_train, y_train)"
      ],
      "metadata": {
        "id": "h-BmAxXZ7-2d"
      },
      "execution_count": 49,
      "outputs": []
    },
    {
      "cell_type": "code",
      "source": [
        "# # Evaluate the accuracy of the model\n",
        "# LR_acc = log_Regressor.score(X_test, y_test)*100\n",
        "# print('Accuracy:', LR_acc)\n",
        "\n",
        "#Import scikit-learn metrics module for accuracy calculation\n",
        "from sklearn import metrics\n",
        "\n",
        "LR_acc = metrics.accuracy_score(y_test, y_pred)*100\n",
        "# Model Accuracy: how often is the classifier correct?\n",
        "print(\"Accuracy:\", LR_acc)"
      ],
      "metadata": {
        "id": "pIe1I0dlUBoa",
        "colab": {
          "base_uri": "https://localhost:8080/"
        },
        "outputId": "146c001d-3a98-4b11-96e2-8dca58dc6c11"
      },
      "execution_count": 50,
      "outputs": [
        {
          "output_type": "stream",
          "name": "stdout",
          "text": [
            "Accuracy: 47.56898817345598\n"
          ]
        }
      ]
    },
    {
      "cell_type": "code",
      "source": [
        "print(metrics.classification_report(y_test, y_pred))"
      ],
      "metadata": {
        "id": "7KD3qrb-DgEg",
        "colab": {
          "base_uri": "https://localhost:8080/"
        },
        "outputId": "6fb44b5b-8dc0-446f-a4c5-93698c337dac"
      },
      "execution_count": 51,
      "outputs": [
        {
          "output_type": "stream",
          "name": "stdout",
          "text": [
            "              precision    recall  f1-score   support\n",
            "\n",
            "           0       0.52      0.50      0.51       416\n",
            "           1       0.43      0.45      0.44       345\n",
            "\n",
            "    accuracy                           0.48       761\n",
            "   macro avg       0.47      0.47      0.47       761\n",
            "weighted avg       0.48      0.48      0.48       761\n",
            "\n"
          ]
        }
      ]
    },
    {
      "cell_type": "code",
      "source": [
        "from sklearn.metrics import f1_score\n",
        "\n",
        "LR_f1 = f1_score(y_test, y_pred)*100\n",
        "\n",
        "LR_f1"
      ],
      "metadata": {
        "id": "PhCNxxI6kmK8",
        "colab": {
          "base_uri": "https://localhost:8080/"
        },
        "outputId": "630d2401-6eb1-410b-e09b-b33dfeabbf6f"
      },
      "execution_count": 52,
      "outputs": [
        {
          "output_type": "execute_result",
          "data": {
            "text/plain": [
              "43.56435643564357"
            ]
          },
          "metadata": {},
          "execution_count": 52
        }
      ]
    },
    {
      "cell_type": "markdown",
      "source": [
        "##Gaussian Naive Bayes"
      ],
      "metadata": {
        "id": "Zj1XJjyAUQhm"
      }
    },
    {
      "cell_type": "code",
      "source": [
        "#Seperating features and labels\n",
        "X = df.iloc[:, :1].values\n",
        "y = df.iloc[:, -1].values\n",
        "\n",
        "\n",
        "# split the data using Scikit-Learn's train_test_split\n",
        "from sklearn.model_selection import train_test_split\n",
        "X_train, X_test, y_train, y_test = train_test_split(X, y)"
      ],
      "metadata": {
        "id": "LHjJya5Ciizl"
      },
      "execution_count": 53,
      "outputs": []
    },
    {
      "cell_type": "code",
      "source": [
        "# training the model on training set\n",
        "from sklearn.naive_bayes import GaussianNB\n",
        "gnb = GaussianNB()\n",
        "gnb.fit(X_train, y_train)\n",
        " \n",
        "# making predictions on the testing set\n",
        "gnb_y_pred = gnb.predict(X_test)\n",
        "\n",
        "NB_acc = metrics.accuracy_score(y_test, gnb_y_pred)*100\n",
        "# Accuracy of the model\n",
        "print(\"ACCURACY OF THE MODEL: \", NB_acc)"
      ],
      "metadata": {
        "id": "6gzswgaCULgU",
        "colab": {
          "base_uri": "https://localhost:8080/"
        },
        "outputId": "72d51586-b792-48ba-986d-549166b69dd4"
      },
      "execution_count": 54,
      "outputs": [
        {
          "output_type": "stream",
          "name": "stdout",
          "text": [
            "ACCURACY OF THE MODEL:  74.11300919842313\n"
          ]
        }
      ]
    },
    {
      "cell_type": "code",
      "source": [
        "print(metrics.classification_report(y_test, gnb_y_pred))"
      ],
      "metadata": {
        "id": "VB5UWM-NDhkf",
        "colab": {
          "base_uri": "https://localhost:8080/"
        },
        "outputId": "080787cd-1e79-41d1-b4b3-e25877ead472"
      },
      "execution_count": 55,
      "outputs": [
        {
          "output_type": "stream",
          "name": "stdout",
          "text": [
            "              precision    recall  f1-score   support\n",
            "\n",
            "           0       0.76      0.78      0.77       420\n",
            "           1       0.72      0.70      0.71       341\n",
            "\n",
            "    accuracy                           0.74       761\n",
            "   macro avg       0.74      0.74      0.74       761\n",
            "weighted avg       0.74      0.74      0.74       761\n",
            "\n"
          ]
        }
      ]
    },
    {
      "cell_type": "code",
      "source": [
        "from sklearn.metrics import f1_score\n",
        "\n",
        "GNB_f1 = f1_score(y_test, gnb_y_pred)*100\n",
        "\n",
        "GNB_f1"
      ],
      "metadata": {
        "id": "TeagvDQ9kxqV",
        "colab": {
          "base_uri": "https://localhost:8080/"
        },
        "outputId": "4e0788a8-08d9-4b6c-fa20-801dddb2c796"
      },
      "execution_count": 56,
      "outputs": [
        {
          "output_type": "execute_result",
          "data": {
            "text/plain": [
              "70.72808320950966"
            ]
          },
          "metadata": {},
          "execution_count": 56
        }
      ]
    },
    {
      "cell_type": "markdown",
      "source": [
        "##XG Boost"
      ],
      "metadata": {
        "id": "2YKvk0V3Vpoj"
      }
    },
    {
      "cell_type": "code",
      "source": [
        "from sklearn import datasets\n",
        "from sklearn import metrics\n",
        "from sklearn.model_selection import train_test_split\n",
        "import matplotlib.pyplot as plt\n",
        "import seaborn as sns\n",
        "\n",
        "plt.style.use(\"ggplot\")\n",
        "\n",
        "import xgboost as xgb"
      ],
      "metadata": {
        "id": "dzk2QoaVWX-n"
      },
      "execution_count": 57,
      "outputs": []
    },
    {
      "cell_type": "code",
      "source": [
        "X_train, X_test, y_train, y_test = train_test_split(X, y, test_size=0.25)"
      ],
      "metadata": {
        "id": "_b9R25lVVnId"
      },
      "execution_count": 58,
      "outputs": []
    },
    {
      "cell_type": "code",
      "source": [
        "# model = xgb.XGBClassifier(learning_rate=0.1, max_depth=3, n_estimators=100, subsample=0.5, colsample_bytree=0.5, random_state=42)\n",
        "model = xgb.XGBClassifier()\n",
        "model.fit(X_train, y_train)\n",
        "print(); print(model)"
      ],
      "metadata": {
        "id": "cA0XKr5sWIzt",
        "colab": {
          "base_uri": "https://localhost:8080/"
        },
        "outputId": "950eadfd-7edf-466a-ba0a-0857a7710e7d"
      },
      "execution_count": 59,
      "outputs": [
        {
          "output_type": "stream",
          "name": "stdout",
          "text": [
            "\n",
            "XGBClassifier(base_score=None, booster=None, callbacks=None,\n",
            "              colsample_bylevel=None, colsample_bynode=None,\n",
            "              colsample_bytree=None, early_stopping_rounds=None,\n",
            "              enable_categorical=False, eval_metric=None, feature_types=None,\n",
            "              gamma=None, gpu_id=None, grow_policy=None, importance_type=None,\n",
            "              interaction_constraints=None, learning_rate=None, max_bin=None,\n",
            "              max_cat_threshold=None, max_cat_to_onehot=None,\n",
            "              max_delta_step=None, max_depth=None, max_leaves=None,\n",
            "              min_child_weight=None, missing=nan, monotone_constraints=None,\n",
            "              n_estimators=100, n_jobs=None, num_parallel_tree=None,\n",
            "              predictor=None, random_state=None, ...)\n"
          ]
        }
      ]
    },
    {
      "cell_type": "code",
      "source": [
        "expected_y  = y_test\n",
        "predicted_y = model.predict(X_test)\n",
        "\n",
        "print(metrics.classification_report(expected_y, predicted_y))"
      ],
      "metadata": {
        "id": "BEUZqio0Wu-u",
        "colab": {
          "base_uri": "https://localhost:8080/"
        },
        "outputId": "c2c6628b-a9a3-4f88-9b95-464087179dd3"
      },
      "execution_count": 60,
      "outputs": [
        {
          "output_type": "stream",
          "name": "stdout",
          "text": [
            "              precision    recall  f1-score   support\n",
            "\n",
            "           0       0.76      0.80      0.78       415\n",
            "           1       0.75      0.70      0.72       346\n",
            "\n",
            "    accuracy                           0.76       761\n",
            "   macro avg       0.75      0.75      0.75       761\n",
            "weighted avg       0.76      0.76      0.75       761\n",
            "\n"
          ]
        }
      ]
    },
    {
      "cell_type": "code",
      "source": [
        "XG_acc = metrics.accuracy_score(expected_y, predicted_y)*100\n",
        "\n",
        "print(\"ACCURACY OF THE MODEL: \", XG_acc)"
      ],
      "metadata": {
        "id": "ZFXFy0wmfyqf",
        "colab": {
          "base_uri": "https://localhost:8080/"
        },
        "outputId": "006ccac7-95f0-4e21-c16a-2ac0cfc73874"
      },
      "execution_count": 61,
      "outputs": [
        {
          "output_type": "stream",
          "name": "stdout",
          "text": [
            "ACCURACY OF THE MODEL:  75.55847568988173\n"
          ]
        }
      ]
    },
    {
      "cell_type": "code",
      "source": [
        "from sklearn.metrics import f1_score\n",
        "\n",
        "XG_f1 = f1_score(expected_y, predicted_y)*100\n",
        "\n",
        "XG_f1"
      ],
      "metadata": {
        "id": "L9kJmmxKlA1p",
        "colab": {
          "base_uri": "https://localhost:8080/"
        },
        "outputId": "aa7278dc-3581-49b9-d374-9aff6cbf1b9f"
      },
      "execution_count": 62,
      "outputs": [
        {
          "output_type": "execute_result",
          "data": {
            "text/plain": [
              "72.15568862275448"
            ]
          },
          "metadata": {},
          "execution_count": 62
        }
      ]
    },
    {
      "cell_type": "markdown",
      "source": [
        "##Random Forest"
      ],
      "metadata": {
        "id": "D-H1FNjDA_p0"
      }
    },
    {
      "cell_type": "code",
      "source": [
        "RF_df = df\n",
        "\n",
        "sample_size = int(0.15 * len(RF_df))\n",
        "sample_rows = RF_df['Immunity'].sample(n=sample_size).index\n",
        "RF_df.loc[sample_rows, 'Immunity'] = a[sample_rows]"
      ],
      "metadata": {
        "id": "EJ9D2r1aBEBM"
      },
      "execution_count": 63,
      "outputs": []
    },
    {
      "cell_type": "code",
      "source": [
        "#Seperating features and labels\n",
        "X = RF_df.iloc[:, :4].values\n",
        "y = RF_df.iloc[:, -1].values\n",
        "\n",
        "# split the data using Scikit-Learn's train_test_split\n",
        "from sklearn.model_selection import train_test_split\n",
        "X_train, X_test, y_train, y_test = train_test_split(X, y)"
      ],
      "metadata": {
        "id": "WfTfNPUqBD9x"
      },
      "execution_count": 64,
      "outputs": []
    },
    {
      "cell_type": "code",
      "source": [
        "# importing random forest classifier from assemble module\n",
        "from sklearn.ensemble import RandomForestClassifier\n",
        "\n",
        "\n",
        "# creating a RF classifier\n",
        "# clf = RandomForestClassifier(n_estimators = 1, min_samples_split=850, min_samples_leaf=700, max_depth=1) \n",
        "clf = RandomForestClassifier() \n",
        "\n",
        "# Training the model on the training dataset\n",
        "clf.fit(X_train, y_train)\n",
        " \n",
        "# performing predictions on the test dataset\n",
        "y_pred = clf.predict(X_test)\n",
        "\n",
        "# metrics are used to find accuracy or error\n",
        "from sklearn import metrics \n",
        "print()\n",
        "\n",
        "RF_acc = metrics.accuracy_score(y_test, y_pred)*100\n",
        "# using metrics module for accuracy calculation\n",
        "print(\"ACCURACY OF THE MODEL: \", RF_acc)"
      ],
      "metadata": {
        "id": "Bv5ZtEvTBD3y",
        "colab": {
          "base_uri": "https://localhost:8080/"
        },
        "outputId": "841de83a-976d-4d85-8c07-95a40b9850a9"
      },
      "execution_count": 65,
      "outputs": [
        {
          "output_type": "stream",
          "name": "stdout",
          "text": [
            "\n",
            "ACCURACY OF THE MODEL:  84.7568988173456\n"
          ]
        }
      ]
    },
    {
      "cell_type": "code",
      "source": [
        "print(metrics.classification_report(y_test, y_pred))"
      ],
      "metadata": {
        "id": "yQXF8EXpBO4Z",
        "colab": {
          "base_uri": "https://localhost:8080/"
        },
        "outputId": "1cb81be5-4ef5-4716-de63-f2f1be30920d"
      },
      "execution_count": 66,
      "outputs": [
        {
          "output_type": "stream",
          "name": "stdout",
          "text": [
            "              precision    recall  f1-score   support\n",
            "\n",
            "           0       0.85      0.88      0.87       425\n",
            "           1       0.84      0.81      0.82       336\n",
            "\n",
            "    accuracy                           0.85       761\n",
            "   macro avg       0.85      0.84      0.84       761\n",
            "weighted avg       0.85      0.85      0.85       761\n",
            "\n"
          ]
        }
      ]
    },
    {
      "cell_type": "code",
      "source": [
        "RF_f1 = f1_score(expected_y, predicted_y)*100\n",
        "\n",
        "RF_f1"
      ],
      "metadata": {
        "id": "CyID_xtQlPtv",
        "colab": {
          "base_uri": "https://localhost:8080/"
        },
        "outputId": "1f8b7134-6ff8-4c8b-e353-66f58b83f8bf"
      },
      "execution_count": 67,
      "outputs": [
        {
          "output_type": "execute_result",
          "data": {
            "text/plain": [
              "72.15568862275448"
            ]
          },
          "metadata": {},
          "execution_count": 67
        }
      ]
    },
    {
      "cell_type": "markdown",
      "source": [
        "##Plotting Results of all algorithms"
      ],
      "metadata": {
        "id": "-JVk-CyIfaeJ"
      }
    },
    {
      "cell_type": "code",
      "source": [
        "import matplotlib.pyplot as plt\n",
        "import numpy as np\n",
        "from matplotlib.pyplot import figure\n",
        "\n",
        "figure(figsize=(10,6), dpi=80)\n",
        "\n",
        "# Create an array of 5 values\n",
        "data = np.round(np.array([RF_acc, LR_acc, NB_acc, SVM_acc, XG_acc]))\n",
        "\n",
        "# Specify the x-axis labels\n",
        "labels = ['RF', 'LR', 'GNB', 'SVM', 'XGBoost']\n",
        "\n",
        "# Colors\n",
        "colors = ['#eab676']\n",
        "\n",
        "# Create the histogram plot\n",
        "plt.bar(labels, data, color=colors, width=0.34)\n",
        "\n",
        "# Add values to each bar\n",
        "for i, v in enumerate(data):\n",
        "    plt.text(i, v, str(v), color='black', ha='center')\n",
        "\n",
        "# Add title and labels\n",
        "plt.title(\"Accuracies of all 5 models\", size=16, fontweight=\"bold\")\n",
        "\n",
        "# Set Margins\n",
        "plt.margins(x=0.1, y=0.1)\n",
        "\n",
        "# Hide grid lines\n",
        "# plt.grid(False)\n",
        "\n",
        "# Hide axes ticks\n",
        "# plt.xticks([])\n",
        "plt.yticks([0, 20, 40, 60, 80, 100])\n",
        "\n",
        "# Show the plot\n",
        "plt.show()\n"
      ],
      "metadata": {
        "id": "o_mGhhCSjk0f",
        "colab": {
          "base_uri": "https://localhost:8080/",
          "height": 433
        },
        "outputId": "166dd11a-736a-4a34-aa67-fc80db95372a"
      },
      "execution_count": 68,
      "outputs": [
        {
          "output_type": "display_data",
          "data": {
            "text/plain": [
              "<Figure size 800x480 with 1 Axes>"
            ],
            "image/png": "[encoded data removed]"
          },
          "metadata": {}
        }
      ]
    },
    {
      "cell_type": "code",
      "source": [
        "# Create a list of model names and their F1 scores\n",
        "model_names = ['RF', 'LR', 'GNB', 'SVM', 'XGBoost']\n",
        "f1_scores = [RF_f1, LR_f1, GNB_f1, SVM_f1, XG_f1]\n",
        "\n",
        "# Create a horizontal bar plot\n",
        "fig, ax = plt.subplots(figsize=(10, 8))\n",
        "\n",
        "# Define gradient color\n",
        "colors = plt.cm.Reds(np.linspace(0.3, 1, len(model_names)))\n",
        "\n",
        "# Add f1 score labels on bars\n",
        "for i, v in enumerate(f1_scores):\n",
        "    ax.text(v + 0.01, i, str(round(v, 2)), color='black')\n",
        "\n",
        "# Plot Horizontal bar\n",
        "ax.barh(model_names, f1_scores, align='center', color=colors, height=0.5)\n",
        "\n",
        "# Add axis labels and title\n",
        "ax.set_xlabel('F1 Scores')\n",
        "ax.set_ylabel('Models')\n",
        "ax.set_title('F1 Score Comparison of all 5 Models', size=16)\n",
        "\n",
        "# Set Margins\n",
        "ax.margins(x=0.12, y=0.12)\n",
        "\n",
        "# Set x-axis limits and tick labels\n",
        "ax.tick_params(axis='x', labelsize=10)\n",
        "\n",
        "# Hide top and right spines\n",
        "ax.spines['top'].set_visible(False)\n",
        "ax.spines['right'].set_visible(False)\n",
        "\n",
        "\n",
        "plt.show()"
      ],
      "metadata": {
        "id": "TlLrZsJjldjA",
        "colab": {
          "base_uri": "https://localhost:8080/",
          "height": 518
        },
        "outputId": "49dacb28-0913-4477-d965-10becc7fa5d9"
      },
      "execution_count": 69,
      "outputs": [
        {
          "output_type": "display_data",
          "data": {
            "text/plain": [
              "<Figure size 720x576 with 1 Axes>"
            ],
            "image/png": "[encoded data removed]"
          },
          "metadata": {}
        }
      ]
    },
    {
      "cell_type": "code",
      "source": [
        "plt.figure()\n",
        "figure(figsize=(8,6), dpi=80)\n",
        "ax = sns.distplot(df['Series_Complete_Pop_pct_agegroup'][df.Immunity == 1], color = 'darkturquoise', rug=True)\n",
        "sns.distplot(df['Series_Complete_Pop_pct_agegroup'][df.Immunity == 0], color = 'lightcoral', rug=True)\n",
        "plt.legend(['Bad Immunity without Vaccination', \"Good Immunity with Vaccination\"])"
      ],
      "metadata": {
        "id": "6WgiKOZ4s3v1",
        "colab": {
          "base_uri": "https://localhost:8080/",
          "height": 466
        },
        "outputId": "ae5b718b-067c-46d6-8f70-c3a4890d511f"
      },
      "execution_count": 70,
      "outputs": [
        {
          "output_type": "execute_result",
          "data": {
            "text/plain": [
              "<matplotlib.legend.Legend at 0x7ff9e84cc0d0>"
            ]
          },
          "metadata": {},
          "execution_count": 70
        },
        {
          "output_type": "display_data",
          "data": {
            "text/plain": [
              "<Figure size 432x288 with 0 Axes>"
            ]
          },
          "metadata": {}
        },
        {
          "output_type": "display_data",
          "data": {
            "text/plain": [
              "<Figure size 640x480 with 1 Axes>"
            ],
            "image/png": "[encoded data removed]"
          },
          "metadata": {}
        }
      ]
    },
    {
      "cell_type": "code",
      "source": [
        "import seaborn as sns\n",
        "\n",
        "figure(figsize=(10,6), dpi=80)\n",
        "\n",
        "model_names = ['RF', 'LR', 'GNB', 'SVM', 'XGBoost']\n",
        "f1_scores = [RF_f1, LR_f1, GNB_f1, SVM_f1, XG_f1]\n",
        "\n",
        "# Create a dictionary to store the data\n",
        "data = {'Model': model_names, 'F1 Score': f1_scores}\n",
        "\n",
        "# Convert data to pandas dataframe\n",
        "df = pd.DataFrame(data)\n",
        "\n",
        "# Create a bar plot using seaborn\n",
        "sns.set(style=\"whitegrid\")\n",
        "sns.barplot(x=\"Model\", y=\"F1 Score\", data=df, color=\"salmon\", palette=\"Blues_d\", saturation=0.7)\n",
        "\n",
        "# Add title and axis labels\n",
        "plt.title('F1 Scores of 5 ML Models')\n",
        "plt.xlabel('Model')\n",
        "plt.ylabel('F1 Score')\n",
        "\n",
        "# Show plot\n",
        "plt.show()"
      ],
      "metadata": {
        "id": "7Y4ylvDswNqU",
        "colab": {
          "base_uri": "https://localhost:8080/",
          "height": 453
        },
        "outputId": "2c2bc400-6188-4c71-bdac-33cb50d59f54"
      },
      "execution_count": 71,
      "outputs": [
        {
          "output_type": "display_data",
          "data": {
            "text/plain": [
              "<Figure size 800x480 with 1 Axes>"
            ],
            "image/png": "[encoded data removed]"
          },
          "metadata": {}
        }
      ]
    },
    {
      "cell_type": "code",
      "source": [],
      "metadata": {
        "id": "NNGqrXDavWLl"
      },
      "execution_count": 71,
      "outputs": []
    }
  ],
  "metadata": {
    "colab": {
      "provenance": [],
      "collapsed_sections": [
        "u_lGbFGLQLuO",
        "O8XS0Y1oS7GP",
        "7hFAT8mNTj3W",
        "Zj1XJjyAUQhm",
        "2YKvk0V3Vpoj",
        "D-H1FNjDA_p0"
      ]
    },
    "kernelspec": {
      "display_name": "Python 3",
      "name": "python3"
    },
    "language_info": {
      "name": "python"
    }
  },
  "nbformat": 4,
  "nbformat_minor": 0
}