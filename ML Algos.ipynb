{
  "cells": [
    {
      "cell_type": "code",
      "execution_count": 296,
      "metadata": {
        "id": "HNq6gtld5z8n"
      },
      "outputs": [],
      "source": [
        "import pandas as pd\n",
        "import numpy as np\n",
        "import seaborn as sns"
      ]
    },
    {
      "cell_type": "markdown",
      "source": [
        "#Dataset"
      ],
      "metadata": {
        "id": "bn5dn5SFAikF"
      }
    },
    {
      "cell_type": "code",
      "execution_count": 297,
      "metadata": {
        "id": "aV1farN15_-I"
      },
      "outputs": [],
      "source": [
        "df = pd.read_csv('COVID.csv')"
      ]
    },
    {
      "cell_type": "code",
      "execution_count": 298,
      "metadata": {
        "colab": {
          "base_uri": "https://localhost:8080/"
        },
        "id": "eBJ8U1Mq6qos",
        "outputId": "4bd94a52-836a-4263-984b-c8f92e40a96c"
      },
      "outputs": [
        {
          "output_type": "execute_result",
          "data": {
            "text/plain": [
              "(5331, 5)"
            ]
          },
          "metadata": {},
          "execution_count": 298
        }
      ],
      "source": [
        "df.shape"
      ]
    },
    {
      "cell_type": "markdown",
      "source": [
        "#Preprocessing"
      ],
      "metadata": {
        "id": "PwQBOipFAnhN"
      }
    },
    {
      "cell_type": "code",
      "execution_count": 299,
      "metadata": {
        "colab": {
          "base_uri": "https://localhost:8080/"
        },
        "id": "RwD44Z-y6xdm",
        "outputId": "ce122b55-53e8-4d45-fc53-a08be9ac3d3e"
      },
      "outputs": [
        {
          "output_type": "execute_result",
          "data": {
            "text/plain": [
              "Date Administered                   0\n",
              "AgeGroupVacc                        0\n",
              "7-day_avg_group_cases_per_100k      0\n",
              "Administered_Dose1_pct_agegroup     0\n",
              "Series_Complete_Pop_pct_agegroup    0\n",
              "dtype: int64"
            ]
          },
          "metadata": {},
          "execution_count": 299
        }
      ],
      "source": [
        "df.isnull().sum()"
      ]
    },
    {
      "cell_type": "code",
      "execution_count": 300,
      "metadata": {
        "colab": {
          "base_uri": "https://localhost:8080/",
          "height": 0
        },
        "id": "F2rp-Cxn_mku",
        "outputId": "6fac7135-28e6-44f5-e44b-2427f551e08a"
      },
      "outputs": [
        {
          "output_type": "execute_result",
          "data": {
            "text/plain": [
              "        Date Administered   AgeGroupVacc  7-day_avg_group_cases_per_100k  \\\n",
              "0  10/11/2022 12:00:00 AM       <2 Years                        2.091826   \n",
              "1  10/11/2022 12:00:00 AM  12 - 17 Years                        2.389293   \n",
              "2  10/11/2022 12:00:00 AM  25 - 49 Years                        4.375377   \n",
              "3  10/10/2022 12:00:00 AM       <2 Years                        2.888181   \n",
              "4  10/10/2022 12:00:00 AM    2 - 4 Years                        3.362708   \n",
              "\n",
              "   Administered_Dose1_pct_agegroup  Series_Complete_Pop_pct_agegroup  \n",
              "0                            0.052                             0.017  \n",
              "1                            0.711                             0.608  \n",
              "2                            0.840                             0.710  \n",
              "3                            0.052                             0.017  \n",
              "4                            0.080                             0.032  "
            ],
            "text/html": [
              "\n",
              "  <div id=\"df-7b6c34a3-c21a-48f2-b4af-a98c4f4e58f7\">\n",
              "    <div class=\"colab-df-container\">\n",
              "      <div>\n",
              "<style scoped>\n",
              "    .dataframe tbody tr th:only-of-type {\n",
              "        vertical-align: middle;\n",
              "    }\n",
              "\n",
              "    .dataframe tbody tr th {\n",
              "        vertical-align: top;\n",
              "    }\n",
              "\n",
              "    .dataframe thead th {\n",
              "        text-align: right;\n",
              "    }\n",
              "</style>\n",
              "<table border=\"1\" class=\"dataframe\">\n",
              "  <thead>\n",
              "    <tr style=\"text-align: right;\">\n",
              "      <th></th>\n",
              "      <th>Date Administered</th>\n",
              "      <th>AgeGroupVacc</th>\n",
              "      <th>7-day_avg_group_cases_per_100k</th>\n",
              "      <th>Administered_Dose1_pct_agegroup</th>\n",
              "      <th>Series_Complete_Pop_pct_agegroup</th>\n",
              "    </tr>\n",
              "  </thead>\n",
              "  <tbody>\n",
              "    <tr>\n",
              "      <th>0</th>\n",
              "      <td>10/11/2022 12:00:00 AM</td>\n",
              "      <td>&lt;2 Years</td>\n",
              "      <td>2.091826</td>\n",
              "      <td>0.052</td>\n",
              "      <td>0.017</td>\n",
              "    </tr>\n",
              "    <tr>\n",
              "      <th>1</th>\n",
              "      <td>10/11/2022 12:00:00 AM</td>\n",
              "      <td>12 - 17 Years</td>\n",
              "      <td>2.389293</td>\n",
              "      <td>0.711</td>\n",
              "      <td>0.608</td>\n",
              "    </tr>\n",
              "    <tr>\n",
              "      <th>2</th>\n",
              "      <td>10/11/2022 12:00:00 AM</td>\n",
              "      <td>25 - 49 Years</td>\n",
              "      <td>4.375377</td>\n",
              "      <td>0.840</td>\n",
              "      <td>0.710</td>\n",
              "    </tr>\n",
              "    <tr>\n",
              "      <th>3</th>\n",
              "      <td>10/10/2022 12:00:00 AM</td>\n",
              "      <td>&lt;2 Years</td>\n",
              "      <td>2.888181</td>\n",
              "      <td>0.052</td>\n",
              "      <td>0.017</td>\n",
              "    </tr>\n",
              "    <tr>\n",
              "      <th>4</th>\n",
              "      <td>10/10/2022 12:00:00 AM</td>\n",
              "      <td>2 - 4 Years</td>\n",
              "      <td>3.362708</td>\n",
              "      <td>0.080</td>\n",
              "      <td>0.032</td>\n",
              "    </tr>\n",
              "  </tbody>\n",
              "</table>\n",
              "</div>\n",
              "      <button class=\"colab-df-convert\" onclick=\"convertToInteractive('df-7b6c34a3-c21a-48f2-b4af-a98c4f4e58f7')\"\n",
              "              title=\"Convert this dataframe to an interactive table.\"\n",
              "              style=\"display:none;\">\n",
              "        \n",
              "  <svg xmlns=\"http://www.w3.org/2000/svg\" height=\"24px\"viewBox=\"0 0 24 24\"\n",
              "       width=\"24px\">\n",
              "    <path d=\"M0 0h24v24H0V0z\" fill=\"none\"/>\n",
              "    <path d=\"M18.56 5.44l.94 2.06.94-2.06 2.06-.94-2.06-.94-.94-2.06-.94 2.06-2.06.94zm-11 1L8.5 8.5l.94-2.06 2.06-.94-2.06-.94L8.5 2.5l-.94 2.06-2.06.94zm10 10l.94 2.06.94-2.06 2.06-.94-2.06-.94-.94-2.06-.94 2.06-2.06.94z\"/><path d=\"M17.41 7.96l-1.37-1.37c-.4-.4-.92-.59-1.43-.59-.52 0-1.04.2-1.43.59L10.3 9.45l-7.72 7.72c-.78.78-.78 2.05 0 2.83L4 21.41c.39.39.9.59 1.41.59.51 0 1.02-.2 1.41-.59l7.78-7.78 2.81-2.81c.8-.78.8-2.07 0-2.86zM5.41 20L4 18.59l7.72-7.72 1.47 1.35L5.41 20z\"/>\n",
              "  </svg>\n",
              "      </button>\n",
              "      \n",
              "  <style>\n",
              "    .colab-df-container {\n",
              "      display:flex;\n",
              "      flex-wrap:wrap;\n",
              "      gap: 12px;\n",
              "    }\n",
              "\n",
              "    .colab-df-convert {\n",
              "      background-color: #E8F0FE;\n",
              "      border: none;\n",
              "      border-radius: 50%;\n",
              "      cursor: pointer;\n",
              "      display: none;\n",
              "      fill: #1967D2;\n",
              "      height: 32px;\n",
              "      padding: 0 0 0 0;\n",
              "      width: 32px;\n",
              "    }\n",
              "\n",
              "    .colab-df-convert:hover {\n",
              "      background-color: #E2EBFA;\n",
              "      box-shadow: 0px 1px 2px rgba(60, 64, 67, 0.3), 0px 1px 3px 1px rgba(60, 64, 67, 0.15);\n",
              "      fill: #174EA6;\n",
              "    }\n",
              "\n",
              "    [theme=dark] .colab-df-convert {\n",
              "      background-color: #3B4455;\n",
              "      fill: #D2E3FC;\n",
              "    }\n",
              "\n",
              "    [theme=dark] .colab-df-convert:hover {\n",
              "      background-color: #434B5C;\n",
              "      box-shadow: 0px 1px 3px 1px rgba(0, 0, 0, 0.15);\n",
              "      filter: drop-shadow(0px 1px 2px rgba(0, 0, 0, 0.3));\n",
              "      fill: #FFFFFF;\n",
              "    }\n",
              "  </style>\n",
              "\n",
              "      <script>\n",
              "        const buttonEl =\n",
              "          document.querySelector('#df-7b6c34a3-c21a-48f2-b4af-a98c4f4e58f7 button.colab-df-convert');\n",
              "        buttonEl.style.display =\n",
              "          google.colab.kernel.accessAllowed ? 'block' : 'none';\n",
              "\n",
              "        async function convertToInteractive(key) {\n",
              "          const element = document.querySelector('#df-7b6c34a3-c21a-48f2-b4af-a98c4f4e58f7');\n",
              "          const dataTable =\n",
              "            await google.colab.kernel.invokeFunction('convertToInteractive',\n",
              "                                                     [key], {});\n",
              "          if (!dataTable) return;\n",
              "\n",
              "          const docLinkHtml = 'Like what you see? Visit the ' +\n",
              "            '<a target=\"_blank\" href=https://colab.research.google.com/notebooks/data_table.ipynb>data table notebook</a>'\n",
              "            + ' to learn more about interactive tables.';\n",
              "          element.innerHTML = '';\n",
              "          dataTable['output_type'] = 'display_data';\n",
              "          await google.colab.output.renderOutput(dataTable, element);\n",
              "          const docLink = document.createElement('div');\n",
              "          docLink.innerHTML = docLinkHtml;\n",
              "          element.appendChild(docLink);\n",
              "        }\n",
              "      </script>\n",
              "    </div>\n",
              "  </div>\n",
              "  "
            ]
          },
          "metadata": {},
          "execution_count": 300
        }
      ],
      "source": [
        "df.head()"
      ]
    },
    {
      "cell_type": "code",
      "execution_count": 301,
      "metadata": {
        "id": "X0sYL7b47Kte",
        "colab": {
          "base_uri": "https://localhost:8080/"
        },
        "outputId": "8f100ed1-e347-4f36-8f50-fed708cd5114"
      },
      "outputs": [
        {
          "output_type": "execute_result",
          "data": {
            "text/plain": [
              "(1142, 5)"
            ]
          },
          "metadata": {},
          "execution_count": 301
        }
      ],
      "source": [
        "df[df['Series_Complete_Pop_pct_agegroup'] >= 0.7].shape"
      ]
    },
    {
      "cell_type": "code",
      "source": [
        "print(df['AgeGroupVacc'].value_counts())\n",
        "print(\"_____________________________\")\n",
        "print(len(df['AgeGroupVacc'].unique()))"
      ],
      "metadata": {
        "colab": {
          "base_uri": "https://localhost:8080/"
        },
        "id": "_CDK4-c1DJEw",
        "outputId": "1928c66d-9e14-44c8-d76d-59b0c72175fc"
      },
      "execution_count": 302,
      "outputs": [
        {
          "output_type": "stream",
          "name": "stdout",
          "text": [
            "<2 Years         667\n",
            "12 - 17 Years    667\n",
            "25 - 49 Years    667\n",
            "2 - 4 Years      666\n",
            "5 - 11 Years     666\n",
            "18 - 24 Years    666\n",
            "50 - 64 Years    666\n",
            "65+ Years        666\n",
            "Name: AgeGroupVacc, dtype: int64\n",
            "_____________________________\n",
            "8\n"
          ]
        }
      ]
    },
    {
      "cell_type": "code",
      "execution_count": 303,
      "metadata": {
        "colab": {
          "base_uri": "https://localhost:8080/",
          "height": 0
        },
        "id": "Otv2o15Q8pYH",
        "outputId": "9cee5c7d-13ba-4164-de00-bbe21e19f102"
      },
      "outputs": [
        {
          "output_type": "execute_result",
          "data": {
            "text/plain": [
              "        Date Administered   AgeGroupVacc  7-day_avg_group_cases_per_100k  \\\n",
              "0  10/11/2022 12:00:00 AM       <2 Years                        2.091826   \n",
              "1  10/11/2022 12:00:00 AM  12 - 17 Years                        2.389293   \n",
              "2  10/11/2022 12:00:00 AM  25 - 49 Years                        4.375377   \n",
              "3  10/10/2022 12:00:00 AM       <2 Years                        2.888181   \n",
              "4  10/10/2022 12:00:00 AM    2 - 4 Years                        3.362708   \n",
              "\n",
              "   Administered_Dose1_pct_agegroup  Series_Complete_Pop_pct_agegroup  \n",
              "0                            0.052                             0.017  \n",
              "1                            0.711                             0.608  \n",
              "2                            0.840                             0.710  \n",
              "3                            0.052                             0.017  \n",
              "4                            0.080                             0.032  "
            ],
            "text/html": [
              "\n",
              "  <div id=\"df-a9113208-0b82-4bfd-ab95-4581f1a490e9\">\n",
              "    <div class=\"colab-df-container\">\n",
              "      <div>\n",
              "<style scoped>\n",
              "    .dataframe tbody tr th:only-of-type {\n",
              "        vertical-align: middle;\n",
              "    }\n",
              "\n",
              "    .dataframe tbody tr th {\n",
              "        vertical-align: top;\n",
              "    }\n",
              "\n",
              "    .dataframe thead th {\n",
              "        text-align: right;\n",
              "    }\n",
              "</style>\n",
              "<table border=\"1\" class=\"dataframe\">\n",
              "  <thead>\n",
              "    <tr style=\"text-align: right;\">\n",
              "      <th></th>\n",
              "      <th>Date Administered</th>\n",
              "      <th>AgeGroupVacc</th>\n",
              "      <th>7-day_avg_group_cases_per_100k</th>\n",
              "      <th>Administered_Dose1_pct_agegroup</th>\n",
              "      <th>Series_Complete_Pop_pct_agegroup</th>\n",
              "    </tr>\n",
              "  </thead>\n",
              "  <tbody>\n",
              "    <tr>\n",
              "      <th>0</th>\n",
              "      <td>10/11/2022 12:00:00 AM</td>\n",
              "      <td>&lt;2 Years</td>\n",
              "      <td>2.091826</td>\n",
              "      <td>0.052</td>\n",
              "      <td>0.017</td>\n",
              "    </tr>\n",
              "    <tr>\n",
              "      <th>1</th>\n",
              "      <td>10/11/2022 12:00:00 AM</td>\n",
              "      <td>12 - 17 Years</td>\n",
              "      <td>2.389293</td>\n",
              "      <td>0.711</td>\n",
              "      <td>0.608</td>\n",
              "    </tr>\n",
              "    <tr>\n",
              "      <th>2</th>\n",
              "      <td>10/11/2022 12:00:00 AM</td>\n",
              "      <td>25 - 49 Years</td>\n",
              "      <td>4.375377</td>\n",
              "      <td>0.840</td>\n",
              "      <td>0.710</td>\n",
              "    </tr>\n",
              "    <tr>\n",
              "      <th>3</th>\n",
              "      <td>10/10/2022 12:00:00 AM</td>\n",
              "      <td>&lt;2 Years</td>\n",
              "      <td>2.888181</td>\n",
              "      <td>0.052</td>\n",
              "      <td>0.017</td>\n",
              "    </tr>\n",
              "    <tr>\n",
              "      <th>4</th>\n",
              "      <td>10/10/2022 12:00:00 AM</td>\n",
              "      <td>2 - 4 Years</td>\n",
              "      <td>3.362708</td>\n",
              "      <td>0.080</td>\n",
              "      <td>0.032</td>\n",
              "    </tr>\n",
              "  </tbody>\n",
              "</table>\n",
              "</div>\n",
              "      <button class=\"colab-df-convert\" onclick=\"convertToInteractive('df-a9113208-0b82-4bfd-ab95-4581f1a490e9')\"\n",
              "              title=\"Convert this dataframe to an interactive table.\"\n",
              "              style=\"display:none;\">\n",
              "        \n",
              "  <svg xmlns=\"http://www.w3.org/2000/svg\" height=\"24px\"viewBox=\"0 0 24 24\"\n",
              "       width=\"24px\">\n",
              "    <path d=\"M0 0h24v24H0V0z\" fill=\"none\"/>\n",
              "    <path d=\"M18.56 5.44l.94 2.06.94-2.06 2.06-.94-2.06-.94-.94-2.06-.94 2.06-2.06.94zm-11 1L8.5 8.5l.94-2.06 2.06-.94-2.06-.94L8.5 2.5l-.94 2.06-2.06.94zm10 10l.94 2.06.94-2.06 2.06-.94-2.06-.94-.94-2.06-.94 2.06-2.06.94z\"/><path d=\"M17.41 7.96l-1.37-1.37c-.4-.4-.92-.59-1.43-.59-.52 0-1.04.2-1.43.59L10.3 9.45l-7.72 7.72c-.78.78-.78 2.05 0 2.83L4 21.41c.39.39.9.59 1.41.59.51 0 1.02-.2 1.41-.59l7.78-7.78 2.81-2.81c.8-.78.8-2.07 0-2.86zM5.41 20L4 18.59l7.72-7.72 1.47 1.35L5.41 20z\"/>\n",
              "  </svg>\n",
              "      </button>\n",
              "      \n",
              "  <style>\n",
              "    .colab-df-container {\n",
              "      display:flex;\n",
              "      flex-wrap:wrap;\n",
              "      gap: 12px;\n",
              "    }\n",
              "\n",
              "    .colab-df-convert {\n",
              "      background-color: #E8F0FE;\n",
              "      border: none;\n",
              "      border-radius: 50%;\n",
              "      cursor: pointer;\n",
              "      display: none;\n",
              "      fill: #1967D2;\n",
              "      height: 32px;\n",
              "      padding: 0 0 0 0;\n",
              "      width: 32px;\n",
              "    }\n",
              "\n",
              "    .colab-df-convert:hover {\n",
              "      background-color: #E2EBFA;\n",
              "      box-shadow: 0px 1px 2px rgba(60, 64, 67, 0.3), 0px 1px 3px 1px rgba(60, 64, 67, 0.15);\n",
              "      fill: #174EA6;\n",
              "    }\n",
              "\n",
              "    [theme=dark] .colab-df-convert {\n",
              "      background-color: #3B4455;\n",
              "      fill: #D2E3FC;\n",
              "    }\n",
              "\n",
              "    [theme=dark] .colab-df-convert:hover {\n",
              "      background-color: #434B5C;\n",
              "      box-shadow: 0px 1px 3px 1px rgba(0, 0, 0, 0.15);\n",
              "      filter: drop-shadow(0px 1px 2px rgba(0, 0, 0, 0.3));\n",
              "      fill: #FFFFFF;\n",
              "    }\n",
              "  </style>\n",
              "\n",
              "      <script>\n",
              "        const buttonEl =\n",
              "          document.querySelector('#df-a9113208-0b82-4bfd-ab95-4581f1a490e9 button.colab-df-convert');\n",
              "        buttonEl.style.display =\n",
              "          google.colab.kernel.accessAllowed ? 'block' : 'none';\n",
              "\n",
              "        async function convertToInteractive(key) {\n",
              "          const element = document.querySelector('#df-a9113208-0b82-4bfd-ab95-4581f1a490e9');\n",
              "          const dataTable =\n",
              "            await google.colab.kernel.invokeFunction('convertToInteractive',\n",
              "                                                     [key], {});\n",
              "          if (!dataTable) return;\n",
              "\n",
              "          const docLinkHtml = 'Like what you see? Visit the ' +\n",
              "            '<a target=\"_blank\" href=https://colab.research.google.com/notebooks/data_table.ipynb>data table notebook</a>'\n",
              "            + ' to learn more about interactive tables.';\n",
              "          element.innerHTML = '';\n",
              "          dataTable['output_type'] = 'display_data';\n",
              "          await google.colab.output.renderOutput(dataTable, element);\n",
              "          const docLink = document.createElement('div');\n",
              "          docLink.innerHTML = docLinkHtml;\n",
              "          element.appendChild(docLink);\n",
              "        }\n",
              "      </script>\n",
              "    </div>\n",
              "  </div>\n",
              "  "
            ]
          },
          "metadata": {},
          "execution_count": 303
        }
      ],
      "source": [
        "df.head()"
      ]
    },
    {
      "cell_type": "code",
      "execution_count": 304,
      "metadata": {
        "colab": {
          "base_uri": "https://localhost:8080/"
        },
        "id": "ojX8nuq48qg-",
        "outputId": "f95714b0-8403-400e-de45-d49cfc0c4a26"
      },
      "outputs": [
        {
          "output_type": "execute_result",
          "data": {
            "text/plain": [
              "Date Administered                   0\n",
              "AgeGroupVacc                        0\n",
              "7-day_avg_group_cases_per_100k      0\n",
              "Administered_Dose1_pct_agegroup     0\n",
              "Series_Complete_Pop_pct_agegroup    0\n",
              "dtype: int64"
            ]
          },
          "metadata": {},
          "execution_count": 304
        }
      ],
      "source": [
        "df.isnull().sum()"
      ]
    },
    {
      "cell_type": "markdown",
      "source": [
        "#Feature Selection"
      ],
      "metadata": {
        "id": "EBSWzSK6eoDc"
      }
    },
    {
      "cell_type": "code",
      "source": [
        "df['Immunity'] = (df[\"7-day_avg_group_cases_per_100k\"] < 3) & (df['Series_Complete_Pop_pct_agegroup'] > 0.7)\n",
        "\n",
        "df.head()"
      ],
      "metadata": {
        "colab": {
          "base_uri": "https://localhost:8080/",
          "height": 354
        },
        "id": "VDgIIDwceruf",
        "outputId": "6e4ce197-505c-4a90-b94b-18d5d9689ad5"
      },
      "execution_count": 305,
      "outputs": [
        {
          "output_type": "execute_result",
          "data": {
            "text/plain": [
              "        Date Administered   AgeGroupVacc  7-day_avg_group_cases_per_100k  \\\n",
              "0  10/11/2022 12:00:00 AM       <2 Years                        2.091826   \n",
              "1  10/11/2022 12:00:00 AM  12 - 17 Years                        2.389293   \n",
              "2  10/11/2022 12:00:00 AM  25 - 49 Years                        4.375377   \n",
              "3  10/10/2022 12:00:00 AM       <2 Years                        2.888181   \n",
              "4  10/10/2022 12:00:00 AM    2 - 4 Years                        3.362708   \n",
              "\n",
              "   Administered_Dose1_pct_agegroup  Series_Complete_Pop_pct_agegroup  Immunity  \n",
              "0                            0.052                             0.017     False  \n",
              "1                            0.711                             0.608     False  \n",
              "2                            0.840                             0.710     False  \n",
              "3                            0.052                             0.017     False  \n",
              "4                            0.080                             0.032     False  "
            ],
            "text/html": [
              "\n",
              "  <div id=\"df-a87b0682-de6f-4e6f-adb8-d00056753c15\">\n",
              "    <div class=\"colab-df-container\">\n",
              "      <div>\n",
              "<style scoped>\n",
              "    .dataframe tbody tr th:only-of-type {\n",
              "        vertical-align: middle;\n",
              "    }\n",
              "\n",
              "    .dataframe tbody tr th {\n",
              "        vertical-align: top;\n",
              "    }\n",
              "\n",
              "    .dataframe thead th {\n",
              "        text-align: right;\n",
              "    }\n",
              "</style>\n",
              "<table border=\"1\" class=\"dataframe\">\n",
              "  <thead>\n",
              "    <tr style=\"text-align: right;\">\n",
              "      <th></th>\n",
              "      <th>Date Administered</th>\n",
              "      <th>AgeGroupVacc</th>\n",
              "      <th>7-day_avg_group_cases_per_100k</th>\n",
              "      <th>Administered_Dose1_pct_agegroup</th>\n",
              "      <th>Series_Complete_Pop_pct_agegroup</th>\n",
              "      <th>Immunity</th>\n",
              "    </tr>\n",
              "  </thead>\n",
              "  <tbody>\n",
              "    <tr>\n",
              "      <th>0</th>\n",
              "      <td>10/11/2022 12:00:00 AM</td>\n",
              "      <td>&lt;2 Years</td>\n",
              "      <td>2.091826</td>\n",
              "      <td>0.052</td>\n",
              "      <td>0.017</td>\n",
              "      <td>False</td>\n",
              "    </tr>\n",
              "    <tr>\n",
              "      <th>1</th>\n",
              "      <td>10/11/2022 12:00:00 AM</td>\n",
              "      <td>12 - 17 Years</td>\n",
              "      <td>2.389293</td>\n",
              "      <td>0.711</td>\n",
              "      <td>0.608</td>\n",
              "      <td>False</td>\n",
              "    </tr>\n",
              "    <tr>\n",
              "      <th>2</th>\n",
              "      <td>10/11/2022 12:00:00 AM</td>\n",
              "      <td>25 - 49 Years</td>\n",
              "      <td>4.375377</td>\n",
              "      <td>0.840</td>\n",
              "      <td>0.710</td>\n",
              "      <td>False</td>\n",
              "    </tr>\n",
              "    <tr>\n",
              "      <th>3</th>\n",
              "      <td>10/10/2022 12:00:00 AM</td>\n",
              "      <td>&lt;2 Years</td>\n",
              "      <td>2.888181</td>\n",
              "      <td>0.052</td>\n",
              "      <td>0.017</td>\n",
              "      <td>False</td>\n",
              "    </tr>\n",
              "    <tr>\n",
              "      <th>4</th>\n",
              "      <td>10/10/2022 12:00:00 AM</td>\n",
              "      <td>2 - 4 Years</td>\n",
              "      <td>3.362708</td>\n",
              "      <td>0.080</td>\n",
              "      <td>0.032</td>\n",
              "      <td>False</td>\n",
              "    </tr>\n",
              "  </tbody>\n",
              "</table>\n",
              "</div>\n",
              "      <button class=\"colab-df-convert\" onclick=\"convertToInteractive('df-a87b0682-de6f-4e6f-adb8-d00056753c15')\"\n",
              "              title=\"Convert this dataframe to an interactive table.\"\n",
              "              style=\"display:none;\">\n",
              "        \n",
              "  <svg xmlns=\"http://www.w3.org/2000/svg\" height=\"24px\"viewBox=\"0 0 24 24\"\n",
              "       width=\"24px\">\n",
              "    <path d=\"M0 0h24v24H0V0z\" fill=\"none\"/>\n",
              "    <path d=\"M18.56 5.44l.94 2.06.94-2.06 2.06-.94-2.06-.94-.94-2.06-.94 2.06-2.06.94zm-11 1L8.5 8.5l.94-2.06 2.06-.94-2.06-.94L8.5 2.5l-.94 2.06-2.06.94zm10 10l.94 2.06.94-2.06 2.06-.94-2.06-.94-.94-2.06-.94 2.06-2.06.94z\"/><path d=\"M17.41 7.96l-1.37-1.37c-.4-.4-.92-.59-1.43-.59-.52 0-1.04.2-1.43.59L10.3 9.45l-7.72 7.72c-.78.78-.78 2.05 0 2.83L4 21.41c.39.39.9.59 1.41.59.51 0 1.02-.2 1.41-.59l7.78-7.78 2.81-2.81c.8-.78.8-2.07 0-2.86zM5.41 20L4 18.59l7.72-7.72 1.47 1.35L5.41 20z\"/>\n",
              "  </svg>\n",
              "      </button>\n",
              "      \n",
              "  <style>\n",
              "    .colab-df-container {\n",
              "      display:flex;\n",
              "      flex-wrap:wrap;\n",
              "      gap: 12px;\n",
              "    }\n",
              "\n",
              "    .colab-df-convert {\n",
              "      background-color: #E8F0FE;\n",
              "      border: none;\n",
              "      border-radius: 50%;\n",
              "      cursor: pointer;\n",
              "      display: none;\n",
              "      fill: #1967D2;\n",
              "      height: 32px;\n",
              "      padding: 0 0 0 0;\n",
              "      width: 32px;\n",
              "    }\n",
              "\n",
              "    .colab-df-convert:hover {\n",
              "      background-color: #E2EBFA;\n",
              "      box-shadow: 0px 1px 2px rgba(60, 64, 67, 0.3), 0px 1px 3px 1px rgba(60, 64, 67, 0.15);\n",
              "      fill: #174EA6;\n",
              "    }\n",
              "\n",
              "    [theme=dark] .colab-df-convert {\n",
              "      background-color: #3B4455;\n",
              "      fill: #D2E3FC;\n",
              "    }\n",
              "\n",
              "    [theme=dark] .colab-df-convert:hover {\n",
              "      background-color: #434B5C;\n",
              "      box-shadow: 0px 1px 3px 1px rgba(0, 0, 0, 0.15);\n",
              "      filter: drop-shadow(0px 1px 2px rgba(0, 0, 0, 0.3));\n",
              "      fill: #FFFFFF;\n",
              "    }\n",
              "  </style>\n",
              "\n",
              "      <script>\n",
              "        const buttonEl =\n",
              "          document.querySelector('#df-a87b0682-de6f-4e6f-adb8-d00056753c15 button.colab-df-convert');\n",
              "        buttonEl.style.display =\n",
              "          google.colab.kernel.accessAllowed ? 'block' : 'none';\n",
              "\n",
              "        async function convertToInteractive(key) {\n",
              "          const element = document.querySelector('#df-a87b0682-de6f-4e6f-adb8-d00056753c15');\n",
              "          const dataTable =\n",
              "            await google.colab.kernel.invokeFunction('convertToInteractive',\n",
              "                                                     [key], {});\n",
              "          if (!dataTable) return;\n",
              "\n",
              "          const docLinkHtml = 'Like what you see? Visit the ' +\n",
              "            '<a target=\"_blank\" href=https://colab.research.google.com/notebooks/data_table.ipynb>data table notebook</a>'\n",
              "            + ' to learn more about interactive tables.';\n",
              "          element.innerHTML = '';\n",
              "          dataTable['output_type'] = 'display_data';\n",
              "          await google.colab.output.renderOutput(dataTable, element);\n",
              "          const docLink = document.createElement('div');\n",
              "          docLink.innerHTML = docLinkHtml;\n",
              "          element.appendChild(docLink);\n",
              "        }\n",
              "      </script>\n",
              "    </div>\n",
              "  </div>\n",
              "  "
            ]
          },
          "metadata": {},
          "execution_count": 305
        }
      ]
    },
    {
      "cell_type": "code",
      "source": [
        "df['Immunity'].value_counts()\n",
        "\n",
        "one = (df[\"Immunity\"].value_counts()[1].sum()/df[\"Immunity\"].value_counts()[0].sum()) * 100\n",
        "\n",
        "print(f\"Percentage of values which are one: {round(one, 2)}\")"
      ],
      "metadata": {
        "colab": {
          "base_uri": "https://localhost:8080/"
        },
        "id": "2akPFSJGfBig",
        "outputId": "eae9e9d8-d14b-4a73-8a1f-9fc9e89fa65f"
      },
      "execution_count": 306,
      "outputs": [
        {
          "output_type": "stream",
          "name": "stdout",
          "text": [
            "Percentage of values which are one: 0.47\n"
          ]
        }
      ]
    },
    {
      "cell_type": "markdown",
      "source": [
        "##Correlation Matrix"
      ],
      "metadata": {
        "id": "Ku027E5tBb-8"
      }
    },
    {
      "cell_type": "code",
      "source": [
        "corr_matrix = df.corr()\n",
        "\n",
        "print(corr_matrix)"
      ],
      "metadata": {
        "id": "VOvJh9rpFqia",
        "colab": {
          "base_uri": "https://localhost:8080/"
        },
        "outputId": "05372ef5-c547-44c2-e62a-f835e832d70a"
      },
      "execution_count": 307,
      "outputs": [
        {
          "output_type": "stream",
          "name": "stdout",
          "text": [
            "                                  7-day_avg_group_cases_per_100k  \\\n",
            "7-day_avg_group_cases_per_100k                          1.000000   \n",
            "Administered_Dose1_pct_agegroup                         0.068510   \n",
            "Series_Complete_Pop_pct_agegroup                        0.062031   \n",
            "Immunity                                               -0.052589   \n",
            "\n",
            "                                  Administered_Dose1_pct_agegroup  \\\n",
            "7-day_avg_group_cases_per_100k                           0.068510   \n",
            "Administered_Dose1_pct_agegroup                          1.000000   \n",
            "Series_Complete_Pop_pct_agegroup                         0.992843   \n",
            "Immunity                                                 0.082536   \n",
            "\n",
            "                                  Series_Complete_Pop_pct_agegroup  Immunity  \n",
            "7-day_avg_group_cases_per_100k                            0.062031 -0.052589  \n",
            "Administered_Dose1_pct_agegroup                           0.992843  0.082536  \n",
            "Series_Complete_Pop_pct_agegroup                          1.000000  0.089751  \n",
            "Immunity                                                  0.089751  1.000000  \n"
          ]
        }
      ]
    },
    {
      "cell_type": "code",
      "source": [
        "import seaborn as sns\n",
        "sns.heatmap(df.corr(),annot=True)"
      ],
      "metadata": {
        "colab": {
          "base_uri": "https://localhost:8080/",
          "height": 0
        },
        "id": "bIrJvaPLA9au",
        "outputId": "7ff8e3af-7a61-459c-b1ad-bdbff9524cd2"
      },
      "execution_count": 308,
      "outputs": [
        {
          "output_type": "execute_result",
          "data": {
            "text/plain": [
              "<matplotlib.axes._subplots.AxesSubplot at 0x7fb6538b9610>"
            ]
          },
          "metadata": {},
          "execution_count": 308
        },
        {
          "output_type": "display_data",
          "data": {
            "text/plain": [
              "<Figure size 432x288 with 2 Axes>"
            ],
            "image/png": "[encoded data removed]"
          },
          "metadata": {}
        }
      ]
    },
    {
      "cell_type": "markdown",
      "source": [
        "##Importance"
      ],
      "metadata": {
        "id": "dmaKGBE8Betd"
      }
    },
    {
      "cell_type": "code",
      "source": [
        "print(df.columns)"
      ],
      "metadata": {
        "colab": {
          "base_uri": "https://localhost:8080/"
        },
        "id": "VAXrTkG4BxXS",
        "outputId": "820541da-7a50-4be7-f90c-f2f924950091"
      },
      "execution_count": 309,
      "outputs": [
        {
          "output_type": "stream",
          "name": "stdout",
          "text": [
            "Index(['Date Administered', 'AgeGroupVacc', '7-day_avg_group_cases_per_100k',\n",
            "       'Administered_Dose1_pct_agegroup', 'Series_Complete_Pop_pct_agegroup',\n",
            "       'Immunity'],\n",
            "      dtype='object')\n"
          ]
        }
      ]
    },
    {
      "cell_type": "code",
      "source": [
        "df.dtypes"
      ],
      "metadata": {
        "colab": {
          "base_uri": "https://localhost:8080/"
        },
        "id": "zeSnmZBvCAsM",
        "outputId": "7c9697d9-546a-410c-8653-e242af52fa5d"
      },
      "execution_count": 310,
      "outputs": [
        {
          "output_type": "execute_result",
          "data": {
            "text/plain": [
              "Date Administered                    object\n",
              "AgeGroupVacc                         object\n",
              "7-day_avg_group_cases_per_100k      float64\n",
              "Administered_Dose1_pct_agegroup     float64\n",
              "Series_Complete_Pop_pct_agegroup    float64\n",
              "Immunity                               bool\n",
              "dtype: object"
            ]
          },
          "metadata": {},
          "execution_count": 310
        }
      ]
    },
    {
      "cell_type": "code",
      "source": [
        "from sklearn.ensemble import RandomForestRegressor\n",
        "\n",
        "# Create an instance of the model\n",
        "rf = RandomForestRegressor()\n",
        "\n",
        "# Fit the model on the data\n",
        "rf.fit(df[['Series_Complete_Pop_pct_agegroup']], df['Immunity'])\n",
        "\n",
        "# Get the feature importance that column\n",
        "importance = rf.feature_importances_\n",
        "\n",
        "print(\"Importance of series column: \", importance)"
      ],
      "metadata": {
        "colab": {
          "base_uri": "https://localhost:8080/"
        },
        "id": "J9siJZhbBAss",
        "outputId": "65f80d9e-cd22-4444-c9f4-7cbae435fddc"
      },
      "execution_count": 311,
      "outputs": [
        {
          "output_type": "stream",
          "name": "stdout",
          "text": [
            "Importance of series column:  [1.]\n"
          ]
        }
      ]
    },
    {
      "cell_type": "code",
      "source": [
        "rf.fit(df[['7-day_avg_group_cases_per_100k']], df['Immunity'])\n",
        "\n",
        "# Get the feature importance that column\n",
        "importance = rf.feature_importances_\n",
        "\n",
        "print(\"Importance of 7 day avg column: \", importance)"
      ],
      "metadata": {
        "colab": {
          "base_uri": "https://localhost:8080/"
        },
        "id": "FnIDMFsvCp6O",
        "outputId": "fcfd767a-67fc-46d2-9299-57007b2c3f82"
      },
      "execution_count": 312,
      "outputs": [
        {
          "output_type": "stream",
          "name": "stdout",
          "text": [
            "Importance of 7 day avg column:  [1.]\n"
          ]
        }
      ]
    },
    {
      "cell_type": "markdown",
      "source": [
        "##Target Variable"
      ],
      "metadata": {
        "id": "Z-AozLBwy7ny"
      }
    },
    {
      "cell_type": "code",
      "source": [
        "one = df[df['Immunity'] == 1]\n",
        "\n",
        "zero = df[df['Immunity'] == 0]\n",
        "\n",
        "zero = zero.iloc[5200:]\n",
        "\n",
        "final_df = pd.concat([one, zero], ignore_index=True)\n",
        "\n",
        "df  = final_df.drop(\"Date Administered\", axis=1)"
      ],
      "metadata": {
        "id": "IUDK26MuzDSG"
      },
      "execution_count": 313,
      "outputs": []
    },
    {
      "cell_type": "code",
      "source": [
        "Immunity = df['Immunity'].value_counts()\n",
        "\n",
        "Immunity.plot(kind='pie')"
      ],
      "metadata": {
        "colab": {
          "base_uri": "https://localhost:8080/",
          "height": 265
        },
        "id": "2Z2EWpBYzRhV",
        "outputId": "f870b35f-2734-4677-dfc4-c538b782bfc1"
      },
      "execution_count": 314,
      "outputs": [
        {
          "output_type": "execute_result",
          "data": {
            "text/plain": [
              "<matplotlib.axes._subplots.AxesSubplot at 0x7fb6537d9760>"
            ]
          },
          "metadata": {},
          "execution_count": 314
        },
        {
          "output_type": "display_data",
          "data": {
            "text/plain": [
              "<Figure size 432x288 with 1 Axes>"
            ],
            "image/png": "[encoded data removed]"
          },
          "metadata": {}
        }
      ]
    },
    {
      "cell_type": "markdown",
      "source": [
        "#Machine Learning Techniques"
      ],
      "metadata": {
        "id": "Ptz6Sqy0D-Nc"
      }
    },
    {
      "cell_type": "markdown",
      "source": [
        "##Data Preprocessing for Algorithms"
      ],
      "metadata": {
        "id": "u_lGbFGLQLuO"
      }
    },
    {
      "cell_type": "code",
      "source": [
        "print(df['AgeGroupVacc'].value_counts())\n",
        "print(\"_____________________________\")\n",
        "print(len(df['AgeGroupVacc'].unique()))"
      ],
      "metadata": {
        "colab": {
          "base_uri": "https://localhost:8080/"
        },
        "id": "PS0e9htbRoJz",
        "outputId": "6016fabf-cb04-4c52-e0e1-3a525f62fcc6"
      },
      "execution_count": 315,
      "outputs": [
        {
          "output_type": "stream",
          "name": "stdout",
          "text": [
            "65+ Years        39\n",
            "50 - 64 Years    14\n",
            "<2 Years         13\n",
            "2 - 4 Years      13\n",
            "5 - 11 Years     13\n",
            "12 - 17 Years    13\n",
            "18 - 24 Years    13\n",
            "25 - 49 Years    13\n",
            "Name: AgeGroupVacc, dtype: int64\n",
            "_____________________________\n",
            "8\n"
          ]
        }
      ]
    },
    {
      "cell_type": "code",
      "source": [
        "from sklearn import preprocessing\n",
        "\n",
        "le = preprocessing.LabelEncoder()\n",
        "df['AgeGroupVacc'] = le.fit_transform(df.AgeGroupVacc.values)"
      ],
      "metadata": {
        "id": "05SKVjjcRqHK"
      },
      "execution_count": 316,
      "outputs": []
    },
    {
      "cell_type": "code",
      "source": [
        "df.head()"
      ],
      "metadata": {
        "colab": {
          "base_uri": "https://localhost:8080/",
          "height": 0
        },
        "id": "AWDept0KRseq",
        "outputId": "3f0e6872-0d8a-4ae4-bddb-09d520e8dfe0"
      },
      "execution_count": 317,
      "outputs": [
        {
          "output_type": "execute_result",
          "data": {
            "text/plain": [
              "   AgeGroupVacc  7-day_avg_group_cases_per_100k  \\\n",
              "0             6                        2.997824   \n",
              "1             6                        2.918808   \n",
              "2             6                        2.921980   \n",
              "3             6                        2.980911   \n",
              "4             6                        2.983818   \n",
              "\n",
              "   Administered_Dose1_pct_agegroup  Series_Complete_Pop_pct_agegroup  Immunity  \n",
              "0                            0.882                             0.812      True  \n",
              "1                            0.882                             0.811      True  \n",
              "2                            0.881                             0.810      True  \n",
              "3                            0.881                             0.810      True  \n",
              "4                            0.880                             0.809      True  "
            ],
            "text/html": [
              "\n",
              "  <div id=\"df-d2c3f107-6529-4d0a-8d21-f1c1df3dcc88\">\n",
              "    <div class=\"colab-df-container\">\n",
              "      <div>\n",
              "<style scoped>\n",
              "    .dataframe tbody tr th:only-of-type {\n",
              "        vertical-align: middle;\n",
              "    }\n",
              "\n",
              "    .dataframe tbody tr th {\n",
              "        vertical-align: top;\n",
              "    }\n",
              "\n",
              "    .dataframe thead th {\n",
              "        text-align: right;\n",
              "    }\n",
              "</style>\n",
              "<table border=\"1\" class=\"dataframe\">\n",
              "  <thead>\n",
              "    <tr style=\"text-align: right;\">\n",
              "      <th></th>\n",
              "      <th>AgeGroupVacc</th>\n",
              "      <th>7-day_avg_group_cases_per_100k</th>\n",
              "      <th>Administered_Dose1_pct_agegroup</th>\n",
              "      <th>Series_Complete_Pop_pct_agegroup</th>\n",
              "      <th>Immunity</th>\n",
              "    </tr>\n",
              "  </thead>\n",
              "  <tbody>\n",
              "    <tr>\n",
              "      <th>0</th>\n",
              "      <td>6</td>\n",
              "      <td>2.997824</td>\n",
              "      <td>0.882</td>\n",
              "      <td>0.812</td>\n",
              "      <td>True</td>\n",
              "    </tr>\n",
              "    <tr>\n",
              "      <th>1</th>\n",
              "      <td>6</td>\n",
              "      <td>2.918808</td>\n",
              "      <td>0.882</td>\n",
              "      <td>0.811</td>\n",
              "      <td>True</td>\n",
              "    </tr>\n",
              "    <tr>\n",
              "      <th>2</th>\n",
              "      <td>6</td>\n",
              "      <td>2.921980</td>\n",
              "      <td>0.881</td>\n",
              "      <td>0.810</td>\n",
              "      <td>True</td>\n",
              "    </tr>\n",
              "    <tr>\n",
              "      <th>3</th>\n",
              "      <td>6</td>\n",
              "      <td>2.980911</td>\n",
              "      <td>0.881</td>\n",
              "      <td>0.810</td>\n",
              "      <td>True</td>\n",
              "    </tr>\n",
              "    <tr>\n",
              "      <th>4</th>\n",
              "      <td>6</td>\n",
              "      <td>2.983818</td>\n",
              "      <td>0.880</td>\n",
              "      <td>0.809</td>\n",
              "      <td>True</td>\n",
              "    </tr>\n",
              "  </tbody>\n",
              "</table>\n",
              "</div>\n",
              "      <button class=\"colab-df-convert\" onclick=\"convertToInteractive('df-d2c3f107-6529-4d0a-8d21-f1c1df3dcc88')\"\n",
              "              title=\"Convert this dataframe to an interactive table.\"\n",
              "              style=\"display:none;\">\n",
              "        \n",
              "  <svg xmlns=\"http://www.w3.org/2000/svg\" height=\"24px\"viewBox=\"0 0 24 24\"\n",
              "       width=\"24px\">\n",
              "    <path d=\"M0 0h24v24H0V0z\" fill=\"none\"/>\n",
              "    <path d=\"M18.56 5.44l.94 2.06.94-2.06 2.06-.94-2.06-.94-.94-2.06-.94 2.06-2.06.94zm-11 1L8.5 8.5l.94-2.06 2.06-.94-2.06-.94L8.5 2.5l-.94 2.06-2.06.94zm10 10l.94 2.06.94-2.06 2.06-.94-2.06-.94-.94-2.06-.94 2.06-2.06.94z\"/><path d=\"M17.41 7.96l-1.37-1.37c-.4-.4-.92-.59-1.43-.59-.52 0-1.04.2-1.43.59L10.3 9.45l-7.72 7.72c-.78.78-.78 2.05 0 2.83L4 21.41c.39.39.9.59 1.41.59.51 0 1.02-.2 1.41-.59l7.78-7.78 2.81-2.81c.8-.78.8-2.07 0-2.86zM5.41 20L4 18.59l7.72-7.72 1.47 1.35L5.41 20z\"/>\n",
              "  </svg>\n",
              "      </button>\n",
              "      \n",
              "  <style>\n",
              "    .colab-df-container {\n",
              "      display:flex;\n",
              "      flex-wrap:wrap;\n",
              "      gap: 12px;\n",
              "    }\n",
              "\n",
              "    .colab-df-convert {\n",
              "      background-color: #E8F0FE;\n",
              "      border: none;\n",
              "      border-radius: 50%;\n",
              "      cursor: pointer;\n",
              "      display: none;\n",
              "      fill: #1967D2;\n",
              "      height: 32px;\n",
              "      padding: 0 0 0 0;\n",
              "      width: 32px;\n",
              "    }\n",
              "\n",
              "    .colab-df-convert:hover {\n",
              "      background-color: #E2EBFA;\n",
              "      box-shadow: 0px 1px 2px rgba(60, 64, 67, 0.3), 0px 1px 3px 1px rgba(60, 64, 67, 0.15);\n",
              "      fill: #174EA6;\n",
              "    }\n",
              "\n",
              "    [theme=dark] .colab-df-convert {\n",
              "      background-color: #3B4455;\n",
              "      fill: #D2E3FC;\n",
              "    }\n",
              "\n",
              "    [theme=dark] .colab-df-convert:hover {\n",
              "      background-color: #434B5C;\n",
              "      box-shadow: 0px 1px 3px 1px rgba(0, 0, 0, 0.15);\n",
              "      filter: drop-shadow(0px 1px 2px rgba(0, 0, 0, 0.3));\n",
              "      fill: #FFFFFF;\n",
              "    }\n",
              "  </style>\n",
              "\n",
              "      <script>\n",
              "        const buttonEl =\n",
              "          document.querySelector('#df-d2c3f107-6529-4d0a-8d21-f1c1df3dcc88 button.colab-df-convert');\n",
              "        buttonEl.style.display =\n",
              "          google.colab.kernel.accessAllowed ? 'block' : 'none';\n",
              "\n",
              "        async function convertToInteractive(key) {\n",
              "          const element = document.querySelector('#df-d2c3f107-6529-4d0a-8d21-f1c1df3dcc88');\n",
              "          const dataTable =\n",
              "            await google.colab.kernel.invokeFunction('convertToInteractive',\n",
              "                                                     [key], {});\n",
              "          if (!dataTable) return;\n",
              "\n",
              "          const docLinkHtml = 'Like what you see? Visit the ' +\n",
              "            '<a target=\"_blank\" href=https://colab.research.google.com/notebooks/data_table.ipynb>data table notebook</a>'\n",
              "            + ' to learn more about interactive tables.';\n",
              "          element.innerHTML = '';\n",
              "          dataTable['output_type'] = 'display_data';\n",
              "          await google.colab.output.renderOutput(dataTable, element);\n",
              "          const docLink = document.createElement('div');\n",
              "          docLink.innerHTML = docLinkHtml;\n",
              "          element.appendChild(docLink);\n",
              "        }\n",
              "      </script>\n",
              "    </div>\n",
              "  </div>\n",
              "  "
            ]
          },
          "metadata": {},
          "execution_count": 317
        }
      ]
    },
    {
      "cell_type": "markdown",
      "source": [
        "##Random Forest"
      ],
      "metadata": {
        "id": "z0sGJRHiEHVh"
      }
    },
    {
      "cell_type": "code",
      "source": [
        "#Seperating features and labels\n",
        "X = df.iloc[:, :1].values\n",
        "y = df.iloc[:, -1].values\n",
        "\n",
        "# split the data using Scikit-Learn's train_test_split\n",
        "from sklearn.model_selection import train_test_split\n",
        "X_train, X_test, y_train, y_test = train_test_split(X, y)"
      ],
      "metadata": {
        "id": "jGV-vNJyLJr4"
      },
      "execution_count": 318,
      "outputs": []
    },
    {
      "cell_type": "code",
      "source": [
        "# importing random forest classifier from assemble module\n",
        "from sklearn.ensemble import RandomForestClassifier\n",
        "# creating a RF classifier\n",
        "clf = RandomForestClassifier(n_estimators = 100) \n",
        " \n",
        "# Training the model on the training dataset\n",
        "clf.fit(X_train, y_train)\n",
        " \n",
        "# performing predictions on the test dataset\n",
        "y_pred = clf.predict(X_test)\n",
        " \n",
        "# metrics are used to find accuracy or error\n",
        "from sklearn import metrics \n",
        "print()\n",
        "\n",
        "RF_acc = metrics.accuracy_score(y_test, y_pred)*100\n",
        "# using metrics module for accuracy calculation\n",
        "print(\"ACCURACY OF THE MODEL: \", RF_acc)"
      ],
      "metadata": {
        "colab": {
          "base_uri": "https://localhost:8080/"
        },
        "id": "DhAO2w3dLcDr",
        "outputId": "64bf9819-c4d8-432a-b450-c7f94e5c37f8"
      },
      "execution_count": 319,
      "outputs": [
        {
          "output_type": "stream",
          "name": "stdout",
          "text": [
            "\n",
            "ACCURACY OF THE MODEL:  93.93939393939394\n"
          ]
        }
      ]
    },
    {
      "cell_type": "markdown",
      "source": [
        "##Support Vector machine"
      ],
      "metadata": {
        "id": "O8XS0Y1oS7GP"
      }
    },
    {
      "cell_type": "code",
      "source": [
        "#Seperating features and labels\n",
        "X = df.iloc[:, :1].values\n",
        "y = df.iloc[:, -1].values\n",
        "\n",
        "\n",
        "# split the data using Scikit-Learn's train_test_split\n",
        "from sklearn.model_selection import train_test_split\n",
        "X_train, X_test, y_train, y_test = train_test_split(X, y)"
      ],
      "metadata": {
        "id": "05AxbbuaO5Ad"
      },
      "execution_count": 320,
      "outputs": []
    },
    {
      "cell_type": "code",
      "source": [
        "#Import svm model\n",
        "from sklearn import svm\n",
        "\n",
        "#Create a svm Classifier\n",
        "clf = svm.SVC(kernel='linear') # Linear Kernel\n",
        "\n",
        "#Train the model using the training sets\n",
        "clf.fit(X_train, y_train)\n",
        "\n",
        "#Predict the response for test dataset\n",
        "y_pred = clf.predict(X_test)"
      ],
      "metadata": {
        "id": "KQ_M_08gTap3"
      },
      "execution_count": 321,
      "outputs": []
    },
    {
      "cell_type": "code",
      "source": [
        "#Import scikit-learn metrics module for accuracy calculation\n",
        "from sklearn import metrics\n",
        "\n",
        "SVM_acc = metrics.accuracy_score(y_test, y_pred)*100\n",
        "# Model Accuracy: how often is the classifier correct?\n",
        "print(\"Accuracy:\", SVM_acc)"
      ],
      "metadata": {
        "colab": {
          "base_uri": "https://localhost:8080/"
        },
        "id": "Da0AZX0wTgOU",
        "outputId": "8bb1c2a2-5b0d-4d93-dbfb-c039e6eb8143"
      },
      "execution_count": 322,
      "outputs": [
        {
          "output_type": "stream",
          "name": "stdout",
          "text": [
            "Accuracy: 81.81818181818183\n"
          ]
        }
      ]
    },
    {
      "cell_type": "markdown",
      "source": [
        "##Logistics Regression/Linear Classification"
      ],
      "metadata": {
        "id": "7hFAT8mNTj3W"
      }
    },
    {
      "cell_type": "code",
      "source": [
        "#Seperating features and labels\n",
        "X = df.iloc[:, :3].values\n",
        "y = df.iloc[:, -1].values\n",
        "\n",
        "\n",
        "# split the data using Scikit-Learn's train_test_split\n",
        "from sklearn.model_selection import train_test_split\n",
        "X_train, X_test, y_train, y_test = train_test_split(X, y)"
      ],
      "metadata": {
        "id": "-7Io0q8lTiTh"
      },
      "execution_count": 323,
      "outputs": []
    },
    {
      "cell_type": "code",
      "source": [
        "from sklearn.linear_model import LogisticRegression\n",
        "\n",
        "log_Regressor = LogisticRegression()\n",
        "log_Regressor.fit(X_train , y_train)"
      ],
      "metadata": {
        "colab": {
          "base_uri": "https://localhost:8080/"
        },
        "id": "LmPxxY31T3VJ",
        "outputId": "6d79ff48-d6df-4f13-832e-2555650f8471"
      },
      "execution_count": 324,
      "outputs": [
        {
          "output_type": "execute_result",
          "data": {
            "text/plain": [
              "LogisticRegression()"
            ]
          },
          "metadata": {},
          "execution_count": 324
        }
      ]
    },
    {
      "cell_type": "code",
      "source": [
        "#Import scikit-learn metrics module for accuracy calculation\n",
        "from sklearn import metrics\n",
        "\n",
        "LR_acc = metrics.accuracy_score(y_test, y_pred)*100\n",
        "# Model Accuracy: how often is the classifier correct?\n",
        "print(\"Accuracy:\", LR_acc)"
      ],
      "metadata": {
        "colab": {
          "base_uri": "https://localhost:8080/"
        },
        "id": "pIe1I0dlUBoa",
        "outputId": "cd5e9aeb-f629-47f4-c1f1-e63c0b0c6177"
      },
      "execution_count": 325,
      "outputs": [
        {
          "output_type": "stream",
          "name": "stdout",
          "text": [
            "Accuracy: 81.81818181818183\n"
          ]
        }
      ]
    },
    {
      "cell_type": "markdown",
      "source": [
        "##Gaussian Naive Bayes"
      ],
      "metadata": {
        "id": "Zj1XJjyAUQhm"
      }
    },
    {
      "cell_type": "code",
      "source": [
        "#Seperating features and labels\n",
        "X = df.iloc[:, :1].values\n",
        "y = df.iloc[:, -1].values\n",
        "\n",
        "\n",
        "# split the data using Scikit-Learn's train_test_split\n",
        "from sklearn.model_selection import train_test_split\n",
        "X_train, X_test, y_train, y_test = train_test_split(X, y)"
      ],
      "metadata": {
        "id": "LHjJya5Ciizl"
      },
      "execution_count": 326,
      "outputs": []
    },
    {
      "cell_type": "code",
      "source": [
        "# training the model on training set\n",
        "from sklearn.naive_bayes import GaussianNB\n",
        "gnb = GaussianNB()\n",
        "gnb.fit(X_train, y_train)\n",
        " \n",
        "# making predictions on the testing set\n",
        "y_pred = gnb.predict(X_test)\n",
        "\n",
        "NB_acc = metrics.accuracy_score(y_test, y_pred)*100\n",
        "# Accuracy of the model\n",
        "print(\"ACCURACY OF THE MODEL: \", NB_acc)"
      ],
      "metadata": {
        "colab": {
          "base_uri": "https://localhost:8080/"
        },
        "id": "6gzswgaCULgU",
        "outputId": "a0422688-5411-4e44-b97f-5748befe6a67"
      },
      "execution_count": 327,
      "outputs": [
        {
          "output_type": "stream",
          "name": "stdout",
          "text": [
            "ACCURACY OF THE MODEL:  87.87878787878788\n"
          ]
        }
      ]
    },
    {
      "cell_type": "markdown",
      "source": [
        "##XG Boost"
      ],
      "metadata": {
        "id": "2YKvk0V3Vpoj"
      }
    },
    {
      "cell_type": "code",
      "source": [
        "from sklearn import datasets\n",
        "from sklearn import metrics\n",
        "from sklearn.model_selection import train_test_split\n",
        "import matplotlib.pyplot as plt\n",
        "import seaborn as sns\n",
        "\n",
        "plt.style.use(\"ggplot\")\n",
        "\n",
        "import xgboost as xgb"
      ],
      "metadata": {
        "id": "dzk2QoaVWX-n"
      },
      "execution_count": 328,
      "outputs": []
    },
    {
      "cell_type": "code",
      "source": [
        "X_train, X_test, y_train, y_test = train_test_split(X, y, test_size=0.25)"
      ],
      "metadata": {
        "id": "_b9R25lVVnId"
      },
      "execution_count": 329,
      "outputs": []
    },
    {
      "cell_type": "code",
      "source": [
        "model = xgb.XGBClassifier()\n",
        "model.fit(X_train, y_train)\n",
        "print(); print(model)"
      ],
      "metadata": {
        "colab": {
          "base_uri": "https://localhost:8080/"
        },
        "id": "cA0XKr5sWIzt",
        "outputId": "6fb57dd8-6c5d-4d02-c477-a1ab3f13e352"
      },
      "execution_count": 330,
      "outputs": [
        {
          "output_type": "stream",
          "name": "stdout",
          "text": [
            "\n",
            "XGBClassifier()\n"
          ]
        }
      ]
    },
    {
      "cell_type": "code",
      "source": [
        "expected_y  = y_test\n",
        "predicted_y = model.predict(X_test)\n",
        "\n",
        "print(metrics.classification_report(expected_y, predicted_y))"
      ],
      "metadata": {
        "colab": {
          "base_uri": "https://localhost:8080/"
        },
        "id": "BEUZqio0Wu-u",
        "outputId": "2257a445-29c2-441d-979b-a7a82c1d039e"
      },
      "execution_count": 331,
      "outputs": [
        {
          "output_type": "stream",
          "name": "stdout",
          "text": [
            "              precision    recall  f1-score   support\n",
            "\n",
            "       False       0.70      1.00      0.82        23\n",
            "        True       0.00      0.00      0.00        10\n",
            "\n",
            "    accuracy                           0.70        33\n",
            "   macro avg       0.35      0.50      0.41        33\n",
            "weighted avg       0.49      0.70      0.57        33\n",
            "\n"
          ]
        },
        {
          "output_type": "stream",
          "name": "stderr",
          "text": [
            "/usr/local/lib/python3.8/dist-packages/sklearn/metrics/_classification.py:1318: UndefinedMetricWarning: Precision and F-score are ill-defined and being set to 0.0 in labels with no predicted samples. Use `zero_division` parameter to control this behavior.\n",
            "  _warn_prf(average, modifier, msg_start, len(result))\n",
            "/usr/local/lib/python3.8/dist-packages/sklearn/metrics/_classification.py:1318: UndefinedMetricWarning: Precision and F-score are ill-defined and being set to 0.0 in labels with no predicted samples. Use `zero_division` parameter to control this behavior.\n",
            "  _warn_prf(average, modifier, msg_start, len(result))\n",
            "/usr/local/lib/python3.8/dist-packages/sklearn/metrics/_classification.py:1318: UndefinedMetricWarning: Precision and F-score are ill-defined and being set to 0.0 in labels with no predicted samples. Use `zero_division` parameter to control this behavior.\n",
            "  _warn_prf(average, modifier, msg_start, len(result))\n"
          ]
        }
      ]
    },
    {
      "cell_type": "code",
      "source": [
        "XG_acc = metrics.accuracy_score(expected_y, y_pred)*100\n",
        "\n",
        "print(\"ACCURACY OF THE MODEL: \", XG_acc)"
      ],
      "metadata": {
        "colab": {
          "base_uri": "https://localhost:8080/"
        },
        "id": "ZFXFy0wmfyqf",
        "outputId": "6e6ee555-3e2c-462b-beb4-3e8e26fa05a2"
      },
      "execution_count": 332,
      "outputs": [
        {
          "output_type": "stream",
          "name": "stdout",
          "text": [
            "ACCURACY OF THE MODEL:  42.42424242424242\n"
          ]
        }
      ]
    },
    {
      "cell_type": "markdown",
      "source": [
        "##Accuracy of all algorithms"
      ],
      "metadata": {
        "id": "-JVk-CyIfaeJ"
      }
    },
    {
      "cell_type": "code",
      "source": [
        "import matplotlib.pyplot as plt\n",
        "import numpy as np\n",
        "from matplotlib.pyplot import figure\n",
        "\n",
        "figure(figsize=(8, 4), dpi=80)\n",
        "\n",
        "# Create an array of 5 values\n",
        "data = np.round(np.array([RF_acc, SVM_acc, LR_acc, NB_acc, XG_acc]))\n",
        "\n",
        "# Specify the x-axis labels\n",
        "labels = ['RF', 'SVM', 'LR', 'GNB', 'XGBoost']\n",
        "\n",
        "# Colors\n",
        "colors = ['#eab676']\n",
        "\n",
        "# Create the histogram plot\n",
        "plt.bar(labels, data, color=colors, width=0.34)\n",
        "\n",
        "# Add values to each bar\n",
        "# for i, v in enumerate(data):\n",
        "#     plt.text(i, v, str(v), color='black', ha='center')\n",
        "\n",
        "# Add title and labels\n",
        "plt.title(\"ACCURACY\", size=16, fontweight=\"bold\")\n",
        "\n",
        "# Set Margins\n",
        "plt.margins(x=0.1, y=0.1)\n",
        "\n",
        "# Hide grid lines\n",
        "# plt.grid(False)\n",
        "\n",
        "# Hide axes ticks\n",
        "# plt.xticks([])\n",
        "# plt.yticks([])\n",
        "\n",
        "# Show the plot\n",
        "plt.show()\n"
      ],
      "metadata": {
        "colab": {
          "base_uri": "https://localhost:8080/",
          "height": 313
        },
        "id": "o_mGhhCSjk0f",
        "outputId": "07d943f8-bd95-4fe2-c267-509f4902ef5f"
      },
      "execution_count": 333,
      "outputs": [
        {
          "output_type": "display_data",
          "data": {
            "text/plain": [
              "<Figure size 640x320 with 1 Axes>"
            ],
            "image/png": "[encoded data removed]"
          },
          "metadata": {}
        }
      ]
    },
    {
      "cell_type": "code",
      "source": [
        "plt.figure()\n",
        "ax = sns.distplot(df['Series_Complete_Pop_pct_agegroup'][df.Immunity == 1], color = 'darkturquoise', rug=True)\n",
        "sns.distplot(df['Series_Complete_Pop_pct_agegroup'][df.Immunity == 0], color = 'lightcoral', rug=True)\n",
        "plt.legend(['Bad Immunity without Vaccination', \"Good Immunity with Vaccination\"])"
      ],
      "metadata": {
        "colab": {
          "base_uri": "https://localhost:8080/",
          "height": 493
        },
        "id": "__vHlBOMs6yX",
        "outputId": "cb0137ad-77a2-4c10-8e21-7bc4b8df4f52"
      },
      "execution_count": 334,
      "outputs": [
        {
          "output_type": "stream",
          "name": "stderr",
          "text": [
            "/usr/local/lib/python3.8/dist-packages/seaborn/distributions.py:2619: FutureWarning: `distplot` is a deprecated function and will be removed in a future version. Please adapt your code to use either `displot` (a figure-level function with similar flexibility) or `histplot` (an axes-level function for histograms).\n",
            "  warnings.warn(msg, FutureWarning)\n",
            "/usr/local/lib/python3.8/dist-packages/seaborn/distributions.py:2103: FutureWarning: The `axis` variable is no longer used and will be removed. Instead, assign variables directly to `x` or `y`.\n",
            "  warnings.warn(msg, FutureWarning)\n",
            "/usr/local/lib/python3.8/dist-packages/seaborn/distributions.py:2619: FutureWarning: `distplot` is a deprecated function and will be removed in a future version. Please adapt your code to use either `displot` (a figure-level function with similar flexibility) or `histplot` (an axes-level function for histograms).\n",
            "  warnings.warn(msg, FutureWarning)\n",
            "/usr/local/lib/python3.8/dist-packages/seaborn/distributions.py:316: UserWarning: Dataset has 0 variance; skipping density estimate. Pass `warn_singular=False` to disable this warning.\n",
            "  warnings.warn(msg, UserWarning)\n",
            "/usr/local/lib/python3.8/dist-packages/seaborn/distributions.py:2103: FutureWarning: The `axis` variable is no longer used and will be removed. Instead, assign variables directly to `x` or `y`.\n",
            "  warnings.warn(msg, FutureWarning)\n"
          ]
        },
        {
          "output_type": "execute_result",
          "data": {
            "text/plain": [
              "<matplotlib.legend.Legend at 0x7fb6537597f0>"
            ]
          },
          "metadata": {},
          "execution_count": 334
        },
        {
          "output_type": "display_data",
          "data": {
            "text/plain": [
              "<Figure size 432x288 with 1 Axes>"
            ],
            "image/png": "[encoded data removed]"
          },
          "metadata": {}
        }
      ]
    },
    {
      "cell_type": "code",
      "source": [],
      "metadata": {
        "id": "7Y4ylvDswNqU"
      },
      "execution_count": 334,
      "outputs": []
    }
  ],
  "metadata": {
    "colab": {
      "provenance": [],
      "collapsed_sections": [
        "bn5dn5SFAikF",
        "PwQBOipFAnhN",
        "Ku027E5tBb-8",
        "dmaKGBE8Betd",
        "Z-AozLBwy7ny",
        "u_lGbFGLQLuO",
        "z0sGJRHiEHVh",
        "O8XS0Y1oS7GP",
        "7hFAT8mNTj3W",
        "Zj1XJjyAUQhm",
        "2YKvk0V3Vpoj"
      ]
    },
    "kernelspec": {
      "display_name": "Python 3",
      "name": "python3"
    },
    "language_info": {
      "name": "python"
    }
  },
  "nbformat": 4,
  "nbformat_minor": 0
}