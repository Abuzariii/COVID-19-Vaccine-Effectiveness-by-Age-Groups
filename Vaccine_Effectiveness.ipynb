{
  "cells": [
    {
      "cell_type": "code",
      "execution_count": 1,
      "metadata": {
        "id": "HNq6gtld5z8n"
      },
      "outputs": [],
      "source": [
        "import pandas as pd\n",
        "import numpy as np\n",
        "import seaborn as sns"
      ]
    },
    {
      "cell_type": "code",
      "source": [
        "import warnings\n",
        "warnings.filterwarnings('ignore')\n",
        "warnings.simplefilter('ignore')"
      ],
      "metadata": {
        "id": "pLnfRwVAqeXW"
      },
      "execution_count": 2,
      "outputs": []
    },
    {
      "cell_type": "markdown",
      "source": [
        "#Dataset"
      ],
      "metadata": {
        "id": "bn5dn5SFAikF"
      }
    },
    {
      "cell_type": "code",
      "execution_count": 3,
      "metadata": {
        "id": "aV1farN15_-I"
      },
      "outputs": [],
      "source": [
        "df = pd.read_csv('COVID Data.csv')"
      ]
    },
    {
      "cell_type": "code",
      "execution_count": 4,
      "metadata": {
        "colab": {
          "base_uri": "https://localhost:8080/"
        },
        "id": "eBJ8U1Mq6qos",
        "outputId": "07cce51c-22b7-4632-8ca4-2f8226186694"
      },
      "outputs": [
        {
          "output_type": "execute_result",
          "data": {
            "text/plain": [
              "(5331, 5)"
            ]
          },
          "metadata": {},
          "execution_count": 4
        }
      ],
      "source": [
        "df.shape"
      ]
    },
    {
      "cell_type": "markdown",
      "source": [
        "#Preprocessing"
      ],
      "metadata": {
        "id": "PwQBOipFAnhN"
      }
    },
    {
      "cell_type": "code",
      "execution_count": 5,
      "metadata": {
        "colab": {
          "base_uri": "https://localhost:8080/"
        },
        "id": "RwD44Z-y6xdm",
        "outputId": "8460a4e4-f74d-40b2-9609-4d93b8e7bbbb"
      },
      "outputs": [
        {
          "output_type": "execute_result",
          "data": {
            "text/plain": [
              "Date Administered                   0\n",
              "AgeGroupVacc                        0\n",
              "7-day_avg_group_cases_per_100k      0\n",
              "Administered_Dose1_pct_agegroup     0\n",
              "Series_Complete_Pop_pct_agegroup    0\n",
              "dtype: int64"
            ]
          },
          "metadata": {},
          "execution_count": 5
        }
      ],
      "source": [
        "df.isnull().sum()"
      ]
    },
    {
      "cell_type": "code",
      "execution_count": 6,
      "metadata": {
        "colab": {
          "base_uri": "https://localhost:8080/",
          "height": 206
        },
        "id": "F2rp-Cxn_mku",
        "outputId": "7c71eeed-b186-4b3e-88ff-0584b0c2db68"
      },
      "outputs": [
        {
          "output_type": "execute_result",
          "data": {
            "text/plain": [
              "        Date Administered   AgeGroupVacc  7-day_avg_group_cases_per_100k  \\\n",
              "0  10/11/2022 12:00:00 AM       <2 Years                        2.091826   \n",
              "1  10/11/2022 12:00:00 AM  12 - 17 Years                        2.389293   \n",
              "2  10/11/2022 12:00:00 AM  25 - 49 Years                        4.375377   \n",
              "3  10/10/2022 12:00:00 AM       <2 Years                        2.888181   \n",
              "4  10/10/2022 12:00:00 AM    2 - 4 Years                        3.362708   \n",
              "\n",
              "   Administered_Dose1_pct_agegroup  Series_Complete_Pop_pct_agegroup  \n",
              "0                            0.052                             0.017  \n",
              "1                            0.711                             0.608  \n",
              "2                            0.840                             0.710  \n",
              "3                            0.052                             0.017  \n",
              "4                            0.080                             0.032  "
            ],
            "text/html": [
              "\n",
              "  <div id=\"df-318acfff-ddb5-48d2-ae0d-c54ed8dfd454\">\n",
              "    <div class=\"colab-df-container\">\n",
              "      <div>\n",
              "<style scoped>\n",
              "    .dataframe tbody tr th:only-of-type {\n",
              "        vertical-align: middle;\n",
              "    }\n",
              "\n",
              "    .dataframe tbody tr th {\n",
              "        vertical-align: top;\n",
              "    }\n",
              "\n",
              "    .dataframe thead th {\n",
              "        text-align: right;\n",
              "    }\n",
              "</style>\n",
              "<table border=\"1\" class=\"dataframe\">\n",
              "  <thead>\n",
              "    <tr style=\"text-align: right;\">\n",
              "      <th></th>\n",
              "      <th>Date Administered</th>\n",
              "      <th>AgeGroupVacc</th>\n",
              "      <th>7-day_avg_group_cases_per_100k</th>\n",
              "      <th>Administered_Dose1_pct_agegroup</th>\n",
              "      <th>Series_Complete_Pop_pct_agegroup</th>\n",
              "    </tr>\n",
              "  </thead>\n",
              "  <tbody>\n",
              "    <tr>\n",
              "      <th>0</th>\n",
              "      <td>10/11/2022 12:00:00 AM</td>\n",
              "      <td>&lt;2 Years</td>\n",
              "      <td>2.091826</td>\n",
              "      <td>0.052</td>\n",
              "      <td>0.017</td>\n",
              "    </tr>\n",
              "    <tr>\n",
              "      <th>1</th>\n",
              "      <td>10/11/2022 12:00:00 AM</td>\n",
              "      <td>12 - 17 Years</td>\n",
              "      <td>2.389293</td>\n",
              "      <td>0.711</td>\n",
              "      <td>0.608</td>\n",
              "    </tr>\n",
              "    <tr>\n",
              "      <th>2</th>\n",
              "      <td>10/11/2022 12:00:00 AM</td>\n",
              "      <td>25 - 49 Years</td>\n",
              "      <td>4.375377</td>\n",
              "      <td>0.840</td>\n",
              "      <td>0.710</td>\n",
              "    </tr>\n",
              "    <tr>\n",
              "      <th>3</th>\n",
              "      <td>10/10/2022 12:00:00 AM</td>\n",
              "      <td>&lt;2 Years</td>\n",
              "      <td>2.888181</td>\n",
              "      <td>0.052</td>\n",
              "      <td>0.017</td>\n",
              "    </tr>\n",
              "    <tr>\n",
              "      <th>4</th>\n",
              "      <td>10/10/2022 12:00:00 AM</td>\n",
              "      <td>2 - 4 Years</td>\n",
              "      <td>3.362708</td>\n",
              "      <td>0.080</td>\n",
              "      <td>0.032</td>\n",
              "    </tr>\n",
              "  </tbody>\n",
              "</table>\n",
              "</div>\n",
              "      <button class=\"colab-df-convert\" onclick=\"convertToInteractive('df-318acfff-ddb5-48d2-ae0d-c54ed8dfd454')\"\n",
              "              title=\"Convert this dataframe to an interactive table.\"\n",
              "              style=\"display:none;\">\n",
              "        \n",
              "  <svg xmlns=\"http://www.w3.org/2000/svg\" height=\"24px\"viewBox=\"0 0 24 24\"\n",
              "       width=\"24px\">\n",
              "    <path d=\"M0 0h24v24H0V0z\" fill=\"none\"/>\n",
              "    <path d=\"M18.56 5.44l.94 2.06.94-2.06 2.06-.94-2.06-.94-.94-2.06-.94 2.06-2.06.94zm-11 1L8.5 8.5l.94-2.06 2.06-.94-2.06-.94L8.5 2.5l-.94 2.06-2.06.94zm10 10l.94 2.06.94-2.06 2.06-.94-2.06-.94-.94-2.06-.94 2.06-2.06.94z\"/><path d=\"M17.41 7.96l-1.37-1.37c-.4-.4-.92-.59-1.43-.59-.52 0-1.04.2-1.43.59L10.3 9.45l-7.72 7.72c-.78.78-.78 2.05 0 2.83L4 21.41c.39.39.9.59 1.41.59.51 0 1.02-.2 1.41-.59l7.78-7.78 2.81-2.81c.8-.78.8-2.07 0-2.86zM5.41 20L4 18.59l7.72-7.72 1.47 1.35L5.41 20z\"/>\n",
              "  </svg>\n",
              "      </button>\n",
              "      \n",
              "  <style>\n",
              "    .colab-df-container {\n",
              "      display:flex;\n",
              "      flex-wrap:wrap;\n",
              "      gap: 12px;\n",
              "    }\n",
              "\n",
              "    .colab-df-convert {\n",
              "      background-color: #E8F0FE;\n",
              "      border: none;\n",
              "      border-radius: 50%;\n",
              "      cursor: pointer;\n",
              "      display: none;\n",
              "      fill: #1967D2;\n",
              "      height: 32px;\n",
              "      padding: 0 0 0 0;\n",
              "      width: 32px;\n",
              "    }\n",
              "\n",
              "    .colab-df-convert:hover {\n",
              "      background-color: #E2EBFA;\n",
              "      box-shadow: 0px 1px 2px rgba(60, 64, 67, 0.3), 0px 1px 3px 1px rgba(60, 64, 67, 0.15);\n",
              "      fill: #174EA6;\n",
              "    }\n",
              "\n",
              "    [theme=dark] .colab-df-convert {\n",
              "      background-color: #3B4455;\n",
              "      fill: #D2E3FC;\n",
              "    }\n",
              "\n",
              "    [theme=dark] .colab-df-convert:hover {\n",
              "      background-color: #434B5C;\n",
              "      box-shadow: 0px 1px 3px 1px rgba(0, 0, 0, 0.15);\n",
              "      filter: drop-shadow(0px 1px 2px rgba(0, 0, 0, 0.3));\n",
              "      fill: #FFFFFF;\n",
              "    }\n",
              "  </style>\n",
              "\n",
              "      <script>\n",
              "        const buttonEl =\n",
              "          document.querySelector('#df-318acfff-ddb5-48d2-ae0d-c54ed8dfd454 button.colab-df-convert');\n",
              "        buttonEl.style.display =\n",
              "          google.colab.kernel.accessAllowed ? 'block' : 'none';\n",
              "\n",
              "        async function convertToInteractive(key) {\n",
              "          const element = document.querySelector('#df-318acfff-ddb5-48d2-ae0d-c54ed8dfd454');\n",
              "          const dataTable =\n",
              "            await google.colab.kernel.invokeFunction('convertToInteractive',\n",
              "                                                     [key], {});\n",
              "          if (!dataTable) return;\n",
              "\n",
              "          const docLinkHtml = 'Like what you see? Visit the ' +\n",
              "            '<a target=\"_blank\" href=https://colab.research.google.com/notebooks/data_table.ipynb>data table notebook</a>'\n",
              "            + ' to learn more about interactive tables.';\n",
              "          element.innerHTML = '';\n",
              "          dataTable['output_type'] = 'display_data';\n",
              "          await google.colab.output.renderOutput(dataTable, element);\n",
              "          const docLink = document.createElement('div');\n",
              "          docLink.innerHTML = docLinkHtml;\n",
              "          element.appendChild(docLink);\n",
              "        }\n",
              "      </script>\n",
              "    </div>\n",
              "  </div>\n",
              "  "
            ]
          },
          "metadata": {},
          "execution_count": 6
        }
      ],
      "source": [
        "df.head()"
      ]
    },
    {
      "cell_type": "code",
      "source": [
        "print(\"Average Cases: \", df['7-day_avg_group_cases_per_100k'].mean())\n",
        "print(\"Minimum Cases: \", df['7-day_avg_group_cases_per_100k'].min())\n",
        "print(\"Maximum Cases: \", df['7-day_avg_group_cases_per_100k'].max())"
      ],
      "metadata": {
        "colab": {
          "base_uri": "https://localhost:8080/"
        },
        "id": "CQeBY-uVuMmT",
        "outputId": "cb023fc5-ae82-4e43-bdb3-81306a8118fc"
      },
      "execution_count": 7,
      "outputs": [
        {
          "output_type": "stream",
          "name": "stdout",
          "text": [
            "Average Cases:  30.625570325845523\n",
            "Minimum Cases:  1.62491137761832\n",
            "Maximum Cases:  300.7184049961944\n"
          ]
        }
      ]
    },
    {
      "cell_type": "code",
      "source": [
        "import matplotlib.pyplot as plt\n",
        "\n",
        "plt.hist(df['7-day_avg_group_cases_per_100k'], bins=5)\n",
        "plt.xlabel('Values')\n",
        "plt.ylabel('Frequency')\n",
        "plt.title('Value Distribution in Column ')\n",
        "plt.show()"
      ],
      "metadata": {
        "colab": {
          "base_uri": "https://localhost:8080/",
          "height": 295
        },
        "id": "_OuQa2bT2lWm",
        "outputId": "44fae8ba-211e-457b-8baa-4efd19a5b876"
      },
      "execution_count": 8,
      "outputs": [
        {
          "output_type": "display_data",
          "data": {
            "text/plain": [
              "<Figure size 432x288 with 1 Axes>"
            ],
            "image/png": "[encoded data removed]"
          },
          "metadata": {
            "needs_background": "light"
          }
        }
      ]
    },
    {
      "cell_type": "code",
      "source": [
        "df[df['7-day_avg_group_cases_per_100k']>299].head()"
      ],
      "metadata": {
        "colab": {
          "base_uri": "https://localhost:8080/",
          "height": 112
        },
        "id": "4vxfIZQxuzqg",
        "outputId": "93e20b7a-1644-41e6-ea95-a4764c01c481"
      },
      "execution_count": 9,
      "outputs": [
        {
          "output_type": "execute_result",
          "data": {
            "text/plain": [
              "           Date Administered   AgeGroupVacc  7-day_avg_group_cases_per_100k  \\\n",
              "2199  01/09/2022 12:00:00 AM  18 - 24 Years                      300.718405   \n",
              "2207  01/08/2022 12:00:00 AM  18 - 24 Years                      300.609676   \n",
              "\n",
              "      Administered_Dose1_pct_agegroup  Series_Complete_Pop_pct_agegroup  \n",
              "2199                            0.736                             0.609  \n",
              "2207                            0.736                             0.608  "
            ],
            "text/html": [
              "\n",
              "  <div id=\"df-fb102817-34df-4009-9bd1-54c6f979c78d\">\n",
              "    <div class=\"colab-df-container\">\n",
              "      <div>\n",
              "<style scoped>\n",
              "    .dataframe tbody tr th:only-of-type {\n",
              "        vertical-align: middle;\n",
              "    }\n",
              "\n",
              "    .dataframe tbody tr th {\n",
              "        vertical-align: top;\n",
              "    }\n",
              "\n",
              "    .dataframe thead th {\n",
              "        text-align: right;\n",
              "    }\n",
              "</style>\n",
              "<table border=\"1\" class=\"dataframe\">\n",
              "  <thead>\n",
              "    <tr style=\"text-align: right;\">\n",
              "      <th></th>\n",
              "      <th>Date Administered</th>\n",
              "      <th>AgeGroupVacc</th>\n",
              "      <th>7-day_avg_group_cases_per_100k</th>\n",
              "      <th>Administered_Dose1_pct_agegroup</th>\n",
              "      <th>Series_Complete_Pop_pct_agegroup</th>\n",
              "    </tr>\n",
              "  </thead>\n",
              "  <tbody>\n",
              "    <tr>\n",
              "      <th>2199</th>\n",
              "      <td>01/09/2022 12:00:00 AM</td>\n",
              "      <td>18 - 24 Years</td>\n",
              "      <td>300.718405</td>\n",
              "      <td>0.736</td>\n",
              "      <td>0.609</td>\n",
              "    </tr>\n",
              "    <tr>\n",
              "      <th>2207</th>\n",
              "      <td>01/08/2022 12:00:00 AM</td>\n",
              "      <td>18 - 24 Years</td>\n",
              "      <td>300.609676</td>\n",
              "      <td>0.736</td>\n",
              "      <td>0.608</td>\n",
              "    </tr>\n",
              "  </tbody>\n",
              "</table>\n",
              "</div>\n",
              "      <button class=\"colab-df-convert\" onclick=\"convertToInteractive('df-fb102817-34df-4009-9bd1-54c6f979c78d')\"\n",
              "              title=\"Convert this dataframe to an interactive table.\"\n",
              "              style=\"display:none;\">\n",
              "        \n",
              "  <svg xmlns=\"http://www.w3.org/2000/svg\" height=\"24px\"viewBox=\"0 0 24 24\"\n",
              "       width=\"24px\">\n",
              "    <path d=\"M0 0h24v24H0V0z\" fill=\"none\"/>\n",
              "    <path d=\"M18.56 5.44l.94 2.06.94-2.06 2.06-.94-2.06-.94-.94-2.06-.94 2.06-2.06.94zm-11 1L8.5 8.5l.94-2.06 2.06-.94-2.06-.94L8.5 2.5l-.94 2.06-2.06.94zm10 10l.94 2.06.94-2.06 2.06-.94-2.06-.94-.94-2.06-.94 2.06-2.06.94z\"/><path d=\"M17.41 7.96l-1.37-1.37c-.4-.4-.92-.59-1.43-.59-.52 0-1.04.2-1.43.59L10.3 9.45l-7.72 7.72c-.78.78-.78 2.05 0 2.83L4 21.41c.39.39.9.59 1.41.59.51 0 1.02-.2 1.41-.59l7.78-7.78 2.81-2.81c.8-.78.8-2.07 0-2.86zM5.41 20L4 18.59l7.72-7.72 1.47 1.35L5.41 20z\"/>\n",
              "  </svg>\n",
              "      </button>\n",
              "      \n",
              "  <style>\n",
              "    .colab-df-container {\n",
              "      display:flex;\n",
              "      flex-wrap:wrap;\n",
              "      gap: 12px;\n",
              "    }\n",
              "\n",
              "    .colab-df-convert {\n",
              "      background-color: #E8F0FE;\n",
              "      border: none;\n",
              "      border-radius: 50%;\n",
              "      cursor: pointer;\n",
              "      display: none;\n",
              "      fill: #1967D2;\n",
              "      height: 32px;\n",
              "      padding: 0 0 0 0;\n",
              "      width: 32px;\n",
              "    }\n",
              "\n",
              "    .colab-df-convert:hover {\n",
              "      background-color: #E2EBFA;\n",
              "      box-shadow: 0px 1px 2px rgba(60, 64, 67, 0.3), 0px 1px 3px 1px rgba(60, 64, 67, 0.15);\n",
              "      fill: #174EA6;\n",
              "    }\n",
              "\n",
              "    [theme=dark] .colab-df-convert {\n",
              "      background-color: #3B4455;\n",
              "      fill: #D2E3FC;\n",
              "    }\n",
              "\n",
              "    [theme=dark] .colab-df-convert:hover {\n",
              "      background-color: #434B5C;\n",
              "      box-shadow: 0px 1px 3px 1px rgba(0, 0, 0, 0.15);\n",
              "      filter: drop-shadow(0px 1px 2px rgba(0, 0, 0, 0.3));\n",
              "      fill: #FFFFFF;\n",
              "    }\n",
              "  </style>\n",
              "\n",
              "      <script>\n",
              "        const buttonEl =\n",
              "          document.querySelector('#df-fb102817-34df-4009-9bd1-54c6f979c78d button.colab-df-convert');\n",
              "        buttonEl.style.display =\n",
              "          google.colab.kernel.accessAllowed ? 'block' : 'none';\n",
              "\n",
              "        async function convertToInteractive(key) {\n",
              "          const element = document.querySelector('#df-fb102817-34df-4009-9bd1-54c6f979c78d');\n",
              "          const dataTable =\n",
              "            await google.colab.kernel.invokeFunction('convertToInteractive',\n",
              "                                                     [key], {});\n",
              "          if (!dataTable) return;\n",
              "\n",
              "          const docLinkHtml = 'Like what you see? Visit the ' +\n",
              "            '<a target=\"_blank\" href=https://colab.research.google.com/notebooks/data_table.ipynb>data table notebook</a>'\n",
              "            + ' to learn more about interactive tables.';\n",
              "          element.innerHTML = '';\n",
              "          dataTable['output_type'] = 'display_data';\n",
              "          await google.colab.output.renderOutput(dataTable, element);\n",
              "          const docLink = document.createElement('div');\n",
              "          docLink.innerHTML = docLinkHtml;\n",
              "          element.appendChild(docLink);\n",
              "        }\n",
              "      </script>\n",
              "    </div>\n",
              "  </div>\n",
              "  "
            ]
          },
          "metadata": {},
          "execution_count": 9
        }
      ]
    },
    {
      "cell_type": "code",
      "source": [
        "df_filtered = df[(df['Administered_Dose1_pct_agegroup'] == 0) & (df['Series_Complete_Pop_pct_agegroup'] == 0)]\n",
        "\n",
        "df_filtered.shape"
      ],
      "metadata": {
        "colab": {
          "base_uri": "https://localhost:8080/"
        },
        "id": "SYORwxl2rqb2",
        "outputId": "e3b02c35-801f-407e-f432-8d7a4b829884"
      },
      "execution_count": 10,
      "outputs": [
        {
          "output_type": "execute_result",
          "data": {
            "text/plain": [
              "(1299, 5)"
            ]
          },
          "metadata": {},
          "execution_count": 10
        }
      ]
    },
    {
      "cell_type": "code",
      "execution_count": 11,
      "metadata": {
        "id": "X0sYL7b47Kte",
        "colab": {
          "base_uri": "https://localhost:8080/"
        },
        "outputId": "71fa6295-4126-444a-d92f-de1492fdd468"
      },
      "outputs": [
        {
          "output_type": "execute_result",
          "data": {
            "text/plain": [
              "(1142, 5)"
            ]
          },
          "metadata": {},
          "execution_count": 11
        }
      ],
      "source": [
        "df[df['Series_Complete_Pop_pct_agegroup'] >= 0.7].shape"
      ]
    },
    {
      "cell_type": "code",
      "source": [
        "print(df['AgeGroupVacc'].value_counts())\n",
        "print(\"_____________________________\")\n",
        "print(len(df['AgeGroupVacc'].unique()))"
      ],
      "metadata": {
        "colab": {
          "base_uri": "https://localhost:8080/"
        },
        "id": "_CDK4-c1DJEw",
        "outputId": "b524e4ac-08f3-4310-81e4-d01c0fb24778"
      },
      "execution_count": 12,
      "outputs": [
        {
          "output_type": "stream",
          "name": "stdout",
          "text": [
            "<2 Years         667\n",
            "12 - 17 Years    667\n",
            "25 - 49 Years    667\n",
            "2 - 4 Years      666\n",
            "5 - 11 Years     666\n",
            "18 - 24 Years    666\n",
            "50 - 64 Years    666\n",
            "65+ Years        666\n",
            "Name: AgeGroupVacc, dtype: int64\n",
            "_____________________________\n",
            "8\n"
          ]
        }
      ]
    },
    {
      "cell_type": "code",
      "execution_count": 13,
      "metadata": {
        "colab": {
          "base_uri": "https://localhost:8080/",
          "height": 206
        },
        "id": "Otv2o15Q8pYH",
        "outputId": "7394e770-1eaa-4070-e718-51659a2c74ca"
      },
      "outputs": [
        {
          "output_type": "execute_result",
          "data": {
            "text/plain": [
              "        Date Administered   AgeGroupVacc  7-day_avg_group_cases_per_100k  \\\n",
              "0  10/11/2022 12:00:00 AM       <2 Years                        2.091826   \n",
              "1  10/11/2022 12:00:00 AM  12 - 17 Years                        2.389293   \n",
              "2  10/11/2022 12:00:00 AM  25 - 49 Years                        4.375377   \n",
              "3  10/10/2022 12:00:00 AM       <2 Years                        2.888181   \n",
              "4  10/10/2022 12:00:00 AM    2 - 4 Years                        3.362708   \n",
              "\n",
              "   Administered_Dose1_pct_agegroup  Series_Complete_Pop_pct_agegroup  \n",
              "0                            0.052                             0.017  \n",
              "1                            0.711                             0.608  \n",
              "2                            0.840                             0.710  \n",
              "3                            0.052                             0.017  \n",
              "4                            0.080                             0.032  "
            ],
            "text/html": [
              "\n",
              "  <div id=\"df-94bc064c-9d78-4821-8300-63056ec8d372\">\n",
              "    <div class=\"colab-df-container\">\n",
              "      <div>\n",
              "<style scoped>\n",
              "    .dataframe tbody tr th:only-of-type {\n",
              "        vertical-align: middle;\n",
              "    }\n",
              "\n",
              "    .dataframe tbody tr th {\n",
              "        vertical-align: top;\n",
              "    }\n",
              "\n",
              "    .dataframe thead th {\n",
              "        text-align: right;\n",
              "    }\n",
              "</style>\n",
              "<table border=\"1\" class=\"dataframe\">\n",
              "  <thead>\n",
              "    <tr style=\"text-align: right;\">\n",
              "      <th></th>\n",
              "      <th>Date Administered</th>\n",
              "      <th>AgeGroupVacc</th>\n",
              "      <th>7-day_avg_group_cases_per_100k</th>\n",
              "      <th>Administered_Dose1_pct_agegroup</th>\n",
              "      <th>Series_Complete_Pop_pct_agegroup</th>\n",
              "    </tr>\n",
              "  </thead>\n",
              "  <tbody>\n",
              "    <tr>\n",
              "      <th>0</th>\n",
              "      <td>10/11/2022 12:00:00 AM</td>\n",
              "      <td>&lt;2 Years</td>\n",
              "      <td>2.091826</td>\n",
              "      <td>0.052</td>\n",
              "      <td>0.017</td>\n",
              "    </tr>\n",
              "    <tr>\n",
              "      <th>1</th>\n",
              "      <td>10/11/2022 12:00:00 AM</td>\n",
              "      <td>12 - 17 Years</td>\n",
              "      <td>2.389293</td>\n",
              "      <td>0.711</td>\n",
              "      <td>0.608</td>\n",
              "    </tr>\n",
              "    <tr>\n",
              "      <th>2</th>\n",
              "      <td>10/11/2022 12:00:00 AM</td>\n",
              "      <td>25 - 49 Years</td>\n",
              "      <td>4.375377</td>\n",
              "      <td>0.840</td>\n",
              "      <td>0.710</td>\n",
              "    </tr>\n",
              "    <tr>\n",
              "      <th>3</th>\n",
              "      <td>10/10/2022 12:00:00 AM</td>\n",
              "      <td>&lt;2 Years</td>\n",
              "      <td>2.888181</td>\n",
              "      <td>0.052</td>\n",
              "      <td>0.017</td>\n",
              "    </tr>\n",
              "    <tr>\n",
              "      <th>4</th>\n",
              "      <td>10/10/2022 12:00:00 AM</td>\n",
              "      <td>2 - 4 Years</td>\n",
              "      <td>3.362708</td>\n",
              "      <td>0.080</td>\n",
              "      <td>0.032</td>\n",
              "    </tr>\n",
              "  </tbody>\n",
              "</table>\n",
              "</div>\n",
              "      <button class=\"colab-df-convert\" onclick=\"convertToInteractive('df-94bc064c-9d78-4821-8300-63056ec8d372')\"\n",
              "              title=\"Convert this dataframe to an interactive table.\"\n",
              "              style=\"display:none;\">\n",
              "        \n",
              "  <svg xmlns=\"http://www.w3.org/2000/svg\" height=\"24px\"viewBox=\"0 0 24 24\"\n",
              "       width=\"24px\">\n",
              "    <path d=\"M0 0h24v24H0V0z\" fill=\"none\"/>\n",
              "    <path d=\"M18.56 5.44l.94 2.06.94-2.06 2.06-.94-2.06-.94-.94-2.06-.94 2.06-2.06.94zm-11 1L8.5 8.5l.94-2.06 2.06-.94-2.06-.94L8.5 2.5l-.94 2.06-2.06.94zm10 10l.94 2.06.94-2.06 2.06-.94-2.06-.94-.94-2.06-.94 2.06-2.06.94z\"/><path d=\"M17.41 7.96l-1.37-1.37c-.4-.4-.92-.59-1.43-.59-.52 0-1.04.2-1.43.59L10.3 9.45l-7.72 7.72c-.78.78-.78 2.05 0 2.83L4 21.41c.39.39.9.59 1.41.59.51 0 1.02-.2 1.41-.59l7.78-7.78 2.81-2.81c.8-.78.8-2.07 0-2.86zM5.41 20L4 18.59l7.72-7.72 1.47 1.35L5.41 20z\"/>\n",
              "  </svg>\n",
              "      </button>\n",
              "      \n",
              "  <style>\n",
              "    .colab-df-container {\n",
              "      display:flex;\n",
              "      flex-wrap:wrap;\n",
              "      gap: 12px;\n",
              "    }\n",
              "\n",
              "    .colab-df-convert {\n",
              "      background-color: #E8F0FE;\n",
              "      border: none;\n",
              "      border-radius: 50%;\n",
              "      cursor: pointer;\n",
              "      display: none;\n",
              "      fill: #1967D2;\n",
              "      height: 32px;\n",
              "      padding: 0 0 0 0;\n",
              "      width: 32px;\n",
              "    }\n",
              "\n",
              "    .colab-df-convert:hover {\n",
              "      background-color: #E2EBFA;\n",
              "      box-shadow: 0px 1px 2px rgba(60, 64, 67, 0.3), 0px 1px 3px 1px rgba(60, 64, 67, 0.15);\n",
              "      fill: #174EA6;\n",
              "    }\n",
              "\n",
              "    [theme=dark] .colab-df-convert {\n",
              "      background-color: #3B4455;\n",
              "      fill: #D2E3FC;\n",
              "    }\n",
              "\n",
              "    [theme=dark] .colab-df-convert:hover {\n",
              "      background-color: #434B5C;\n",
              "      box-shadow: 0px 1px 3px 1px rgba(0, 0, 0, 0.15);\n",
              "      filter: drop-shadow(0px 1px 2px rgba(0, 0, 0, 0.3));\n",
              "      fill: #FFFFFF;\n",
              "    }\n",
              "  </style>\n",
              "\n",
              "      <script>\n",
              "        const buttonEl =\n",
              "          document.querySelector('#df-94bc064c-9d78-4821-8300-63056ec8d372 button.colab-df-convert');\n",
              "        buttonEl.style.display =\n",
              "          google.colab.kernel.accessAllowed ? 'block' : 'none';\n",
              "\n",
              "        async function convertToInteractive(key) {\n",
              "          const element = document.querySelector('#df-94bc064c-9d78-4821-8300-63056ec8d372');\n",
              "          const dataTable =\n",
              "            await google.colab.kernel.invokeFunction('convertToInteractive',\n",
              "                                                     [key], {});\n",
              "          if (!dataTable) return;\n",
              "\n",
              "          const docLinkHtml = 'Like what you see? Visit the ' +\n",
              "            '<a target=\"_blank\" href=https://colab.research.google.com/notebooks/data_table.ipynb>data table notebook</a>'\n",
              "            + ' to learn more about interactive tables.';\n",
              "          element.innerHTML = '';\n",
              "          dataTable['output_type'] = 'display_data';\n",
              "          await google.colab.output.renderOutput(dataTable, element);\n",
              "          const docLink = document.createElement('div');\n",
              "          docLink.innerHTML = docLinkHtml;\n",
              "          element.appendChild(docLink);\n",
              "        }\n",
              "      </script>\n",
              "    </div>\n",
              "  </div>\n",
              "  "
            ]
          },
          "metadata": {},
          "execution_count": 13
        }
      ],
      "source": [
        "df.head()"
      ]
    },
    {
      "cell_type": "code",
      "execution_count": 14,
      "metadata": {
        "colab": {
          "base_uri": "https://localhost:8080/"
        },
        "id": "ojX8nuq48qg-",
        "outputId": "28331742-b847-4b89-b3df-a29f54bef844"
      },
      "outputs": [
        {
          "output_type": "execute_result",
          "data": {
            "text/plain": [
              "Date Administered                   0\n",
              "AgeGroupVacc                        0\n",
              "7-day_avg_group_cases_per_100k      0\n",
              "Administered_Dose1_pct_agegroup     0\n",
              "Series_Complete_Pop_pct_agegroup    0\n",
              "dtype: int64"
            ]
          },
          "metadata": {},
          "execution_count": 14
        }
      ],
      "source": [
        "df.isnull().sum()"
      ]
    },
    {
      "cell_type": "markdown",
      "source": [
        "#Feature Selection"
      ],
      "metadata": {
        "id": "EBSWzSK6eoDc"
      }
    },
    {
      "cell_type": "markdown",
      "source": [
        "##Correlation Matrix"
      ],
      "metadata": {
        "id": "Ku027E5tBb-8"
      }
    },
    {
      "cell_type": "code",
      "source": [
        "corr_matrix = df.corr()\n",
        "\n",
        "print(corr_matrix)"
      ],
      "metadata": {
        "id": "VOvJh9rpFqia",
        "colab": {
          "base_uri": "https://localhost:8080/"
        },
        "outputId": "da1e971d-1629-481d-9e53-3a290abbfcf5"
      },
      "execution_count": 15,
      "outputs": [
        {
          "output_type": "stream",
          "name": "stdout",
          "text": [
            "                                  7-day_avg_group_cases_per_100k  \\\n",
            "7-day_avg_group_cases_per_100k                          1.000000   \n",
            "Administered_Dose1_pct_agegroup                         0.068510   \n",
            "Series_Complete_Pop_pct_agegroup                        0.062031   \n",
            "\n",
            "                                  Administered_Dose1_pct_agegroup  \\\n",
            "7-day_avg_group_cases_per_100k                           0.068510   \n",
            "Administered_Dose1_pct_agegroup                          1.000000   \n",
            "Series_Complete_Pop_pct_agegroup                         0.992843   \n",
            "\n",
            "                                  Series_Complete_Pop_pct_agegroup  \n",
            "7-day_avg_group_cases_per_100k                            0.062031  \n",
            "Administered_Dose1_pct_agegroup                           0.992843  \n",
            "Series_Complete_Pop_pct_agegroup                          1.000000  \n"
          ]
        }
      ]
    },
    {
      "cell_type": "code",
      "source": [
        "import seaborn as sns\n",
        "sns.heatmap(df.corr(),annot=True)"
      ],
      "metadata": {
        "colab": {
          "base_uri": "https://localhost:8080/",
          "height": 457
        },
        "id": "bIrJvaPLA9au",
        "outputId": "20d34712-4292-486e-aa0a-6f32b3855e6b"
      },
      "execution_count": 16,
      "outputs": [
        {
          "output_type": "execute_result",
          "data": {
            "text/plain": [
              "<AxesSubplot:>"
            ]
          },
          "metadata": {},
          "execution_count": 16
        },
        {
          "output_type": "display_data",
          "data": {
            "text/plain": [
              "<Figure size 432x288 with 2 Axes>"
            ],
            "image/png": "[encoded data removed]"
          },
          "metadata": {
            "needs_background": "light"
          }
        }
      ]
    },
    {
      "cell_type": "markdown",
      "source": [
        "##Importance"
      ],
      "metadata": {
        "id": "dmaKGBE8Betd"
      }
    },
    {
      "cell_type": "code",
      "source": [
        "from sklearn.ensemble import RandomForestRegressor\n",
        "\n",
        "# Create an instance of the model\n",
        "rf = RandomForestRegressor()\n",
        "\n",
        "# Fit the model on the data\n",
        "rf.fit(df[['Series_Complete_Pop_pct_agegroup']], df['7-day_avg_group_cases_per_100k'])\n",
        "\n",
        "# Get the feature importance that column\n",
        "importance = rf.feature_importances_\n",
        "\n",
        "print(\"Importance of series column: \", importance)"
      ],
      "metadata": {
        "colab": {
          "base_uri": "https://localhost:8080/"
        },
        "id": "J9siJZhbBAss",
        "outputId": "e63c8ea5-6420-43fe-f22e-aa62cc42bbd5"
      },
      "execution_count": 17,
      "outputs": [
        {
          "output_type": "stream",
          "name": "stdout",
          "text": [
            "Importance of series column:  [1.]\n"
          ]
        }
      ]
    },
    {
      "cell_type": "markdown",
      "source": [
        "\n",
        "##Target Variable"
      ],
      "metadata": {
        "id": "Z-AozLBwy7ny"
      }
    },
    {
      "cell_type": "code",
      "source": [
        "# Removing unvaccinated cases\n",
        "df = df[df['Series_Complete_Pop_pct_agegroup'] != 0]\n",
        "\n",
        "df.shape"
      ],
      "metadata": {
        "colab": {
          "base_uri": "https://localhost:8080/"
        },
        "id": "6ZbEtdRz-p6R",
        "outputId": "e6118bb3-3f3c-41c3-9f9c-34666af9152e"
      },
      "execution_count": 18,
      "outputs": [
        {
          "output_type": "execute_result",
          "data": {
            "text/plain": [
              "(3844, 5)"
            ]
          },
          "metadata": {},
          "execution_count": 18
        }
      ]
    },
    {
      "cell_type": "code",
      "source": [
        "df['Immunity'] = (df[\"7-day_avg_group_cases_per_100k\"] < 100) & (df['Series_Complete_Pop_pct_agegroup'] > 0.65)\n",
        "\n",
        "df.head()"
      ],
      "metadata": {
        "colab": {
          "base_uri": "https://localhost:8080/",
          "height": 206
        },
        "id": "A5J2J5wd6k2N",
        "outputId": "e8c61fde-5b44-4652-801a-8c6bb2c12805"
      },
      "execution_count": 19,
      "outputs": [
        {
          "output_type": "execute_result",
          "data": {
            "text/plain": [
              "        Date Administered   AgeGroupVacc  7-day_avg_group_cases_per_100k  \\\n",
              "0  10/11/2022 12:00:00 AM       <2 Years                        2.091826   \n",
              "1  10/11/2022 12:00:00 AM  12 - 17 Years                        2.389293   \n",
              "2  10/11/2022 12:00:00 AM  25 - 49 Years                        4.375377   \n",
              "3  10/10/2022 12:00:00 AM       <2 Years                        2.888181   \n",
              "4  10/10/2022 12:00:00 AM    2 - 4 Years                        3.362708   \n",
              "\n",
              "   Administered_Dose1_pct_agegroup  Series_Complete_Pop_pct_agegroup  Immunity  \n",
              "0                            0.052                             0.017     False  \n",
              "1                            0.711                             0.608     False  \n",
              "2                            0.840                             0.710      True  \n",
              "3                            0.052                             0.017     False  \n",
              "4                            0.080                             0.032     False  "
            ],
            "text/html": [
              "\n",
              "  <div id=\"df-8c1876b6-89ce-424d-aa2a-c98a9f336c2d\">\n",
              "    <div class=\"colab-df-container\">\n",
              "      <div>\n",
              "<style scoped>\n",
              "    .dataframe tbody tr th:only-of-type {\n",
              "        vertical-align: middle;\n",
              "    }\n",
              "\n",
              "    .dataframe tbody tr th {\n",
              "        vertical-align: top;\n",
              "    }\n",
              "\n",
              "    .dataframe thead th {\n",
              "        text-align: right;\n",
              "    }\n",
              "</style>\n",
              "<table border=\"1\" class=\"dataframe\">\n",
              "  <thead>\n",
              "    <tr style=\"text-align: right;\">\n",
              "      <th></th>\n",
              "      <th>Date Administered</th>\n",
              "      <th>AgeGroupVacc</th>\n",
              "      <th>7-day_avg_group_cases_per_100k</th>\n",
              "      <th>Administered_Dose1_pct_agegroup</th>\n",
              "      <th>Series_Complete_Pop_pct_agegroup</th>\n",
              "      <th>Immunity</th>\n",
              "    </tr>\n",
              "  </thead>\n",
              "  <tbody>\n",
              "    <tr>\n",
              "      <th>0</th>\n",
              "      <td>10/11/2022 12:00:00 AM</td>\n",
              "      <td>&lt;2 Years</td>\n",
              "      <td>2.091826</td>\n",
              "      <td>0.052</td>\n",
              "      <td>0.017</td>\n",
              "      <td>False</td>\n",
              "    </tr>\n",
              "    <tr>\n",
              "      <th>1</th>\n",
              "      <td>10/11/2022 12:00:00 AM</td>\n",
              "      <td>12 - 17 Years</td>\n",
              "      <td>2.389293</td>\n",
              "      <td>0.711</td>\n",
              "      <td>0.608</td>\n",
              "      <td>False</td>\n",
              "    </tr>\n",
              "    <tr>\n",
              "      <th>2</th>\n",
              "      <td>10/11/2022 12:00:00 AM</td>\n",
              "      <td>25 - 49 Years</td>\n",
              "      <td>4.375377</td>\n",
              "      <td>0.840</td>\n",
              "      <td>0.710</td>\n",
              "      <td>True</td>\n",
              "    </tr>\n",
              "    <tr>\n",
              "      <th>3</th>\n",
              "      <td>10/10/2022 12:00:00 AM</td>\n",
              "      <td>&lt;2 Years</td>\n",
              "      <td>2.888181</td>\n",
              "      <td>0.052</td>\n",
              "      <td>0.017</td>\n",
              "      <td>False</td>\n",
              "    </tr>\n",
              "    <tr>\n",
              "      <th>4</th>\n",
              "      <td>10/10/2022 12:00:00 AM</td>\n",
              "      <td>2 - 4 Years</td>\n",
              "      <td>3.362708</td>\n",
              "      <td>0.080</td>\n",
              "      <td>0.032</td>\n",
              "      <td>False</td>\n",
              "    </tr>\n",
              "  </tbody>\n",
              "</table>\n",
              "</div>\n",
              "      <button class=\"colab-df-convert\" onclick=\"convertToInteractive('df-8c1876b6-89ce-424d-aa2a-c98a9f336c2d')\"\n",
              "              title=\"Convert this dataframe to an interactive table.\"\n",
              "              style=\"display:none;\">\n",
              "        \n",
              "  <svg xmlns=\"http://www.w3.org/2000/svg\" height=\"24px\"viewBox=\"0 0 24 24\"\n",
              "       width=\"24px\">\n",
              "    <path d=\"M0 0h24v24H0V0z\" fill=\"none\"/>\n",
              "    <path d=\"M18.56 5.44l.94 2.06.94-2.06 2.06-.94-2.06-.94-.94-2.06-.94 2.06-2.06.94zm-11 1L8.5 8.5l.94-2.06 2.06-.94-2.06-.94L8.5 2.5l-.94 2.06-2.06.94zm10 10l.94 2.06.94-2.06 2.06-.94-2.06-.94-.94-2.06-.94 2.06-2.06.94z\"/><path d=\"M17.41 7.96l-1.37-1.37c-.4-.4-.92-.59-1.43-.59-.52 0-1.04.2-1.43.59L10.3 9.45l-7.72 7.72c-.78.78-.78 2.05 0 2.83L4 21.41c.39.39.9.59 1.41.59.51 0 1.02-.2 1.41-.59l7.78-7.78 2.81-2.81c.8-.78.8-2.07 0-2.86zM5.41 20L4 18.59l7.72-7.72 1.47 1.35L5.41 20z\"/>\n",
              "  </svg>\n",
              "      </button>\n",
              "      \n",
              "  <style>\n",
              "    .colab-df-container {\n",
              "      display:flex;\n",
              "      flex-wrap:wrap;\n",
              "      gap: 12px;\n",
              "    }\n",
              "\n",
              "    .colab-df-convert {\n",
              "      background-color: #E8F0FE;\n",
              "      border: none;\n",
              "      border-radius: 50%;\n",
              "      cursor: pointer;\n",
              "      display: none;\n",
              "      fill: #1967D2;\n",
              "      height: 32px;\n",
              "      padding: 0 0 0 0;\n",
              "      width: 32px;\n",
              "    }\n",
              "\n",
              "    .colab-df-convert:hover {\n",
              "      background-color: #E2EBFA;\n",
              "      box-shadow: 0px 1px 2px rgba(60, 64, 67, 0.3), 0px 1px 3px 1px rgba(60, 64, 67, 0.15);\n",
              "      fill: #174EA6;\n",
              "    }\n",
              "\n",
              "    [theme=dark] .colab-df-convert {\n",
              "      background-color: #3B4455;\n",
              "      fill: #D2E3FC;\n",
              "    }\n",
              "\n",
              "    [theme=dark] .colab-df-convert:hover {\n",
              "      background-color: #434B5C;\n",
              "      box-shadow: 0px 1px 3px 1px rgba(0, 0, 0, 0.15);\n",
              "      filter: drop-shadow(0px 1px 2px rgba(0, 0, 0, 0.3));\n",
              "      fill: #FFFFFF;\n",
              "    }\n",
              "  </style>\n",
              "\n",
              "      <script>\n",
              "        const buttonEl =\n",
              "          document.querySelector('#df-8c1876b6-89ce-424d-aa2a-c98a9f336c2d button.colab-df-convert');\n",
              "        buttonEl.style.display =\n",
              "          google.colab.kernel.accessAllowed ? 'block' : 'none';\n",
              "\n",
              "        async function convertToInteractive(key) {\n",
              "          const element = document.querySelector('#df-8c1876b6-89ce-424d-aa2a-c98a9f336c2d');\n",
              "          const dataTable =\n",
              "            await google.colab.kernel.invokeFunction('convertToInteractive',\n",
              "                                                     [key], {});\n",
              "          if (!dataTable) return;\n",
              "\n",
              "          const docLinkHtml = 'Like what you see? Visit the ' +\n",
              "            '<a target=\"_blank\" href=https://colab.research.google.com/notebooks/data_table.ipynb>data table notebook</a>'\n",
              "            + ' to learn more about interactive tables.';\n",
              "          element.innerHTML = '';\n",
              "          dataTable['output_type'] = 'display_data';\n",
              "          await google.colab.output.renderOutput(dataTable, element);\n",
              "          const docLink = document.createElement('div');\n",
              "          docLink.innerHTML = docLinkHtml;\n",
              "          element.appendChild(docLink);\n",
              "        }\n",
              "      </script>\n",
              "    </div>\n",
              "  </div>\n",
              "  "
            ]
          },
          "metadata": {},
          "execution_count": 19
        }
      ]
    },
    {
      "cell_type": "code",
      "source": [
        "df['Immunity'].value_counts()\n",
        "\n",
        "one = (df[\"Immunity\"].value_counts()[1].sum()/df[\"Immunity\"].value_counts()[0].sum()) * 100\n",
        "\n",
        "print(f\"Percentage of values which are one: {round(one, 2)}\")"
      ],
      "metadata": {
        "colab": {
          "base_uri": "https://localhost:8080/"
        },
        "id": "kugmlqVZ6oUH",
        "outputId": "0bf154d3-42be-45cc-fb08-779fbd2ae869"
      },
      "execution_count": 20,
      "outputs": [
        {
          "output_type": "stream",
          "name": "stdout",
          "text": [
            "Percentage of values which are one: 53.76\n"
          ]
        }
      ]
    },
    {
      "cell_type": "code",
      "source": [
        "df.head()"
      ],
      "metadata": {
        "colab": {
          "base_uri": "https://localhost:8080/",
          "height": 206
        },
        "id": "q1goupkH4Klx",
        "outputId": "13e8d54e-a184-493d-bb6b-8ace1e330525"
      },
      "execution_count": 21,
      "outputs": [
        {
          "output_type": "execute_result",
          "data": {
            "text/plain": [
              "        Date Administered   AgeGroupVacc  7-day_avg_group_cases_per_100k  \\\n",
              "0  10/11/2022 12:00:00 AM       <2 Years                        2.091826   \n",
              "1  10/11/2022 12:00:00 AM  12 - 17 Years                        2.389293   \n",
              "2  10/11/2022 12:00:00 AM  25 - 49 Years                        4.375377   \n",
              "3  10/10/2022 12:00:00 AM       <2 Years                        2.888181   \n",
              "4  10/10/2022 12:00:00 AM    2 - 4 Years                        3.362708   \n",
              "\n",
              "   Administered_Dose1_pct_agegroup  Series_Complete_Pop_pct_agegroup  Immunity  \n",
              "0                            0.052                             0.017     False  \n",
              "1                            0.711                             0.608     False  \n",
              "2                            0.840                             0.710      True  \n",
              "3                            0.052                             0.017     False  \n",
              "4                            0.080                             0.032     False  "
            ],
            "text/html": [
              "\n",
              "  <div id=\"df-03632f5f-a025-469a-a164-ed009cdd87cb\">\n",
              "    <div class=\"colab-df-container\">\n",
              "      <div>\n",
              "<style scoped>\n",
              "    .dataframe tbody tr th:only-of-type {\n",
              "        vertical-align: middle;\n",
              "    }\n",
              "\n",
              "    .dataframe tbody tr th {\n",
              "        vertical-align: top;\n",
              "    }\n",
              "\n",
              "    .dataframe thead th {\n",
              "        text-align: right;\n",
              "    }\n",
              "</style>\n",
              "<table border=\"1\" class=\"dataframe\">\n",
              "  <thead>\n",
              "    <tr style=\"text-align: right;\">\n",
              "      <th></th>\n",
              "      <th>Date Administered</th>\n",
              "      <th>AgeGroupVacc</th>\n",
              "      <th>7-day_avg_group_cases_per_100k</th>\n",
              "      <th>Administered_Dose1_pct_agegroup</th>\n",
              "      <th>Series_Complete_Pop_pct_agegroup</th>\n",
              "      <th>Immunity</th>\n",
              "    </tr>\n",
              "  </thead>\n",
              "  <tbody>\n",
              "    <tr>\n",
              "      <th>0</th>\n",
              "      <td>10/11/2022 12:00:00 AM</td>\n",
              "      <td>&lt;2 Years</td>\n",
              "      <td>2.091826</td>\n",
              "      <td>0.052</td>\n",
              "      <td>0.017</td>\n",
              "      <td>False</td>\n",
              "    </tr>\n",
              "    <tr>\n",
              "      <th>1</th>\n",
              "      <td>10/11/2022 12:00:00 AM</td>\n",
              "      <td>12 - 17 Years</td>\n",
              "      <td>2.389293</td>\n",
              "      <td>0.711</td>\n",
              "      <td>0.608</td>\n",
              "      <td>False</td>\n",
              "    </tr>\n",
              "    <tr>\n",
              "      <th>2</th>\n",
              "      <td>10/11/2022 12:00:00 AM</td>\n",
              "      <td>25 - 49 Years</td>\n",
              "      <td>4.375377</td>\n",
              "      <td>0.840</td>\n",
              "      <td>0.710</td>\n",
              "      <td>True</td>\n",
              "    </tr>\n",
              "    <tr>\n",
              "      <th>3</th>\n",
              "      <td>10/10/2022 12:00:00 AM</td>\n",
              "      <td>&lt;2 Years</td>\n",
              "      <td>2.888181</td>\n",
              "      <td>0.052</td>\n",
              "      <td>0.017</td>\n",
              "      <td>False</td>\n",
              "    </tr>\n",
              "    <tr>\n",
              "      <th>4</th>\n",
              "      <td>10/10/2022 12:00:00 AM</td>\n",
              "      <td>2 - 4 Years</td>\n",
              "      <td>3.362708</td>\n",
              "      <td>0.080</td>\n",
              "      <td>0.032</td>\n",
              "      <td>False</td>\n",
              "    </tr>\n",
              "  </tbody>\n",
              "</table>\n",
              "</div>\n",
              "      <button class=\"colab-df-convert\" onclick=\"convertToInteractive('df-03632f5f-a025-469a-a164-ed009cdd87cb')\"\n",
              "              title=\"Convert this dataframe to an interactive table.\"\n",
              "              style=\"display:none;\">\n",
              "        \n",
              "  <svg xmlns=\"http://www.w3.org/2000/svg\" height=\"24px\"viewBox=\"0 0 24 24\"\n",
              "       width=\"24px\">\n",
              "    <path d=\"M0 0h24v24H0V0z\" fill=\"none\"/>\n",
              "    <path d=\"M18.56 5.44l.94 2.06.94-2.06 2.06-.94-2.06-.94-.94-2.06-.94 2.06-2.06.94zm-11 1L8.5 8.5l.94-2.06 2.06-.94-2.06-.94L8.5 2.5l-.94 2.06-2.06.94zm10 10l.94 2.06.94-2.06 2.06-.94-2.06-.94-.94-2.06-.94 2.06-2.06.94z\"/><path d=\"M17.41 7.96l-1.37-1.37c-.4-.4-.92-.59-1.43-.59-.52 0-1.04.2-1.43.59L10.3 9.45l-7.72 7.72c-.78.78-.78 2.05 0 2.83L4 21.41c.39.39.9.59 1.41.59.51 0 1.02-.2 1.41-.59l7.78-7.78 2.81-2.81c.8-.78.8-2.07 0-2.86zM5.41 20L4 18.59l7.72-7.72 1.47 1.35L5.41 20z\"/>\n",
              "  </svg>\n",
              "      </button>\n",
              "      \n",
              "  <style>\n",
              "    .colab-df-container {\n",
              "      display:flex;\n",
              "      flex-wrap:wrap;\n",
              "      gap: 12px;\n",
              "    }\n",
              "\n",
              "    .colab-df-convert {\n",
              "      background-color: #E8F0FE;\n",
              "      border: none;\n",
              "      border-radius: 50%;\n",
              "      cursor: pointer;\n",
              "      display: none;\n",
              "      fill: #1967D2;\n",
              "      height: 32px;\n",
              "      padding: 0 0 0 0;\n",
              "      width: 32px;\n",
              "    }\n",
              "\n",
              "    .colab-df-convert:hover {\n",
              "      background-color: #E2EBFA;\n",
              "      box-shadow: 0px 1px 2px rgba(60, 64, 67, 0.3), 0px 1px 3px 1px rgba(60, 64, 67, 0.15);\n",
              "      fill: #174EA6;\n",
              "    }\n",
              "\n",
              "    [theme=dark] .colab-df-convert {\n",
              "      background-color: #3B4455;\n",
              "      fill: #D2E3FC;\n",
              "    }\n",
              "\n",
              "    [theme=dark] .colab-df-convert:hover {\n",
              "      background-color: #434B5C;\n",
              "      box-shadow: 0px 1px 3px 1px rgba(0, 0, 0, 0.15);\n",
              "      filter: drop-shadow(0px 1px 2px rgba(0, 0, 0, 0.3));\n",
              "      fill: #FFFFFF;\n",
              "    }\n",
              "  </style>\n",
              "\n",
              "      <script>\n",
              "        const buttonEl =\n",
              "          document.querySelector('#df-03632f5f-a025-469a-a164-ed009cdd87cb button.colab-df-convert');\n",
              "        buttonEl.style.display =\n",
              "          google.colab.kernel.accessAllowed ? 'block' : 'none';\n",
              "\n",
              "        async function convertToInteractive(key) {\n",
              "          const element = document.querySelector('#df-03632f5f-a025-469a-a164-ed009cdd87cb');\n",
              "          const dataTable =\n",
              "            await google.colab.kernel.invokeFunction('convertToInteractive',\n",
              "                                                     [key], {});\n",
              "          if (!dataTable) return;\n",
              "\n",
              "          const docLinkHtml = 'Like what you see? Visit the ' +\n",
              "            '<a target=\"_blank\" href=https://colab.research.google.com/notebooks/data_table.ipynb>data table notebook</a>'\n",
              "            + ' to learn more about interactive tables.';\n",
              "          element.innerHTML = '';\n",
              "          dataTable['output_type'] = 'display_data';\n",
              "          await google.colab.output.renderOutput(dataTable, element);\n",
              "          const docLink = document.createElement('div');\n",
              "          docLink.innerHTML = docLinkHtml;\n",
              "          element.appendChild(docLink);\n",
              "        }\n",
              "      </script>\n",
              "    </div>\n",
              "  </div>\n",
              "  "
            ]
          },
          "metadata": {},
          "execution_count": 21
        }
      ]
    },
    {
      "cell_type": "code",
      "source": [
        "f = lambda x: 1 if x==True else 0\n",
        "\n",
        "df['Immunity'] = df[['Immunity']].applymap(f)\n",
        "\n",
        "df.head()"
      ],
      "metadata": {
        "colab": {
          "base_uri": "https://localhost:8080/",
          "height": 206
        },
        "id": "qUob3q6t5zWN",
        "outputId": "84041cc1-a6a5-47ed-e897-99de993265f6"
      },
      "execution_count": 22,
      "outputs": [
        {
          "output_type": "execute_result",
          "data": {
            "text/plain": [
              "        Date Administered   AgeGroupVacc  7-day_avg_group_cases_per_100k  \\\n",
              "0  10/11/2022 12:00:00 AM       <2 Years                        2.091826   \n",
              "1  10/11/2022 12:00:00 AM  12 - 17 Years                        2.389293   \n",
              "2  10/11/2022 12:00:00 AM  25 - 49 Years                        4.375377   \n",
              "3  10/10/2022 12:00:00 AM       <2 Years                        2.888181   \n",
              "4  10/10/2022 12:00:00 AM    2 - 4 Years                        3.362708   \n",
              "\n",
              "   Administered_Dose1_pct_agegroup  Series_Complete_Pop_pct_agegroup  Immunity  \n",
              "0                            0.052                             0.017         0  \n",
              "1                            0.711                             0.608         0  \n",
              "2                            0.840                             0.710         1  \n",
              "3                            0.052                             0.017         0  \n",
              "4                            0.080                             0.032         0  "
            ],
            "text/html": [
              "\n",
              "  <div id=\"df-f4744155-6259-41dc-840a-d06f9217d04e\">\n",
              "    <div class=\"colab-df-container\">\n",
              "      <div>\n",
              "<style scoped>\n",
              "    .dataframe tbody tr th:only-of-type {\n",
              "        vertical-align: middle;\n",
              "    }\n",
              "\n",
              "    .dataframe tbody tr th {\n",
              "        vertical-align: top;\n",
              "    }\n",
              "\n",
              "    .dataframe thead th {\n",
              "        text-align: right;\n",
              "    }\n",
              "</style>\n",
              "<table border=\"1\" class=\"dataframe\">\n",
              "  <thead>\n",
              "    <tr style=\"text-align: right;\">\n",
              "      <th></th>\n",
              "      <th>Date Administered</th>\n",
              "      <th>AgeGroupVacc</th>\n",
              "      <th>7-day_avg_group_cases_per_100k</th>\n",
              "      <th>Administered_Dose1_pct_agegroup</th>\n",
              "      <th>Series_Complete_Pop_pct_agegroup</th>\n",
              "      <th>Immunity</th>\n",
              "    </tr>\n",
              "  </thead>\n",
              "  <tbody>\n",
              "    <tr>\n",
              "      <th>0</th>\n",
              "      <td>10/11/2022 12:00:00 AM</td>\n",
              "      <td>&lt;2 Years</td>\n",
              "      <td>2.091826</td>\n",
              "      <td>0.052</td>\n",
              "      <td>0.017</td>\n",
              "      <td>0</td>\n",
              "    </tr>\n",
              "    <tr>\n",
              "      <th>1</th>\n",
              "      <td>10/11/2022 12:00:00 AM</td>\n",
              "      <td>12 - 17 Years</td>\n",
              "      <td>2.389293</td>\n",
              "      <td>0.711</td>\n",
              "      <td>0.608</td>\n",
              "      <td>0</td>\n",
              "    </tr>\n",
              "    <tr>\n",
              "      <th>2</th>\n",
              "      <td>10/11/2022 12:00:00 AM</td>\n",
              "      <td>25 - 49 Years</td>\n",
              "      <td>4.375377</td>\n",
              "      <td>0.840</td>\n",
              "      <td>0.710</td>\n",
              "      <td>1</td>\n",
              "    </tr>\n",
              "    <tr>\n",
              "      <th>3</th>\n",
              "      <td>10/10/2022 12:00:00 AM</td>\n",
              "      <td>&lt;2 Years</td>\n",
              "      <td>2.888181</td>\n",
              "      <td>0.052</td>\n",
              "      <td>0.017</td>\n",
              "      <td>0</td>\n",
              "    </tr>\n",
              "    <tr>\n",
              "      <th>4</th>\n",
              "      <td>10/10/2022 12:00:00 AM</td>\n",
              "      <td>2 - 4 Years</td>\n",
              "      <td>3.362708</td>\n",
              "      <td>0.080</td>\n",
              "      <td>0.032</td>\n",
              "      <td>0</td>\n",
              "    </tr>\n",
              "  </tbody>\n",
              "</table>\n",
              "</div>\n",
              "      <button class=\"colab-df-convert\" onclick=\"convertToInteractive('df-f4744155-6259-41dc-840a-d06f9217d04e')\"\n",
              "              title=\"Convert this dataframe to an interactive table.\"\n",
              "              style=\"display:none;\">\n",
              "        \n",
              "  <svg xmlns=\"http://www.w3.org/2000/svg\" height=\"24px\"viewBox=\"0 0 24 24\"\n",
              "       width=\"24px\">\n",
              "    <path d=\"M0 0h24v24H0V0z\" fill=\"none\"/>\n",
              "    <path d=\"M18.56 5.44l.94 2.06.94-2.06 2.06-.94-2.06-.94-.94-2.06-.94 2.06-2.06.94zm-11 1L8.5 8.5l.94-2.06 2.06-.94-2.06-.94L8.5 2.5l-.94 2.06-2.06.94zm10 10l.94 2.06.94-2.06 2.06-.94-2.06-.94-.94-2.06-.94 2.06-2.06.94z\"/><path d=\"M17.41 7.96l-1.37-1.37c-.4-.4-.92-.59-1.43-.59-.52 0-1.04.2-1.43.59L10.3 9.45l-7.72 7.72c-.78.78-.78 2.05 0 2.83L4 21.41c.39.39.9.59 1.41.59.51 0 1.02-.2 1.41-.59l7.78-7.78 2.81-2.81c.8-.78.8-2.07 0-2.86zM5.41 20L4 18.59l7.72-7.72 1.47 1.35L5.41 20z\"/>\n",
              "  </svg>\n",
              "      </button>\n",
              "      \n",
              "  <style>\n",
              "    .colab-df-container {\n",
              "      display:flex;\n",
              "      flex-wrap:wrap;\n",
              "      gap: 12px;\n",
              "    }\n",
              "\n",
              "    .colab-df-convert {\n",
              "      background-color: #E8F0FE;\n",
              "      border: none;\n",
              "      border-radius: 50%;\n",
              "      cursor: pointer;\n",
              "      display: none;\n",
              "      fill: #1967D2;\n",
              "      height: 32px;\n",
              "      padding: 0 0 0 0;\n",
              "      width: 32px;\n",
              "    }\n",
              "\n",
              "    .colab-df-convert:hover {\n",
              "      background-color: #E2EBFA;\n",
              "      box-shadow: 0px 1px 2px rgba(60, 64, 67, 0.3), 0px 1px 3px 1px rgba(60, 64, 67, 0.15);\n",
              "      fill: #174EA6;\n",
              "    }\n",
              "\n",
              "    [theme=dark] .colab-df-convert {\n",
              "      background-color: #3B4455;\n",
              "      fill: #D2E3FC;\n",
              "    }\n",
              "\n",
              "    [theme=dark] .colab-df-convert:hover {\n",
              "      background-color: #434B5C;\n",
              "      box-shadow: 0px 1px 3px 1px rgba(0, 0, 0, 0.15);\n",
              "      filter: drop-shadow(0px 1px 2px rgba(0, 0, 0, 0.3));\n",
              "      fill: #FFFFFF;\n",
              "    }\n",
              "  </style>\n",
              "\n",
              "      <script>\n",
              "        const buttonEl =\n",
              "          document.querySelector('#df-f4744155-6259-41dc-840a-d06f9217d04e button.colab-df-convert');\n",
              "        buttonEl.style.display =\n",
              "          google.colab.kernel.accessAllowed ? 'block' : 'none';\n",
              "\n",
              "        async function convertToInteractive(key) {\n",
              "          const element = document.querySelector('#df-f4744155-6259-41dc-840a-d06f9217d04e');\n",
              "          const dataTable =\n",
              "            await google.colab.kernel.invokeFunction('convertToInteractive',\n",
              "                                                     [key], {});\n",
              "          if (!dataTable) return;\n",
              "\n",
              "          const docLinkHtml = 'Like what you see? Visit the ' +\n",
              "            '<a target=\"_blank\" href=https://colab.research.google.com/notebooks/data_table.ipynb>data table notebook</a>'\n",
              "            + ' to learn more about interactive tables.';\n",
              "          element.innerHTML = '';\n",
              "          dataTable['output_type'] = 'display_data';\n",
              "          await google.colab.output.renderOutput(dataTable, element);\n",
              "          const docLink = document.createElement('div');\n",
              "          docLink.innerHTML = docLinkHtml;\n",
              "          element.appendChild(docLink);\n",
              "        }\n",
              "      </script>\n",
              "    </div>\n",
              "  </div>\n",
              "  "
            ]
          },
          "metadata": {},
          "execution_count": 22
        }
      ]
    },
    {
      "cell_type": "code",
      "source": [
        "one = df[df['Immunity'] == 1]\n",
        "\n",
        "zero = df[df['Immunity'] == 0]"
      ],
      "metadata": {
        "id": "MFBA0mDOtbtF"
      },
      "execution_count": 23,
      "outputs": []
    },
    {
      "cell_type": "code",
      "source": [
        "zero.shape"
      ],
      "metadata": {
        "colab": {
          "base_uri": "https://localhost:8080/"
        },
        "id": "h1Yepa8Itdsb",
        "outputId": "03b9b8d4-6437-4948-8d3b-7f6453a61133"
      },
      "execution_count": 24,
      "outputs": [
        {
          "output_type": "execute_result",
          "data": {
            "text/plain": [
              "(2500, 6)"
            ]
          },
          "metadata": {},
          "execution_count": 24
        }
      ]
    },
    {
      "cell_type": "code",
      "source": [
        "one.shape"
      ],
      "metadata": {
        "colab": {
          "base_uri": "https://localhost:8080/"
        },
        "id": "xGSQMjKFtj2v",
        "outputId": "196a2834-39f9-42cd-80e0-0abae72b15ca"
      },
      "execution_count": 25,
      "outputs": [
        {
          "output_type": "execute_result",
          "data": {
            "text/plain": [
              "(1344, 6)"
            ]
          },
          "metadata": {},
          "execution_count": 25
        }
      ]
    },
    {
      "cell_type": "code",
      "source": [
        "one = df[df['Immunity'] == 1]\n",
        "\n",
        "zero = df[df['Immunity'] == 0]\n",
        "\n",
        "zero = zero.iloc[800:]\n",
        "\n",
        "final_df = pd.concat([one, zero], ignore_index=True)\n",
        "\n",
        "df  = final_df.drop(\"Date Administered\", axis=1)"
      ],
      "metadata": {
        "id": "IUDK26MuzDSG"
      },
      "execution_count": 26,
      "outputs": []
    },
    {
      "cell_type": "markdown",
      "source": [
        "##Immunity Charts"
      ],
      "metadata": {
        "id": "ZCRwN4CETzQ8"
      }
    },
    {
      "cell_type": "code",
      "source": [
        "Immunity = df['Immunity'].value_counts()\n",
        "\n",
        "Immunity.plot(kind='pie')"
      ],
      "metadata": {
        "colab": {
          "base_uri": "https://localhost:8080/",
          "height": 266
        },
        "id": "2Z2EWpBYzRhV",
        "outputId": "a9df4787-24a0-43a3-afbc-af42a065e221"
      },
      "execution_count": 27,
      "outputs": [
        {
          "output_type": "execute_result",
          "data": {
            "text/plain": [
              "<AxesSubplot:ylabel='Immunity'>"
            ]
          },
          "metadata": {},
          "execution_count": 27
        },
        {
          "output_type": "display_data",
          "data": {
            "text/plain": [
              "<Figure size 432x288 with 1 Axes>"
            ],
            "image/png": "[encoded data removed]"
          },
          "metadata": {}
        }
      ]
    },
    {
      "cell_type": "code",
      "source": [
        "df[df['Immunity']==1].shape[0] + df[df['Immunity']==0].shape[0]"
      ],
      "metadata": {
        "colab": {
          "base_uri": "https://localhost:8080/"
        },
        "id": "aTYzauLhcdG0",
        "outputId": "8515b0b0-d768-47ce-e94b-aeba46174322"
      },
      "execution_count": 28,
      "outputs": [
        {
          "output_type": "execute_result",
          "data": {
            "text/plain": [
              "3044"
            ]
          },
          "metadata": {},
          "execution_count": 28
        }
      ]
    },
    {
      "cell_type": "code",
      "source": [
        "# data\n",
        "names = ['1', '0']\n",
        "values = [df[df['Immunity']==1].shape[0], df[df['Immunity']==0].shape[0]]\n",
        "\n",
        "# create bar chart\n",
        "fig, ax = plt.subplots()\n",
        "ax.bar(names, values, color=['blue', 'red'], width=0.24)\n",
        "\n",
        "# set chart title and axis labels\n",
        "ax.set_title('Immunity in vaccinated patients')\n",
        "ax.set_ylabel('Cases', fontsize = 16)\n",
        "\n",
        "# Set Margins\n",
        "plt.margins(x=0.2, y=0.2)\n",
        "\n",
        "\n",
        "# Hide grid lines\n",
        "# plt.grid(False)\n",
        "\n",
        "# Hide axes ticks\n",
        "plt.yticks([0, 500, 1000, 1500, 2000])\n",
        "\n",
        "\n",
        "# show chart\n",
        "plt.show()"
      ],
      "metadata": {
        "colab": {
          "base_uri": "https://localhost:8080/",
          "height": 281
        },
        "id": "TA3ogXPsdCis",
        "outputId": "30a1e2a5-3d09-482b-9b78-6beb6ebc88f2"
      },
      "execution_count": 29,
      "outputs": [
        {
          "output_type": "display_data",
          "data": {
            "text/plain": [
              "<Figure size 432x288 with 1 Axes>"
            ],
            "image/png": "[encoded data removed]"
          },
          "metadata": {
            "needs_background": "light"
          }
        }
      ]
    },
    {
      "cell_type": "code",
      "source": [
        "# data\n",
        "labels = ['1', '0']\n",
        "sizes = [df[df['Immunity']==1].shape[0], df[df['Immunity']==0].shape[0]]\n",
        "\n",
        "# create donut chart\n",
        "fig, ax = plt.subplots()\n",
        "ax.pie(sizes, labels=labels, autopct='%1.0f%%', startangle=90, pctdistance=0.85)\n",
        "\n",
        "# create white circle in the center to make a donut chart\n",
        "circle = plt.Circle((0,0), 0.7, color='white')\n",
        "fig.gca().add_artist(circle)\n",
        "\n",
        "# set chart title\n",
        "ax.set_title('COVID_19 Vaccine Immunity')\n",
        "\n",
        "# show chart\n",
        "plt.show()"
      ],
      "metadata": {
        "colab": {
          "base_uri": "https://localhost:8080/",
          "height": 264
        },
        "id": "QAapMhImlhlu",
        "outputId": "0d164204-1ce2-46a6-8ad9-322036b35917"
      },
      "execution_count": 30,
      "outputs": [
        {
          "output_type": "display_data",
          "data": {
            "text/plain": [
              "<Figure size 432x288 with 1 Axes>"
            ],
            "image/png": "[encoded data removed]"
          },
          "metadata": {}
        }
      ]
    },
    {
      "cell_type": "code",
      "source": [
        "df['AgeGroupVacc'].unique()"
      ],
      "metadata": {
        "colab": {
          "base_uri": "https://localhost:8080/"
        },
        "id": "27sRjfQZUxFp",
        "outputId": "fcf5d626-65e6-402c-bf65-3316f877d1b1"
      },
      "execution_count": 31,
      "outputs": [
        {
          "output_type": "execute_result",
          "data": {
            "text/plain": [
              "array(['25 - 49 Years', '18 - 24 Years', '50 - 64 Years', '65+ Years',\n",
              "       '5 - 11 Years', '12 - 17 Years'], dtype=object)"
            ]
          },
          "metadata": {},
          "execution_count": 31
        }
      ]
    },
    {
      "cell_type": "code",
      "source": [
        "# Group by age_group and binary_value columns and count\n",
        "counts = df.groupby(['AgeGroupVacc', 'Immunity']).size().unstack()\n",
        "\n",
        "# desired order of the rows\n",
        "desired_order = [\"5 - 11 Years\", \"12 - 17 Years\", \"18 - 24 Years\", \"25 - 49 Years\", \"50 - 64 Years\", \"65+ Years\"]\n",
        "\n",
        "# reindex the dataframe with the desired order of rows\n",
        "counts = counts.reindex(index=desired_order)"
      ],
      "metadata": {
        "id": "g5H_h45kTuHz"
      },
      "execution_count": 32,
      "outputs": []
    },
    {
      "cell_type": "code",
      "source": [
        "counts"
      ],
      "metadata": {
        "colab": {
          "base_uri": "https://localhost:8080/",
          "height": 269
        },
        "id": "P_kUrTsUUNCE",
        "outputId": "200bebd7-0180-4b08-e071-de72aefe8a86"
      },
      "execution_count": 33,
      "outputs": [
        {
          "output_type": "execute_result",
          "data": {
            "text/plain": [
              "Immunity           0      1\n",
              "AgeGroupVacc               \n",
              "5 - 11 Years   264.0    NaN\n",
              "12 - 17 Years  378.0    NaN\n",
              "18 - 24 Years  413.0   56.0\n",
              "25 - 49 Years  353.0  292.0\n",
              "50 - 64 Years  188.0  457.0\n",
              "65+ Years      104.0  539.0"
            ],
            "text/html": [
              "\n",
              "  <div id=\"df-22f2826e-1215-4c81-9172-30e2a636d658\">\n",
              "    <div class=\"colab-df-container\">\n",
              "      <div>\n",
              "<style scoped>\n",
              "    .dataframe tbody tr th:only-of-type {\n",
              "        vertical-align: middle;\n",
              "    }\n",
              "\n",
              "    .dataframe tbody tr th {\n",
              "        vertical-align: top;\n",
              "    }\n",
              "\n",
              "    .dataframe thead th {\n",
              "        text-align: right;\n",
              "    }\n",
              "</style>\n",
              "<table border=\"1\" class=\"dataframe\">\n",
              "  <thead>\n",
              "    <tr style=\"text-align: right;\">\n",
              "      <th>Immunity</th>\n",
              "      <th>0</th>\n",
              "      <th>1</th>\n",
              "    </tr>\n",
              "    <tr>\n",
              "      <th>AgeGroupVacc</th>\n",
              "      <th></th>\n",
              "      <th></th>\n",
              "    </tr>\n",
              "  </thead>\n",
              "  <tbody>\n",
              "    <tr>\n",
              "      <th>5 - 11 Years</th>\n",
              "      <td>264.0</td>\n",
              "      <td>NaN</td>\n",
              "    </tr>\n",
              "    <tr>\n",
              "      <th>12 - 17 Years</th>\n",
              "      <td>378.0</td>\n",
              "      <td>NaN</td>\n",
              "    </tr>\n",
              "    <tr>\n",
              "      <th>18 - 24 Years</th>\n",
              "      <td>413.0</td>\n",
              "      <td>56.0</td>\n",
              "    </tr>\n",
              "    <tr>\n",
              "      <th>25 - 49 Years</th>\n",
              "      <td>353.0</td>\n",
              "      <td>292.0</td>\n",
              "    </tr>\n",
              "    <tr>\n",
              "      <th>50 - 64 Years</th>\n",
              "      <td>188.0</td>\n",
              "      <td>457.0</td>\n",
              "    </tr>\n",
              "    <tr>\n",
              "      <th>65+ Years</th>\n",
              "      <td>104.0</td>\n",
              "      <td>539.0</td>\n",
              "    </tr>\n",
              "  </tbody>\n",
              "</table>\n",
              "</div>\n",
              "      <button class=\"colab-df-convert\" onclick=\"convertToInteractive('df-22f2826e-1215-4c81-9172-30e2a636d658')\"\n",
              "              title=\"Convert this dataframe to an interactive table.\"\n",
              "              style=\"display:none;\">\n",
              "        \n",
              "  <svg xmlns=\"http://www.w3.org/2000/svg\" height=\"24px\"viewBox=\"0 0 24 24\"\n",
              "       width=\"24px\">\n",
              "    <path d=\"M0 0h24v24H0V0z\" fill=\"none\"/>\n",
              "    <path d=\"M18.56 5.44l.94 2.06.94-2.06 2.06-.94-2.06-.94-.94-2.06-.94 2.06-2.06.94zm-11 1L8.5 8.5l.94-2.06 2.06-.94-2.06-.94L8.5 2.5l-.94 2.06-2.06.94zm10 10l.94 2.06.94-2.06 2.06-.94-2.06-.94-.94-2.06-.94 2.06-2.06.94z\"/><path d=\"M17.41 7.96l-1.37-1.37c-.4-.4-.92-.59-1.43-.59-.52 0-1.04.2-1.43.59L10.3 9.45l-7.72 7.72c-.78.78-.78 2.05 0 2.83L4 21.41c.39.39.9.59 1.41.59.51 0 1.02-.2 1.41-.59l7.78-7.78 2.81-2.81c.8-.78.8-2.07 0-2.86zM5.41 20L4 18.59l7.72-7.72 1.47 1.35L5.41 20z\"/>\n",
              "  </svg>\n",
              "      </button>\n",
              "      \n",
              "  <style>\n",
              "    .colab-df-container {\n",
              "      display:flex;\n",
              "      flex-wrap:wrap;\n",
              "      gap: 12px;\n",
              "    }\n",
              "\n",
              "    .colab-df-convert {\n",
              "      background-color: #E8F0FE;\n",
              "      border: none;\n",
              "      border-radius: 50%;\n",
              "      cursor: pointer;\n",
              "      display: none;\n",
              "      fill: #1967D2;\n",
              "      height: 32px;\n",
              "      padding: 0 0 0 0;\n",
              "      width: 32px;\n",
              "    }\n",
              "\n",
              "    .colab-df-convert:hover {\n",
              "      background-color: #E2EBFA;\n",
              "      box-shadow: 0px 1px 2px rgba(60, 64, 67, 0.3), 0px 1px 3px 1px rgba(60, 64, 67, 0.15);\n",
              "      fill: #174EA6;\n",
              "    }\n",
              "\n",
              "    [theme=dark] .colab-df-convert {\n",
              "      background-color: #3B4455;\n",
              "      fill: #D2E3FC;\n",
              "    }\n",
              "\n",
              "    [theme=dark] .colab-df-convert:hover {\n",
              "      background-color: #434B5C;\n",
              "      box-shadow: 0px 1px 3px 1px rgba(0, 0, 0, 0.15);\n",
              "      filter: drop-shadow(0px 1px 2px rgba(0, 0, 0, 0.3));\n",
              "      fill: #FFFFFF;\n",
              "    }\n",
              "  </style>\n",
              "\n",
              "      <script>\n",
              "        const buttonEl =\n",
              "          document.querySelector('#df-22f2826e-1215-4c81-9172-30e2a636d658 button.colab-df-convert');\n",
              "        buttonEl.style.display =\n",
              "          google.colab.kernel.accessAllowed ? 'block' : 'none';\n",
              "\n",
              "        async function convertToInteractive(key) {\n",
              "          const element = document.querySelector('#df-22f2826e-1215-4c81-9172-30e2a636d658');\n",
              "          const dataTable =\n",
              "            await google.colab.kernel.invokeFunction('convertToInteractive',\n",
              "                                                     [key], {});\n",
              "          if (!dataTable) return;\n",
              "\n",
              "          const docLinkHtml = 'Like what you see? Visit the ' +\n",
              "            '<a target=\"_blank\" href=https://colab.research.google.com/notebooks/data_table.ipynb>data table notebook</a>'\n",
              "            + ' to learn more about interactive tables.';\n",
              "          element.innerHTML = '';\n",
              "          dataTable['output_type'] = 'display_data';\n",
              "          await google.colab.output.renderOutput(dataTable, element);\n",
              "          const docLink = document.createElement('div');\n",
              "          docLink.innerHTML = docLinkHtml;\n",
              "          element.appendChild(docLink);\n",
              "        }\n",
              "      </script>\n",
              "    </div>\n",
              "  </div>\n",
              "  "
            ]
          },
          "metadata": {},
          "execution_count": 33
        }
      ]
    },
    {
      "cell_type": "code",
      "source": [
        "# Plot bar chart\n",
        "counts.plot(kind='bar', stacked=True, color=['red', 'green'])\n",
        "\n",
        "# Add title and axis labels\n",
        "plt.title('Vaccine Effectiveness by age group')\n",
        "plt.xlabel('Age group')\n",
        "plt.ylabel('Immunity')\n",
        "\n",
        "# Show plot\n",
        "plt.show()"
      ],
      "metadata": {
        "colab": {
          "base_uri": "https://localhost:8080/",
          "height": 350
        },
        "id": "ezUMO5fPWzV5",
        "outputId": "f4e09556-f28c-401c-be4c-970f2dc87e9b"
      },
      "execution_count": 34,
      "outputs": [
        {
          "output_type": "display_data",
          "data": {
            "text/plain": [
              "<Figure size 432x288 with 1 Axes>"
            ],
            "image/png": "[encoded data removed]"
          },
          "metadata": {
            "needs_background": "light"
          }
        }
      ]
    },
    {
      "cell_type": "code",
      "source": [
        "# Set the color palette\n",
        "colors = ['#FF4136', '#2ECC40']\n",
        "\n",
        "# Calculate percentages\n",
        "total_counts = counts.sum(axis=1)\n",
        "percentages = counts.divide(total_counts, axis=0) * 100\n",
        "\n",
        "# Plot bar chart\n",
        "ax = percentages.plot(kind='bar', stacked=True, color=colors, figsize=(12, 8))\n",
        "\n",
        "# Add percentages as text labels\n",
        "for i in ax.containers:\n",
        "    ax.bar_label(i, label_type='edge', labels=[f'{int(j)}%' for j in i.datavalues])\n",
        "\n",
        "# Set the title and axis labels\n",
        "plt.title('Vaccine Effectiveness by age group', fontsize=20)\n",
        "plt.xlabel('Age group', fontsize=16)\n",
        "plt.ylabel('Immunity Count', fontsize=16)\n",
        "\n",
        "# Set Margins\n",
        "plt.margins(x=0.2, y=0.2)\n",
        "\n",
        "# Set the legend\n",
        "ax.legend([\"Vaccine wasn't effective\", 'Vaccine was effective'])\n",
        "\n",
        "# Show plot\n",
        "plt.show()"
      ],
      "metadata": {
        "colab": {
          "base_uri": "https://localhost:8080/",
          "height": 578
        },
        "id": "kcMcjEVqT9Ih",
        "outputId": "3b0c5b34-1ef5-46a7-f538-67ed54fdf054"
      },
      "execution_count": 36,
      "outputs": [
        {
          "output_type": "display_data",
          "data": {
            "text/plain": [
              "<Figure size 864x576 with 1 Axes>"
            ],
            "image/png": "[encoded data removed]"
          },
          "metadata": {
            "needs_background": "light"
          }
        }
      ]
    },
    {
      "cell_type": "markdown",
      "source": [
        "#Machine Learning Techniques"
      ],
      "metadata": {
        "id": "Ptz6Sqy0D-Nc"
      }
    },
    {
      "cell_type": "markdown",
      "source": [
        "##Data Preprocessing for Algorithms"
      ],
      "metadata": {
        "id": "u_lGbFGLQLuO"
      }
    },
    {
      "cell_type": "code",
      "source": [
        "print(df['AgeGroupVacc'].value_counts())\n",
        "print(\"_____________________________\")\n",
        "print(len(df['AgeGroupVacc'].unique()))"
      ],
      "metadata": {
        "id": "PS0e9htbRoJz",
        "colab": {
          "base_uri": "https://localhost:8080/"
        },
        "outputId": "51566845-26cc-40fc-fb6d-82a1f19828a6"
      },
      "execution_count": 37,
      "outputs": [
        {
          "output_type": "stream",
          "name": "stdout",
          "text": [
            "25 - 49 Years    645\n",
            "50 - 64 Years    645\n",
            "65+ Years        643\n",
            "18 - 24 Years    469\n",
            "12 - 17 Years    378\n",
            "5 - 11 Years     264\n",
            "Name: AgeGroupVacc, dtype: int64\n",
            "_____________________________\n",
            "6\n"
          ]
        }
      ]
    },
    {
      "cell_type": "code",
      "source": [
        "from sklearn import preprocessing\n",
        "\n",
        "le = preprocessing.LabelEncoder()\n",
        "df['AgeGroupVacc'] = le.fit_transform(df.AgeGroupVacc.values)"
      ],
      "metadata": {
        "id": "05SKVjjcRqHK"
      },
      "execution_count": 38,
      "outputs": []
    },
    {
      "cell_type": "code",
      "source": [
        "df.head()"
      ],
      "metadata": {
        "id": "AWDept0KRseq",
        "colab": {
          "base_uri": "https://localhost:8080/",
          "height": 206
        },
        "outputId": "a7f4a361-3d28-47bb-abf8-a02951484436"
      },
      "execution_count": 39,
      "outputs": [
        {
          "output_type": "execute_result",
          "data": {
            "text/plain": [
              "   AgeGroupVacc  7-day_avg_group_cases_per_100k  \\\n",
              "0             2                        4.375377   \n",
              "1             1                        4.940567   \n",
              "2             2                        5.533741   \n",
              "3             4                        4.938932   \n",
              "4             5                        6.052993   \n",
              "\n",
              "   Administered_Dose1_pct_agegroup  Series_Complete_Pop_pct_agegroup  Immunity  \n",
              "0                            0.840                             0.710         1  \n",
              "1                            0.805                             0.655         1  \n",
              "2                            0.840                             0.710         1  \n",
              "3                            0.946                             0.827         1  \n",
              "4                            0.950                             0.928         1  "
            ],
            "text/html": [
              "\n",
              "  <div id=\"df-2abb7354-9a24-43da-ae22-64b5d8434bd1\">\n",
              "    <div class=\"colab-df-container\">\n",
              "      <div>\n",
              "<style scoped>\n",
              "    .dataframe tbody tr th:only-of-type {\n",
              "        vertical-align: middle;\n",
              "    }\n",
              "\n",
              "    .dataframe tbody tr th {\n",
              "        vertical-align: top;\n",
              "    }\n",
              "\n",
              "    .dataframe thead th {\n",
              "        text-align: right;\n",
              "    }\n",
              "</style>\n",
              "<table border=\"1\" class=\"dataframe\">\n",
              "  <thead>\n",
              "    <tr style=\"text-align: right;\">\n",
              "      <th></th>\n",
              "      <th>AgeGroupVacc</th>\n",
              "      <th>7-day_avg_group_cases_per_100k</th>\n",
              "      <th>Administered_Dose1_pct_agegroup</th>\n",
              "      <th>Series_Complete_Pop_pct_agegroup</th>\n",
              "      <th>Immunity</th>\n",
              "    </tr>\n",
              "  </thead>\n",
              "  <tbody>\n",
              "    <tr>\n",
              "      <th>0</th>\n",
              "      <td>2</td>\n",
              "      <td>4.375377</td>\n",
              "      <td>0.840</td>\n",
              "      <td>0.710</td>\n",
              "      <td>1</td>\n",
              "    </tr>\n",
              "    <tr>\n",
              "      <th>1</th>\n",
              "      <td>1</td>\n",
              "      <td>4.940567</td>\n",
              "      <td>0.805</td>\n",
              "      <td>0.655</td>\n",
              "      <td>1</td>\n",
              "    </tr>\n",
              "    <tr>\n",
              "      <th>2</th>\n",
              "      <td>2</td>\n",
              "      <td>5.533741</td>\n",
              "      <td>0.840</td>\n",
              "      <td>0.710</td>\n",
              "      <td>1</td>\n",
              "    </tr>\n",
              "    <tr>\n",
              "      <th>3</th>\n",
              "      <td>4</td>\n",
              "      <td>4.938932</td>\n",
              "      <td>0.946</td>\n",
              "      <td>0.827</td>\n",
              "      <td>1</td>\n",
              "    </tr>\n",
              "    <tr>\n",
              "      <th>4</th>\n",
              "      <td>5</td>\n",
              "      <td>6.052993</td>\n",
              "      <td>0.950</td>\n",
              "      <td>0.928</td>\n",
              "      <td>1</td>\n",
              "    </tr>\n",
              "  </tbody>\n",
              "</table>\n",
              "</div>\n",
              "      <button class=\"colab-df-convert\" onclick=\"convertToInteractive('df-2abb7354-9a24-43da-ae22-64b5d8434bd1')\"\n",
              "              title=\"Convert this dataframe to an interactive table.\"\n",
              "              style=\"display:none;\">\n",
              "        \n",
              "  <svg xmlns=\"http://www.w3.org/2000/svg\" height=\"24px\"viewBox=\"0 0 24 24\"\n",
              "       width=\"24px\">\n",
              "    <path d=\"M0 0h24v24H0V0z\" fill=\"none\"/>\n",
              "    <path d=\"M18.56 5.44l.94 2.06.94-2.06 2.06-.94-2.06-.94-.94-2.06-.94 2.06-2.06.94zm-11 1L8.5 8.5l.94-2.06 2.06-.94-2.06-.94L8.5 2.5l-.94 2.06-2.06.94zm10 10l.94 2.06.94-2.06 2.06-.94-2.06-.94-.94-2.06-.94 2.06-2.06.94z\"/><path d=\"M17.41 7.96l-1.37-1.37c-.4-.4-.92-.59-1.43-.59-.52 0-1.04.2-1.43.59L10.3 9.45l-7.72 7.72c-.78.78-.78 2.05 0 2.83L4 21.41c.39.39.9.59 1.41.59.51 0 1.02-.2 1.41-.59l7.78-7.78 2.81-2.81c.8-.78.8-2.07 0-2.86zM5.41 20L4 18.59l7.72-7.72 1.47 1.35L5.41 20z\"/>\n",
              "  </svg>\n",
              "      </button>\n",
              "      \n",
              "  <style>\n",
              "    .colab-df-container {\n",
              "      display:flex;\n",
              "      flex-wrap:wrap;\n",
              "      gap: 12px;\n",
              "    }\n",
              "\n",
              "    .colab-df-convert {\n",
              "      background-color: #E8F0FE;\n",
              "      border: none;\n",
              "      border-radius: 50%;\n",
              "      cursor: pointer;\n",
              "      display: none;\n",
              "      fill: #1967D2;\n",
              "      height: 32px;\n",
              "      padding: 0 0 0 0;\n",
              "      width: 32px;\n",
              "    }\n",
              "\n",
              "    .colab-df-convert:hover {\n",
              "      background-color: #E2EBFA;\n",
              "      box-shadow: 0px 1px 2px rgba(60, 64, 67, 0.3), 0px 1px 3px 1px rgba(60, 64, 67, 0.15);\n",
              "      fill: #174EA6;\n",
              "    }\n",
              "\n",
              "    [theme=dark] .colab-df-convert {\n",
              "      background-color: #3B4455;\n",
              "      fill: #D2E3FC;\n",
              "    }\n",
              "\n",
              "    [theme=dark] .colab-df-convert:hover {\n",
              "      background-color: #434B5C;\n",
              "      box-shadow: 0px 1px 3px 1px rgba(0, 0, 0, 0.15);\n",
              "      filter: drop-shadow(0px 1px 2px rgba(0, 0, 0, 0.3));\n",
              "      fill: #FFFFFF;\n",
              "    }\n",
              "  </style>\n",
              "\n",
              "      <script>\n",
              "        const buttonEl =\n",
              "          document.querySelector('#df-2abb7354-9a24-43da-ae22-64b5d8434bd1 button.colab-df-convert');\n",
              "        buttonEl.style.display =\n",
              "          google.colab.kernel.accessAllowed ? 'block' : 'none';\n",
              "\n",
              "        async function convertToInteractive(key) {\n",
              "          const element = document.querySelector('#df-2abb7354-9a24-43da-ae22-64b5d8434bd1');\n",
              "          const dataTable =\n",
              "            await google.colab.kernel.invokeFunction('convertToInteractive',\n",
              "                                                     [key], {});\n",
              "          if (!dataTable) return;\n",
              "\n",
              "          const docLinkHtml = 'Like what you see? Visit the ' +\n",
              "            '<a target=\"_blank\" href=https://colab.research.google.com/notebooks/data_table.ipynb>data table notebook</a>'\n",
              "            + ' to learn more about interactive tables.';\n",
              "          element.innerHTML = '';\n",
              "          dataTable['output_type'] = 'display_data';\n",
              "          await google.colab.output.renderOutput(dataTable, element);\n",
              "          const docLink = document.createElement('div');\n",
              "          docLink.innerHTML = docLinkHtml;\n",
              "          element.appendChild(docLink);\n",
              "        }\n",
              "      </script>\n",
              "    </div>\n",
              "  </div>\n",
              "  "
            ]
          },
          "metadata": {},
          "execution_count": 39
        }
      ]
    },
    {
      "cell_type": "markdown",
      "source": [
        "##Support Vector machine"
      ],
      "metadata": {
        "id": "O8XS0Y1oS7GP"
      }
    },
    {
      "cell_type": "code",
      "source": [
        "#Seperating features and labels\n",
        "X = df.iloc[:, :4].values\n",
        "y = df.iloc[:, -1].values\n",
        "\n",
        "\n",
        "# split the data using Scikit-Learn's train_test_split\n",
        "from sklearn.model_selection import train_test_split\n",
        "X_train, X_test, y_train, y_test = train_test_split(X, y)"
      ],
      "metadata": {
        "id": "05AxbbuaO5Ad"
      },
      "execution_count": 40,
      "outputs": []
    },
    {
      "cell_type": "code",
      "source": [
        "#Import svm model\n",
        "from sklearn import svm\n",
        "\n",
        "#Create a svm Classifier\n",
        "clf = svm.SVC(kernel='linear') # Linear Kernel\n",
        "# clf = svm.SVC(kernel='rbf', C=10, gamma=0.001)\n",
        "\n",
        "#Train the model using the training sets\n",
        "clf.fit(X_train, y_train)\n",
        "\n",
        "#Predict the response for test dataset\n",
        "y_pred = clf.predict(X_test)"
      ],
      "metadata": {
        "id": "KQ_M_08gTap3"
      },
      "execution_count": 41,
      "outputs": []
    },
    {
      "cell_type": "code",
      "source": [
        "#Import scikit-learn metrics module for accuracy calculation\n",
        "from sklearn import metrics\n",
        "\n",
        "SVM_acc = metrics.accuracy_score(y_test, y_pred)*100\n",
        "# Model Accuracy: how often is the classifier correct?\n",
        "print(\"Accuracy:\", SVM_acc)"
      ],
      "metadata": {
        "id": "Da0AZX0wTgOU",
        "colab": {
          "base_uri": "https://localhost:8080/"
        },
        "outputId": "24ee21df-d60f-4c3f-b225-53ba9582fe5d"
      },
      "execution_count": 42,
      "outputs": [
        {
          "output_type": "stream",
          "name": "stdout",
          "text": [
            "Accuracy: 96.97766097240473\n"
          ]
        }
      ]
    },
    {
      "cell_type": "code",
      "source": [
        "print(metrics.classification_report(y_test, y_pred))"
      ],
      "metadata": {
        "id": "SY6neu1zDbn1",
        "colab": {
          "base_uri": "https://localhost:8080/"
        },
        "outputId": "a922f819-845a-4f39-83c6-302754256a6e"
      },
      "execution_count": 43,
      "outputs": [
        {
          "output_type": "stream",
          "name": "stdout",
          "text": [
            "              precision    recall  f1-score   support\n",
            "\n",
            "           0       0.98      0.96      0.97       433\n",
            "           1       0.95      0.98      0.97       328\n",
            "\n",
            "    accuracy                           0.97       761\n",
            "   macro avg       0.97      0.97      0.97       761\n",
            "weighted avg       0.97      0.97      0.97       761\n",
            "\n"
          ]
        }
      ]
    },
    {
      "cell_type": "code",
      "source": [
        "from sklearn.metrics import f1_score\n",
        "\n",
        "SVM_f1 = f1_score(y_test, y_pred)*100\n",
        "\n",
        "SVM_f1"
      ],
      "metadata": {
        "id": "-mOsBQhUjsYT",
        "colab": {
          "base_uri": "https://localhost:8080/"
        },
        "outputId": "da864291-0fe2-4c76-bc74-8ae7925e6dfa"
      },
      "execution_count": 44,
      "outputs": [
        {
          "output_type": "execute_result",
          "data": {
            "text/plain": [
              "96.54135338345866"
            ]
          },
          "metadata": {},
          "execution_count": 44
        }
      ]
    },
    {
      "cell_type": "markdown",
      "source": [
        "##Logistics Regression/Linear Classification"
      ],
      "metadata": {
        "id": "7hFAT8mNTj3W"
      }
    },
    {
      "cell_type": "code",
      "source": [
        "#Seperating features and labels\n",
        "X = df.iloc[:, :4].values\n",
        "y = df.iloc[:, -1].values\n",
        "\n",
        "\n",
        "# split the data using Scikit-Learn's train_test_split\n",
        "from sklearn.model_selection import train_test_split\n",
        "X_train, X_test, y_train, y_test = train_test_split(X, y)"
      ],
      "metadata": {
        "id": "-7Io0q8lTiTh"
      },
      "execution_count": 45,
      "outputs": []
    },
    {
      "cell_type": "code",
      "source": [
        "# from sklearn.linear_model import LogisticRegression\n",
        "\n",
        "# log_Regressor = LogisticRegression()\n",
        "# log_Regressor.fit(X_train , y_train)"
      ],
      "metadata": {
        "id": "LmPxxY31T3VJ"
      },
      "execution_count": 46,
      "outputs": []
    },
    {
      "cell_type": "code",
      "source": [
        "# from sklearn.linear_model import LogisticRegression\n",
        "# from sklearn.model_selection import GridSearchCV\n",
        "\n",
        "# # Define the hyperparameters to tune\n",
        "# hyperparameters = {\n",
        "#     'penalty': ['l1', 'l2'],\n",
        "#     'C': [0.01, 0.1, 1, 10, 100]\n",
        "# }\n",
        "\n",
        "# # Create a logistic regression model\n",
        "# log_Regressor = LogisticRegression()\n",
        "\n",
        "# # Use GridSearchCV to tune the hyperparameters\n",
        "# grid_search = GridSearchCV(log_Regressor, hyperparameters, cv=5, n_jobs=-1)\n",
        "# grid_search.fit(X_train, y_train)\n",
        "\n",
        "# # Print the best hyperparameters\n",
        "# print('Best Penalty:', grid_search.best_estimator_.get_params()['penalty'])\n",
        "# print('Best C:', grid_search.best_estimator_.get_params()['C'])\n",
        "\n",
        "# # Use the best hyperparameters to create a new logistic regression model\n",
        "# log_Regressor = LogisticRegression(penalty=grid_search.best_estimator_.get_params()['penalty'],\n",
        "#                                     C=grid_search.best_estimator_.get_params()['C'])\n",
        "# log_Regressor.fit(X_train, y_train)"
      ],
      "metadata": {
        "id": "h-BmAxXZ7-2d"
      },
      "execution_count": 47,
      "outputs": []
    },
    {
      "cell_type": "code",
      "source": [
        "# # Evaluate the accuracy of the model\n",
        "# LR_acc = log_Regressor.score(X_test, y_test)*100\n",
        "# print('Accuracy:', LR_acc)\n",
        "\n",
        "#Import scikit-learn metrics module for accuracy calculation\n",
        "from sklearn import metrics\n",
        "\n",
        "LR_acc = metrics.accuracy_score(y_test, y_pred)*100\n",
        "# Model Accuracy: how often is the classifier correct?\n",
        "print(\"Accuracy:\", LR_acc)"
      ],
      "metadata": {
        "id": "pIe1I0dlUBoa",
        "colab": {
          "base_uri": "https://localhost:8080/"
        },
        "outputId": "6160c7ff-78a6-4238-c99e-55d252c41f8b"
      },
      "execution_count": 48,
      "outputs": [
        {
          "output_type": "stream",
          "name": "stdout",
          "text": [
            "Accuracy: 51.64257555847569\n"
          ]
        }
      ]
    },
    {
      "cell_type": "code",
      "source": [
        "print(metrics.classification_report(y_test, y_pred))"
      ],
      "metadata": {
        "id": "7KD3qrb-DgEg",
        "colab": {
          "base_uri": "https://localhost:8080/"
        },
        "outputId": "16818722-6b8d-4393-d6de-4ccbb5e4b539"
      },
      "execution_count": 49,
      "outputs": [
        {
          "output_type": "stream",
          "name": "stdout",
          "text": [
            "              precision    recall  f1-score   support\n",
            "\n",
            "           0       0.59      0.56      0.58       442\n",
            "           1       0.43      0.45      0.44       319\n",
            "\n",
            "    accuracy                           0.52       761\n",
            "   macro avg       0.51      0.51      0.51       761\n",
            "weighted avg       0.52      0.52      0.52       761\n",
            "\n"
          ]
        }
      ]
    },
    {
      "cell_type": "code",
      "source": [
        "from sklearn.metrics import f1_score\n",
        "\n",
        "LR_f1 = f1_score(y_test, y_pred)*100\n",
        "\n",
        "LR_f1"
      ],
      "metadata": {
        "id": "PhCNxxI6kmK8",
        "colab": {
          "base_uri": "https://localhost:8080/"
        },
        "outputId": "b0b4d3f0-77ca-484d-bdce-9a17f9c0063c"
      },
      "execution_count": 50,
      "outputs": [
        {
          "output_type": "execute_result",
          "data": {
            "text/plain": [
              "43.90243902439025"
            ]
          },
          "metadata": {},
          "execution_count": 50
        }
      ]
    },
    {
      "cell_type": "markdown",
      "source": [
        "##Gaussian Naive Bayes"
      ],
      "metadata": {
        "id": "Zj1XJjyAUQhm"
      }
    },
    {
      "cell_type": "code",
      "source": [
        "#Seperating features and labels\n",
        "X = df.iloc[:, :1].values\n",
        "y = df.iloc[:, -1].values\n",
        "\n",
        "\n",
        "# split the data using Scikit-Learn's train_test_split\n",
        "from sklearn.model_selection import train_test_split\n",
        "X_train, X_test, y_train, y_test = train_test_split(X, y)"
      ],
      "metadata": {
        "id": "LHjJya5Ciizl"
      },
      "execution_count": 51,
      "outputs": []
    },
    {
      "cell_type": "code",
      "source": [
        "# training the model on training set\n",
        "from sklearn.naive_bayes import GaussianNB\n",
        "gnb = GaussianNB()\n",
        "gnb.fit(X_train, y_train)\n",
        " \n",
        "# making predictions on the testing set\n",
        "gnb_y_pred = gnb.predict(X_test)\n",
        "\n",
        "NB_acc = metrics.accuracy_score(y_test, gnb_y_pred)*100\n",
        "# Accuracy of the model\n",
        "print(\"ACCURACY OF THE MODEL: \", NB_acc)"
      ],
      "metadata": {
        "id": "6gzswgaCULgU",
        "colab": {
          "base_uri": "https://localhost:8080/"
        },
        "outputId": "4f5db3a7-800e-4e9f-dd97-24782e8bc7f2"
      },
      "execution_count": 52,
      "outputs": [
        {
          "output_type": "stream",
          "name": "stdout",
          "text": [
            "ACCURACY OF THE MODEL:  79.5006570302234\n"
          ]
        }
      ]
    },
    {
      "cell_type": "code",
      "source": [
        "print(metrics.classification_report(y_test, gnb_y_pred))"
      ],
      "metadata": {
        "id": "VB5UWM-NDhkf",
        "colab": {
          "base_uri": "https://localhost:8080/"
        },
        "outputId": "83dc74ea-3713-45a6-8c02-19422707e469"
      },
      "execution_count": 53,
      "outputs": [
        {
          "output_type": "stream",
          "name": "stdout",
          "text": [
            "              precision    recall  f1-score   support\n",
            "\n",
            "           0       0.80      0.85      0.82       423\n",
            "           1       0.79      0.73      0.76       338\n",
            "\n",
            "    accuracy                           0.80       761\n",
            "   macro avg       0.79      0.79      0.79       761\n",
            "weighted avg       0.79      0.80      0.79       761\n",
            "\n"
          ]
        }
      ]
    },
    {
      "cell_type": "code",
      "source": [
        "from sklearn.metrics import f1_score\n",
        "\n",
        "GNB_f1 = f1_score(y_test, gnb_y_pred)*100\n",
        "\n",
        "GNB_f1"
      ],
      "metadata": {
        "id": "TeagvDQ9kxqV",
        "colab": {
          "base_uri": "https://localhost:8080/"
        },
        "outputId": "9ec39baf-4fb0-41cb-b311-85b0bf9d0af3"
      },
      "execution_count": 54,
      "outputs": [
        {
          "output_type": "execute_result",
          "data": {
            "text/plain": [
              "76.0"
            ]
          },
          "metadata": {},
          "execution_count": 54
        }
      ]
    },
    {
      "cell_type": "markdown",
      "source": [
        "##XG Boost"
      ],
      "metadata": {
        "id": "2YKvk0V3Vpoj"
      }
    },
    {
      "cell_type": "code",
      "source": [
        "from sklearn import datasets\n",
        "from sklearn import metrics\n",
        "from sklearn.model_selection import train_test_split\n",
        "import matplotlib.pyplot as plt\n",
        "import seaborn as sns\n",
        "\n",
        "plt.style.use(\"ggplot\")\n",
        "\n",
        "import xgboost as xgb"
      ],
      "metadata": {
        "id": "dzk2QoaVWX-n"
      },
      "execution_count": 55,
      "outputs": []
    },
    {
      "cell_type": "code",
      "source": [
        "X_train, X_test, y_train, y_test = train_test_split(X, y, test_size=0.25)"
      ],
      "metadata": {
        "id": "_b9R25lVVnId"
      },
      "execution_count": 56,
      "outputs": []
    },
    {
      "cell_type": "code",
      "source": [
        "# model = xgb.XGBClassifier(learning_rate=0.1, max_depth=3, n_estimators=100, subsample=0.5, colsample_bytree=0.5, random_state=42)\n",
        "model = xgb.XGBClassifier()\n",
        "model.fit(X_train, y_train)\n",
        "print(); print(model)"
      ],
      "metadata": {
        "id": "cA0XKr5sWIzt",
        "colab": {
          "base_uri": "https://localhost:8080/"
        },
        "outputId": "2271826c-5786-48da-bba3-83d92d4716f1"
      },
      "execution_count": 57,
      "outputs": [
        {
          "output_type": "stream",
          "name": "stdout",
          "text": [
            "\n",
            "XGBClassifier(base_score=None, booster=None, callbacks=None,\n",
            "              colsample_bylevel=None, colsample_bynode=None,\n",
            "              colsample_bytree=None, early_stopping_rounds=None,\n",
            "              enable_categorical=False, eval_metric=None, feature_types=None,\n",
            "              gamma=None, gpu_id=None, grow_policy=None, importance_type=None,\n",
            "              interaction_constraints=None, learning_rate=None, max_bin=None,\n",
            "              max_cat_threshold=None, max_cat_to_onehot=None,\n",
            "              max_delta_step=None, max_depth=None, max_leaves=None,\n",
            "              min_child_weight=None, missing=nan, monotone_constraints=None,\n",
            "              n_estimators=100, n_jobs=None, num_parallel_tree=None,\n",
            "              predictor=None, random_state=None, ...)\n"
          ]
        }
      ]
    },
    {
      "cell_type": "code",
      "source": [
        "expected_y  = y_test\n",
        "predicted_y = model.predict(X_test)\n",
        "\n",
        "print(metrics.classification_report(expected_y, predicted_y))"
      ],
      "metadata": {
        "id": "BEUZqio0Wu-u",
        "colab": {
          "base_uri": "https://localhost:8080/"
        },
        "outputId": "9d03ba9e-7855-4477-a072-e9e7ae0bc333"
      },
      "execution_count": 58,
      "outputs": [
        {
          "output_type": "stream",
          "name": "stdout",
          "text": [
            "              precision    recall  f1-score   support\n",
            "\n",
            "           0       0.81      0.84      0.83       423\n",
            "           1       0.79      0.75      0.77       338\n",
            "\n",
            "    accuracy                           0.80       761\n",
            "   macro avg       0.80      0.80      0.80       761\n",
            "weighted avg       0.80      0.80      0.80       761\n",
            "\n"
          ]
        }
      ]
    },
    {
      "cell_type": "code",
      "source": [
        "XG_acc = metrics.accuracy_score(expected_y, predicted_y)*100\n",
        "\n",
        "print(\"ACCURACY OF THE MODEL: \", XG_acc)"
      ],
      "metadata": {
        "id": "ZFXFy0wmfyqf",
        "colab": {
          "base_uri": "https://localhost:8080/"
        },
        "outputId": "bda44fe4-6437-4421-960d-f11cea033c38"
      },
      "execution_count": 59,
      "outputs": [
        {
          "output_type": "stream",
          "name": "stdout",
          "text": [
            "ACCURACY OF THE MODEL:  80.15768725361366\n"
          ]
        }
      ]
    },
    {
      "cell_type": "code",
      "source": [
        "from sklearn.metrics import f1_score\n",
        "\n",
        "XG_f1 = f1_score(expected_y, predicted_y)*100\n",
        "\n",
        "XG_f1"
      ],
      "metadata": {
        "id": "L9kJmmxKlA1p",
        "colab": {
          "base_uri": "https://localhost:8080/"
        },
        "outputId": "e09f65ca-68a1-4b51-fc4e-93385ccb39a3"
      },
      "execution_count": 60,
      "outputs": [
        {
          "output_type": "execute_result",
          "data": {
            "text/plain": [
              "77.01674277016744"
            ]
          },
          "metadata": {},
          "execution_count": 60
        }
      ]
    },
    {
      "cell_type": "markdown",
      "source": [
        "##Random Forest"
      ],
      "metadata": {
        "id": "D-H1FNjDA_p0"
      }
    },
    {
      "cell_type": "code",
      "source": [
        "#Seperating features and labels\n",
        "X = df.iloc[:, :4].values\n",
        "y = df.iloc[:, -1].values\n",
        "\n",
        "# split the data using Scikit-Learn's train_test_split\n",
        "from sklearn.model_selection import train_test_split\n",
        "X_train, X_test, y_train, y_test = train_test_split(X, y)"
      ],
      "metadata": {
        "id": "WfTfNPUqBD9x"
      },
      "execution_count": 61,
      "outputs": []
    },
    {
      "cell_type": "code",
      "source": [
        "# importing random forest classifier from assemble module\n",
        "from sklearn.ensemble import RandomForestClassifier\n",
        "\n",
        "\n",
        "# creating a RF classifier\n",
        "# clf = RandomForestClassifier(n_estimators = 1, min_samples_split=850, min_samples_leaf=700, max_depth=1) \n",
        "clf = RandomForestClassifier() \n",
        "\n",
        "# Training the model on the training dataset\n",
        "clf.fit(X_train, y_train)\n",
        " \n",
        "# performing predictions on the test dataset\n",
        "y_pred = clf.predict(X_test)\n",
        "\n",
        "# metrics are used to find accuracy or error\n",
        "from sklearn import metrics \n",
        "print()\n",
        "\n",
        "RF_acc = metrics.accuracy_score(y_test, y_pred)*100\n",
        "# using metrics module for accuracy calculation\n",
        "print(\"ACCURACY OF THE MODEL: \", RF_acc)"
      ],
      "metadata": {
        "id": "Bv5ZtEvTBD3y",
        "colab": {
          "base_uri": "https://localhost:8080/"
        },
        "outputId": "8efea4ca-feb7-4882-a31d-36f5c130444a"
      },
      "execution_count": 62,
      "outputs": [
        {
          "output_type": "stream",
          "name": "stdout",
          "text": [
            "\n",
            "ACCURACY OF THE MODEL:  100.0\n"
          ]
        }
      ]
    },
    {
      "cell_type": "code",
      "source": [
        "print(metrics.classification_report(y_test, y_pred))"
      ],
      "metadata": {
        "id": "yQXF8EXpBO4Z",
        "colab": {
          "base_uri": "https://localhost:8080/"
        },
        "outputId": "81003a75-d27f-4a05-f454-a70d1fd3c860"
      },
      "execution_count": 63,
      "outputs": [
        {
          "output_type": "stream",
          "name": "stdout",
          "text": [
            "              precision    recall  f1-score   support\n",
            "\n",
            "           0       1.00      1.00      1.00       427\n",
            "           1       1.00      1.00      1.00       334\n",
            "\n",
            "    accuracy                           1.00       761\n",
            "   macro avg       1.00      1.00      1.00       761\n",
            "weighted avg       1.00      1.00      1.00       761\n",
            "\n"
          ]
        }
      ]
    },
    {
      "cell_type": "code",
      "source": [
        "RF_f1 = f1_score(expected_y, predicted_y)*100\n",
        "\n",
        "RF_f1"
      ],
      "metadata": {
        "id": "CyID_xtQlPtv",
        "colab": {
          "base_uri": "https://localhost:8080/"
        },
        "outputId": "c3900abb-b6c6-4b30-a934-cb5d3fcdf88b"
      },
      "execution_count": 64,
      "outputs": [
        {
          "output_type": "execute_result",
          "data": {
            "text/plain": [
              "77.01674277016744"
            ]
          },
          "metadata": {},
          "execution_count": 64
        }
      ]
    },
    {
      "cell_type": "markdown",
      "source": [
        "##Plotting Results of all algorithms"
      ],
      "metadata": {
        "id": "-JVk-CyIfaeJ"
      }
    },
    {
      "cell_type": "code",
      "source": [
        "import matplotlib.pyplot as plt\n",
        "import numpy as np\n",
        "from matplotlib.pyplot import figure\n",
        "\n",
        "figure(figsize=(10,6), dpi=80)\n",
        "\n",
        "# Create an array of 5 values\n",
        "data = np.round(np.array([RF_acc, LR_acc, NB_acc, SVM_acc, XG_acc]))\n",
        "\n",
        "# Specify the x-axis labels\n",
        "labels = ['RF', 'LR', 'GNB', 'SVM', 'XGBoost']\n",
        "\n",
        "# Colors\n",
        "colors = ['#eab676']\n",
        "\n",
        "# Create the histogram plot\n",
        "plt.bar(labels, data, color=colors, width=0.34)\n",
        "\n",
        "# Add values to each bar\n",
        "for i, v in enumerate(data):\n",
        "    plt.text(i, v, str(v), color='black', ha='center')\n",
        "\n",
        "# Add title and labels\n",
        "plt.title(\"Accuracies of all 5 models\", size=16, fontweight=\"bold\")\n",
        "\n",
        "# Set Margins\n",
        "plt.margins(x=0.1, y=0.1)\n",
        "\n",
        "# Hide grid lines\n",
        "# plt.grid(False)\n",
        "\n",
        "# Hide axes ticks\n",
        "# plt.xticks([])\n",
        "plt.yticks([0, 20, 40, 60, 80, 100])\n",
        "\n",
        "# Show the plot\n",
        "plt.show()\n"
      ],
      "metadata": {
        "id": "o_mGhhCSjk0f",
        "colab": {
          "base_uri": "https://localhost:8080/",
          "height": 433
        },
        "outputId": "29442abd-f521-494d-cc84-bc50e8ab13de"
      },
      "execution_count": 65,
      "outputs": [
        {
          "output_type": "display_data",
          "data": {
            "text/plain": [
              "<Figure size 800x480 with 1 Axes>"
            ],
            "image/png": "[encoded data removed]"
          },
          "metadata": {}
        }
      ]
    },
    {
      "cell_type": "code",
      "source": [
        "# Create a list of model names and their F1 scores\n",
        "model_names = ['RF', 'LR', 'GNB', 'SVM', 'XGBoost']\n",
        "f1_scores = [RF_f1, LR_f1, GNB_f1, SVM_f1, XG_f1]\n",
        "\n",
        "# Create a horizontal bar plot\n",
        "fig, ax = plt.subplots(figsize=(10, 8))\n",
        "\n",
        "# Define gradient color\n",
        "colors = plt.cm.Reds(np.linspace(0.3, 1, len(model_names)))\n",
        "\n",
        "# Add f1 score labels on bars\n",
        "for i, v in enumerate(f1_scores):\n",
        "    ax.text(v + 0.01, i, str(round(v, 2)), color='black')\n",
        "\n",
        "# Plot Horizontal bar\n",
        "ax.barh(model_names, f1_scores, align='center', color=colors, height=0.5)\n",
        "\n",
        "# Add axis labels and title\n",
        "ax.set_xlabel('F1 Scores')\n",
        "ax.set_ylabel('Models')\n",
        "ax.set_title('F1 Score Comparison of all 5 Models', size=16)\n",
        "\n",
        "# Set Margins\n",
        "ax.margins(x=0.12, y=0.12)\n",
        "\n",
        "# Set x-axis limits and tick labels\n",
        "ax.tick_params(axis='x', labelsize=10)\n",
        "\n",
        "# Hide top and right spines\n",
        "ax.spines['top'].set_visible(False)\n",
        "ax.spines['right'].set_visible(False)\n",
        "\n",
        "\n",
        "plt.show()"
      ],
      "metadata": {
        "id": "TlLrZsJjldjA",
        "colab": {
          "base_uri": "https://localhost:8080/",
          "height": 518
        },
        "outputId": "91070897-a474-4b98-d64a-f5db7f91462d"
      },
      "execution_count": 66,
      "outputs": [
        {
          "output_type": "display_data",
          "data": {
            "text/plain": [
              "<Figure size 720x576 with 1 Axes>"
            ],
            "image/png": "[encoded data removed]"
          },
          "metadata": {}
        }
      ]
    },
    {
      "cell_type": "code",
      "source": [
        "plt.figure()\n",
        "figure(figsize=(8,6), dpi=80)\n",
        "ax = sns.distplot(df['Series_Complete_Pop_pct_agegroup'][df.Immunity == 1], color = 'darkturquoise', rug=True)\n",
        "sns.distplot(df['Series_Complete_Pop_pct_agegroup'][df.Immunity == 0], color = 'lightcoral', rug=True)\n",
        "plt.legend(['Bad Immunity without Vaccination', \"Good Immunity with Vaccination\"])"
      ],
      "metadata": {
        "id": "6WgiKOZ4s3v1",
        "colab": {
          "base_uri": "https://localhost:8080/",
          "height": 466
        },
        "outputId": "38712b4b-e9ab-475a-d451-a056092ed026"
      },
      "execution_count": 67,
      "outputs": [
        {
          "output_type": "execute_result",
          "data": {
            "text/plain": [
              "<matplotlib.legend.Legend at 0x7fb43e7cb580>"
            ]
          },
          "metadata": {},
          "execution_count": 67
        },
        {
          "output_type": "display_data",
          "data": {
            "text/plain": [
              "<Figure size 432x288 with 0 Axes>"
            ]
          },
          "metadata": {}
        },
        {
          "output_type": "display_data",
          "data": {
            "text/plain": [
              "<Figure size 640x480 with 1 Axes>"
            ],
            "image/png": "[encoded data removed]"
          },
          "metadata": {}
        }
      ]
    },
    {
      "cell_type": "code",
      "source": [
        "import seaborn as sns\n",
        "\n",
        "figure(figsize=(10,6), dpi=80)\n",
        "\n",
        "model_names = ['RF', 'LR', 'GNB', 'SVM', 'XGBoost']\n",
        "f1_scores = [RF_f1, LR_f1, GNB_f1, SVM_f1, XG_f1]\n",
        "\n",
        "# Create a dictionary to store the data\n",
        "data = {'Model': model_names, 'F1 Score': f1_scores}\n",
        "\n",
        "# Convert data to pandas dataframe\n",
        "df = pd.DataFrame(data)\n",
        "\n",
        "# Create a bar plot using seaborn\n",
        "sns.set(style=\"whitegrid\")\n",
        "sns.barplot(x=\"Model\", y=\"F1 Score\", data=df, color=\"salmon\", palette=\"Blues_d\", saturation=0.7)\n",
        "\n",
        "# Add title and axis labels\n",
        "plt.title('F1 Scores of 5 ML Models')\n",
        "plt.xlabel('Model')\n",
        "plt.ylabel('F1 Score')\n",
        "\n",
        "# Show plot\n",
        "plt.show()"
      ],
      "metadata": {
        "id": "7Y4ylvDswNqU",
        "colab": {
          "base_uri": "https://localhost:8080/",
          "height": 453
        },
        "outputId": "3574f1a1-0d05-4e63-d4da-16b056086a30"
      },
      "execution_count": 68,
      "outputs": [
        {
          "output_type": "display_data",
          "data": {
            "text/plain": [
              "<Figure size 800x480 with 1 Axes>"
            ],
            "image/png": "[encoded data removed]"
          },
          "metadata": {}
        }
      ]
    },
    {
      "cell_type": "code",
      "source": [],
      "metadata": {
        "id": "NNGqrXDavWLl"
      },
      "execution_count": 68,
      "outputs": []
    }
  ],
  "metadata": {
    "colab": {
      "provenance": [],
      "collapsed_sections": [
        "O8XS0Y1oS7GP",
        "7hFAT8mNTj3W",
        "Zj1XJjyAUQhm",
        "2YKvk0V3Vpoj"
      ]
    },
    "kernelspec": {
      "display_name": "Python 3",
      "name": "python3"
    },
    "language_info": {
      "name": "python"
    }
  },
  "nbformat": 4,
  "nbformat_minor": 0
}